{
 "cells": [
  {
   "cell_type": "markdown",
   "id": "f2696088-f6b6-4321-8827-fac150abdfee",
   "metadata": {},
   "source": [
    "Note: If I don't specify the output in below means, if u write that code it won't give any output"
   ]
  },
  {
   "cell_type": "markdown",
   "id": "5de0f37b-767f-42e4-b661-7cb73f78b806",
   "metadata": {
    "jp-MarkdownHeadingCollapsed": true
   },
   "source": [
    "## **Phase 1** -> Stages of GIT"
   ]
  },
  {
   "cell_type": "markdown",
   "id": "309c88a9-5ef7-44a8-8533-c1b00563851b",
   "metadata": {},
   "source": [
    "#### <span style=\"color:#FF5733; font-weight:bold;\">Create a path where your git should be placed and go there</span>\n",
    "\n",
    "mkdir == make directory"
   ]
  },
  {
   "cell_type": "code",
   "execution_count": null,
   "id": "2cbfa98c-88e9-4701-81b5-79d9a917d212",
   "metadata": {},
   "outputs": [],
   "source": [
    "mkdir -p gittest "
   ]
  },
  {
   "cell_type": "markdown",
   "id": "00132552-6683-44be-8501-1e7412b02c67",
   "metadata": {},
   "source": [
    "#### <span style=\"color:#FF5733; font-weight:bold;\">To go that directory</span>\n",
    "\n",
    "cd ==  change directory"
   ]
  },
  {
   "cell_type": "code",
   "execution_count": null,
   "id": "e063268d-f7ec-402d-93a9-6f38377f969e",
   "metadata": {},
   "outputs": [],
   "source": [
    "cd gittest"
   ]
  },
  {
   "cell_type": "markdown",
   "id": "d2bbf1d0-2f03-4ff2-a02b-e41e94cafbe1",
   "metadata": {},
   "source": [
    "Output will look like:"
   ]
  },
  {
   "cell_type": "raw",
   "id": "f2df08ea-5b95-49f1-a003-7c0e9bd3f66e",
   "metadata": {},
   "source": [
    "manojbnp@tellur:~/my_gittest$"
   ]
  },
  {
   "cell_type": "markdown",
   "id": "419f8718-83b9-46e8-b9d0-919c761c5d0c",
   "metadata": {},
   "source": [
    "#### <span style=\"color:#FF5733; font-weight:bold;\">Initialize the git</span>"
   ]
  },
  {
   "cell_type": "code",
   "execution_count": null,
   "id": "6a7f50fc-f291-4957-a8b1-8c1c6e169788",
   "metadata": {},
   "outputs": [],
   "source": [
    "git init"
   ]
  },
  {
   "cell_type": "markdown",
   "id": "43790fca-39c8-468e-aedf-add4d3761146",
   "metadata": {},
   "source": [
    "Output will look like:"
   ]
  },
  {
   "cell_type": "raw",
   "id": "bd30db19-bf8b-4aba-9b26-b726faeb7f06",
   "metadata": {},
   "source": [
    "manojbnp@tellur:~/my_gittest$ git init\n",
    "\n",
    "Hinweis: Als Name für den initialen Branch wurde 'master' benutzt. Dieser\n",
    "Hinweis: Standard-Branchname kann sich ändern. Um den Namen des initialen Branches\n",
    "Hinweis: zu konfigurieren, der in allen neuen Repositories verwendet werden soll und\n",
    "Hinweis: um diese Warnung zu unterdrücken, führen Sie aus:\n",
    "Hinweis: \n",
    "Hinweis: \tgit config --global init.defaultBranch <Name>\n",
    "Hinweis: \n",
    "Hinweis: Häufig gewählte Namen statt 'master' sind 'main', 'trunk' und\n",
    "Hinweis: 'development'. Der gerade erstellte Branch kann mit diesem Befehl\n",
    "Hinweis: umbenannt werden:\n",
    "Hinweis: \n",
    "Hinweis: \tgit branch -m <Name>\n",
    "Leeres Git-Repository in /upb/users/m/manojbnp/profiles/unix/imt/my_gittest/.git/ initialisiert"
   ]
  },
  {
   "cell_type": "markdown",
   "id": "0e5f0ed6-5069-420f-bed2-6369dcf04047",
   "metadata": {},
   "source": [
    "#### <span style=\"color:#FF5733; font-weight:bold;\">Create a file</span>\n",
    "\n",
    "Note that: we didn't specifically created Information.txt file and added the data/text 'My first project' if we use the below command it will automatically create the .txt file and it will write that data into that file"
   ]
  },
  {
   "cell_type": "code",
   "execution_count": null,
   "id": "d7fcc867-4464-4dea-9f6d-814f232242f2",
   "metadata": {},
   "outputs": [],
   "source": [
    "echo \"My first project \" > Information.txt"
   ]
  },
  {
   "cell_type": "markdown",
   "id": "e219a28e-04bc-4179-88e6-4ab405e61ad6",
   "metadata": {},
   "source": [
    "<span style=\"color:#FF5733; font-weight:bold;\">Add the file to the git</span>\n",
    "\n",
    "why this step u will understand further when u see the status"
   ]
  },
  {
   "cell_type": "code",
   "execution_count": null,
   "id": "af48ce71-0f40-4311-add5-645ce2869ca0",
   "metadata": {},
   "outputs": [],
   "source": [
    "git add Information.txt"
   ]
  },
  {
   "cell_type": "markdown",
   "id": "81b84835-2035-42e4-9ddb-d3bc0a7340c2",
   "metadata": {},
   "source": [
    "<span style=\"color:#FF5733; font-weight:bold;\">Commit that file</span>\n",
    "\n",
    "this is very important otherwise it won't add"
   ]
  },
  {
   "cell_type": "code",
   "execution_count": null,
   "id": "c4554ceb-85e5-4980-9c86-4b3af843ffa6",
   "metadata": {},
   "outputs": [],
   "source": [
    "git commit -m \"Inital project version \""
   ]
  },
  {
   "cell_type": "markdown",
   "id": "28b62300-6409-46d6-9555-8e6c7455c64c",
   "metadata": {},
   "source": [
    "\"Inital project version \" is just a comment about what we did"
   ]
  },
  {
   "cell_type": "markdown",
   "id": "33903f68-6030-4adc-8e07-0c787e2d78f4",
   "metadata": {},
   "source": [
    "Output will look like:"
   ]
  },
  {
   "cell_type": "raw",
   "id": "2bf8ef77-0f49-433a-b0d5-b217582a381d",
   "metadata": {},
   "source": [
    "manojbnp@tellur:~/my_gittest$ git commit -m \"Inital project version\"\n",
    "\n",
    "[master (Root-Commit) 085c70d] Inital project version\n",
    " 1 file changed, 1 insertion(+)\n",
    " create mode 100644 Information.txt"
   ]
  },
  {
   "cell_type": "markdown",
   "id": "b2c3a612-6ad2-4c84-b77e-81ffb7dde3a5",
   "metadata": {},
   "source": [
    "#### <span style=\"color:#FF5733; font-weight:bold;\">Add a new file to the git</span>\n",
    "\n",
    "Same thing again : we didn't specifically created secondfile.txt file and added the data/text 'University' if we use the below command it will automatically create the .txt file and it will write that data into that file"
   ]
  },
  {
   "cell_type": "code",
   "execution_count": null,
   "id": "9d3f8b31-56b4-4a58-9b06-1506b5baf768",
   "metadata": {},
   "outputs": [],
   "source": [
    "echo \"University\" > secondfile.txt"
   ]
  },
  {
   "cell_type": "markdown",
   "id": "132b08cf-1570-495b-9bcc-74f04e9af363",
   "metadata": {},
   "source": [
    "<span style=\"color:green\">Status</span>"
   ]
  },
  {
   "cell_type": "code",
   "execution_count": null,
   "id": "90ac48c6-dff1-4781-a0d0-dfd625216ad0",
   "metadata": {},
   "outputs": [],
   "source": [
    "git status"
   ]
  },
  {
   "cell_type": "markdown",
   "id": "3051e568-12be-488f-9259-90340b699e51",
   "metadata": {},
   "source": [
    "output: "
   ]
  },
  {
   "cell_type": "raw",
   "id": "3b297991-e883-462a-b5ac-05876fc06867",
   "metadata": {},
   "source": [
    "manojbnp@tellur:~/my_gittest$ git status\n",
    "\n",
    "Auf Branch master\n",
    "Unversionierte Dateien:\n",
    "  (benutzen Sie \"git add <Datei>...\", um die Änderungen zum Commit vorzumerken)\n",
    "\tsecondfile.txt\n",
    "\n",
    "nichts zum Commit vorgemerkt, aber es gibt unversionierte Dateien\n",
    "(benutzen Sie \"git add\" zum Versionieren)"
   ]
  },
  {
   "cell_type": "raw",
   "id": "11d184d2-dd58-4382-86c6-f30ba85730a4",
   "metadata": {},
   "source": [
    "On branch master\n",
    "Untracked files :\n",
    "  (use \" git add < file >...\" to include in what will be committed)\n",
    "    secondfile . txt\n",
    "\n",
    "nothing added to commit but untracked files present (use \" git add\" to track )"
   ]
  },
  {
   "cell_type": "markdown",
   "id": "35829a52-65af-4fad-a837-dfc458e4cddc",
   "metadata": {},
   "source": [
    "See here we can see that it's a untracked file because we just create the file but didn't added or commited  so it is showing code to add this \"git add <Datei>...\""
   ]
  },
  {
   "cell_type": "markdown",
   "id": "35eb547d-fcd5-4edc-b37c-4da7ebc3b464",
   "metadata": {},
   "source": [
    "#### <span style=\"color:#FF5733; font-weight:bold;\">Adding data into the file (or) Change a file</span>\n",
    "\n",
    "means adding the data 'Paderborn' to the file Information.txt"
   ]
  },
  {
   "cell_type": "code",
   "execution_count": null,
   "id": "e32e29cc-19c3-439a-87c4-b50265cda505",
   "metadata": {},
   "outputs": [],
   "source": [
    "echo \"Paderborn\" >> Information.txt"
   ]
  },
  {
   "cell_type": "markdown",
   "id": "09ca5b27-1b11-4793-bb47-60781a122ba7",
   "metadata": {},
   "source": [
    "'Paderborn' is the text/data which we write into the Information.txt file"
   ]
  },
  {
   "cell_type": "markdown",
   "id": "2a3e8aad-0c18-4906-a997-f7a5fd4d01fa",
   "metadata": {},
   "source": [
    "<span style=\"color:green\">Status</span>"
   ]
  },
  {
   "cell_type": "code",
   "execution_count": null,
   "id": "c4a8c5a7-0fac-4759-b78b-7f5838226498",
   "metadata": {},
   "outputs": [],
   "source": [
    "git status"
   ]
  },
  {
   "cell_type": "markdown",
   "id": "5566f913-dc9a-43cf-a9a0-caa44b1f545d",
   "metadata": {},
   "source": [
    "Output:"
   ]
  },
  {
   "cell_type": "raw",
   "id": "ed7cd64c-bb23-44e8-987d-37ff05e326e8",
   "metadata": {},
   "source": [
    "manojbnp@tellur:~/my_gittest$ git status\n",
    "\n",
    "Auf Branch master\n",
    "Änderungen, die nicht zum Commit vorgemerkt sind:\n",
    "  (benutzen Sie \"git add <Datei>...\", um die Änderungen zum Commit vorzumerken)\n",
    "  (benutzen Sie \"git restore <Datei>...\", um die Änderungen im Arbeitsverzeichnis zu verwerfen)\n",
    "\tgeändert:       Information.txt\n",
    "\n",
    "Unversionierte Dateien:\n",
    "  (benutzen Sie \"git add <Datei>...\", um die Änderungen zum Commit vorzumerken)\n",
    "\tsecondfile.txt\n",
    "\n",
    "keine Änderungen zum Commit vorgemerkt (benutzen Sie \"git add\" und/oder \"git commit -a\")"
   ]
  },
  {
   "cell_type": "raw",
   "id": "305356eb-965b-478f-b35a-b1d192cf9b27",
   "metadata": {},
   "source": [
    "On branch master\n",
    "Changes not staged for commit:\n",
    "  (use \" git add < file >...\" to update what will be committed)\n",
    "  (use \" git restore < file >...\" to discard changes in working directory )\n",
    "    modified :       Information.txt\n",
    "\n",
    "Untracked files :\n",
    "  (use \" git add < file >...\" to include in what will be committed)\n",
    "    secondfile . txt\n",
    "\n",
    "no changes added to commit (use \"git add\" and/or \" git commit -a\")"
   ]
  },
  {
   "cell_type": "markdown",
   "id": "b072edc5-fda0-46ec-ad00-8fd688b34aab",
   "metadata": {},
   "source": [
    "Here again we can see the --->  Changes not staged for commit: Information.txt and Untracked files :secondfile.txt\n",
    "\n",
    "\n",
    "“Changes not staged for commit” : Meaning: A file that is tracked has been modified in the working directory but not yet staged"
   ]
  },
  {
   "cell_type": "markdown",
   "id": "9cb2bf42-36c9-4e74-a08a-e650a26d92f1",
   "metadata": {},
   "source": [
    "#### <span style=\"color:#FF5733; font-weight:bold;\">So now add that changes to the stage</span>\n",
    "\n",
    "git add is a multipurpose command: Use it to begin tracking new files, to stage files, and to mark\n",
    "merge-conflicted files as resolved"
   ]
  },
  {
   "cell_type": "code",
   "execution_count": null,
   "id": "9d037be4-0172-4e82-813a-9c3c24fc6af0",
   "metadata": {},
   "outputs": [],
   "source": [
    "git add Information.txt"
   ]
  },
  {
   "cell_type": "markdown",
   "id": "7e679e04-54c0-4d50-87c5-74e758b45d69",
   "metadata": {},
   "source": [
    "<span style=\"color:green\">Status</span>"
   ]
  },
  {
   "cell_type": "code",
   "execution_count": null,
   "id": "50a8a369-d629-4df2-bfb1-ec226741b3da",
   "metadata": {},
   "outputs": [],
   "source": [
    "git status"
   ]
  },
  {
   "cell_type": "markdown",
   "id": "e7b95bc2-4af1-4ac8-98ed-4a8021e50abe",
   "metadata": {},
   "source": [
    "Output:"
   ]
  },
  {
   "cell_type": "raw",
   "id": "70977ff1-e622-4378-b25c-3c2e916819e1",
   "metadata": {},
   "source": [
    "manojbnp@tellur:~/my_gittest$ git status\n",
    "\n",
    "Auf Branch master\n",
    "Zum Commit vorgemerkte Änderungen:\n",
    "  (benutzen Sie \"git restore --staged <Datei>...\" zum Entfernen aus der Staging-Area)\n",
    "\tgeändert:       Information.txt\n",
    "\n",
    "Unversionierte Dateien:\n",
    "  (benutzen Sie \"git add <Datei>...\", um die Änderungen zum Commit vorzumerken)\n",
    "\tsecondfile.txt"
   ]
  },
  {
   "cell_type": "raw",
   "id": "2ef0b151-9cd8-47af-aaf7-19d6ff2a198f",
   "metadata": {},
   "source": [
    "On branch master\n",
    "Changes to be committed:\n",
    "  (use \" git restore - -staged < file >...\" to unstage)\n",
    "    modified :      Information.txt\n",
    "\n",
    "Untracked files :\n",
    "  (use \" git add < file >...\" to include in what will be committed)\n",
    "    secondfile . txt"
   ]
  },
  {
   "cell_type": "markdown",
   "id": "a18374f4-89da-4b7f-8d0e-732b12d5b060",
   "metadata": {},
   "source": [
    "So now we can the Changes have been comitted and still we have Untracked files beacsue still we didn't added that"
   ]
  },
  {
   "cell_type": "markdown",
   "id": "b572d28a-5993-43b4-9bb4-05d6d3973a4e",
   "metadata": {},
   "source": [
    "#### <span style=\"color:#FF5733; font-weight:bold;\">Now again add some more data into that file</span>"
   ]
  },
  {
   "cell_type": "code",
   "execution_count": null,
   "id": "60270f7b-1dc4-42fc-8879-ad6aa0ccac83",
   "metadata": {},
   "outputs": [],
   "source": [
    "echo \"Engineering\" >> Information.txt"
   ]
  },
  {
   "cell_type": "markdown",
   "id": "7f456035-f2a6-4195-a396-fd7970ac69a5",
   "metadata": {},
   "source": [
    "'Engineering' is the text/data which we write into the Information.txt file"
   ]
  },
  {
   "cell_type": "markdown",
   "id": "09f75696-bff9-4372-a8e6-646fee706bba",
   "metadata": {},
   "source": [
    "<span style=\"color:green\">Status</span>"
   ]
  },
  {
   "cell_type": "code",
   "execution_count": null,
   "id": "8a059785-32ed-4d62-acec-62eb668a8863",
   "metadata": {},
   "outputs": [],
   "source": [
    "git status"
   ]
  },
  {
   "cell_type": "markdown",
   "id": "e2d8c11d-8f0d-4d13-92b6-3839e961b41b",
   "metadata": {},
   "source": [
    "Output:"
   ]
  },
  {
   "cell_type": "raw",
   "id": "fd93c3ec-1944-46b1-8dcd-a25ec371561c",
   "metadata": {},
   "source": [
    "manojbnp@tellur:~/my_gittest$ git status\n",
    "\n",
    "Auf Branch master\n",
    "Zum Commit vorgemerkte Änderungen:\n",
    "  (benutzen Sie \"git restore --staged <Datei>...\" zum Entfernen aus der Staging-Area)\n",
    "\tgeändert:       Information.txt\n",
    "\n",
    "Änderungen, die nicht zum Commit vorgemerkt sind:\n",
    "  (benutzen Sie \"git add <Datei>...\", um die Änderungen zum Commit vorzumerken)\n",
    "  (benutzen Sie \"git restore <Datei>...\", um die Änderungen im Arbeitsverzeichnis zu verwerfen)\n",
    "\tgeändert:       Information.txt\n",
    "\n",
    "Unversionierte Dateien:\n",
    "  (benutzen Sie \"git add <Datei>...\", um die Änderungen zum Commit vorzumerken)\n",
    "\tsecondfile.txt"
   ]
  },
  {
   "cell_type": "raw",
   "id": "b6aa0fa9-5777-46d1-a6c7-3f24dbe1ebf1",
   "metadata": {},
   "source": [
    "On branch master\n",
    "  Changes to be committed:\n",
    "    modified :      Information.txt\n",
    "\n",
    "  Changes not staged for commit:\n",
    "    modified :    Information.txt\n",
    "\n",
    "  Untracked files :\n",
    "    secondfile.txt"
   ]
  },
  {
   "cell_type": "markdown",
   "id": "2e34148b-a8a5-4f8d-b17a-6dbe397ebacc",
   "metadata": {},
   "source": [
    "So now we will get a clear picture about \n",
    "\n",
    "* Changes that are commited :: Information.txt :: (because) echo \"Paderborn\" >> Information.txt ----> git add Information.txt\n",
    "\n",
    "* Change not staged for comit :: Information.txt :: (because just) echo \"Engineering\" >> Information.txt\n",
    "\n",
    "* Untracked :: secondfile.txt :: (because we just created the file but didn't added or commited)"
   ]
  },
  {
   "cell_type": "markdown",
   "id": "bef183c7-dc16-488e-8787-6f8477d23ede",
   "metadata": {},
   "source": [
    "#### <span style=\"color:#FF5733; font-weight:bold;\">Shortcut to get status</span>"
   ]
  },
  {
   "cell_type": "code",
   "execution_count": null,
   "id": "ef1ee74d-c31d-4981-88c5-1ddfc6d1737d",
   "metadata": {},
   "outputs": [],
   "source": [
    "git status -s"
   ]
  },
  {
   "cell_type": "markdown",
   "id": "81695404-d61f-4aa9-8205-12b58d696711",
   "metadata": {},
   "source": [
    "output:"
   ]
  },
  {
   "cell_type": "raw",
   "id": "1581e02a-2077-4d1a-b469-aa1273d76154",
   "metadata": {},
   "source": [
    "manojbnp@tellur:~/my_gittest$ git status -s\n",
    "\n",
    "MM Information.txt\n",
    "?? secondfile.txt"
   ]
  },
  {
   "cell_type": "markdown",
   "id": "4b210b72-be08-4de9-b982-75b7c0f580e6",
   "metadata": {},
   "source": [
    "* \"??\" = untracked\n",
    "* \"MM\" = [Modifed staged | Modified not staged]"
   ]
  },
  {
   "cell_type": "markdown",
   "id": "58cd7229-eac3-40b3-90cd-5a79f7a5e53b",
   "metadata": {},
   "source": [
    "#### <span style=\"color:#FF5733; font-weight:bold;\">GIT ignore file</span>\n",
    "\n",
    "Filter mask to suppress files to be shown as \"untracked\", e.g.\n",
    "* Temporary files, build files or results\n",
    "* Files created by an automated process\n",
    "* Logging related files\n",
    "* Example .gitignore file"
   ]
  },
  {
   "cell_type": "code",
   "execution_count": null,
   "id": "52a4c5bc-ec6f-4e84-96b6-093551dc59f9",
   "metadata": {},
   "outputs": [],
   "source": [
    "cat . gitignore"
   ]
  },
  {
   "cell_type": "markdown",
   "id": "10ac3682-4481-4350-8945-631f277f41ad",
   "metadata": {},
   "source": [
    "#### <span style=\"color:#FF5733; font-weight:bold;\">GIT diff</span>"
   ]
  },
  {
   "cell_type": "code",
   "execution_count": null,
   "id": "0e9af788-8df6-408b-8295-2e2f7cedb06a",
   "metadata": {},
   "outputs": [],
   "source": [
    "git diff"
   ]
  },
  {
   "cell_type": "markdown",
   "id": "68edcb7b-89d4-46f9-b9c5-3f828ec568c2",
   "metadata": {},
   "source": [
    "Output:"
   ]
  },
  {
   "cell_type": "raw",
   "id": "d4bf04b8-bda0-46ae-9845-8714463d1607",
   "metadata": {},
   "source": [
    "manojbnp@tellur:~/my_gittest$ git diff\n",
    "\n",
    "diff --git a/Information.txt b/Information.txt\n",
    "index 84301e1..64b07a0 100644\n",
    "--- a/Information.txt\n",
    "+++ b/Information.txt\n",
    "@@ -1,2 +1,3 @@\n",
    " My first project\n",
    " Paderborn\n",
    "+Engineering"
   ]
  },
  {
   "cell_type": "markdown",
   "id": "955d3c1b-2aee-4550-bb9b-ccd39dbd4328",
   "metadata": {},
   "source": [
    "Unstaged change appears with a \"+\" sign indicating that it has been added\n",
    "\n",
    "Since we just added the text 'Engineering' to Information.txt file and we didn't added or commited it so + sign in fronth of that\n",
    "\n",
    "but we added for text:  'My first project' and 'Paderborn'"
   ]
  },
  {
   "cell_type": "code",
   "execution_count": null,
   "id": "3118c5d6-d399-4ebc-a3ad-e3a54cf95faa",
   "metadata": {},
   "outputs": [],
   "source": [
    "git diff --staged"
   ]
  },
  {
   "cell_type": "markdown",
   "id": "69f8d381-1e5f-4a0c-b313-49893a5e17e3",
   "metadata": {},
   "source": [
    "output:"
   ]
  },
  {
   "cell_type": "raw",
   "id": "c2d8387a-4ff8-4591-944f-cd3c24139aa5",
   "metadata": {},
   "source": [
    "manojbnp@tellur:~/my_gittest$ git diff --staged\n",
    "diff --git a/Information.txt b/Information.txt\n",
    "index 0971ce9..84301e1 100644\n",
    "--- a/Information.txt\n",
    "+++ b/Information.txt\n",
    "@@ -1 +1,2 @@\n",
    " My first project\n",
    "+Paderborn"
   ]
  },
  {
   "cell_type": "markdown",
   "id": "48303dd7-fc47-47e4-9c2d-88cff8c73393",
   "metadata": {},
   "source": [
    "Here we can see the first change to Information.txt, i.e., the word \"Paderborn\", but the second change \"Engineering\" is not mentioned\n",
    "\n",
    "same like above but now it will add + sign to the added information \n",
    "\n",
    "Since we added and commited the tect 'My first project' there is no plus sign\n",
    "we just added the text 'Paderborn' and not commited it so plus sign\n",
    "\n",
    "(Go to top and see if u want confirmation)"
   ]
  },
  {
   "cell_type": "markdown",
   "id": "685acb0b-ca2b-471a-87e4-29d3aad394b0",
   "metadata": {},
   "source": [
    "#### <span style=\"color:#FF5733; font-weight:bold;\">GIT commit</span>\n",
    "\n",
    "* Committing changes applies only to staged changes (u will see in the below)\n",
    "* Each commit requires a meaningful commit message (here the message is: 'Added a word for the tutorial '"
   ]
  },
  {
   "cell_type": "code",
   "execution_count": null,
   "id": "5f292ee1-b006-4ea9-8696-3614533af69d",
   "metadata": {},
   "outputs": [],
   "source": [
    "git commit -m \"Added a word for the tutorial \""
   ]
  },
  {
   "cell_type": "markdown",
   "id": "1bae1e58-992a-4a92-ad23-75d5d00c207b",
   "metadata": {},
   "source": [
    "output:"
   ]
  },
  {
   "cell_type": "raw",
   "id": "b63c4951-cfc7-44e1-be7a-0b03e5452006",
   "metadata": {},
   "source": [
    "manojbnp@tellur:~/my_gittest$ git commit -m \"Added a word for the tutorial \"\n",
    "\n",
    "[master 93ecba5] Added a word for the tutorial\n",
    " 1 file changed, 1 insertion(+)"
   ]
  },
  {
   "cell_type": "markdown",
   "id": "0f429e13-81dc-4eb4-83b5-3767f75cf519",
   "metadata": {},
   "source": [
    "<span style=\"color:green\">Status</span>"
   ]
  },
  {
   "cell_type": "code",
   "execution_count": null,
   "id": "57b316f6-9386-4a68-9607-fa1ac85fdf28",
   "metadata": {},
   "outputs": [],
   "source": [
    "git status"
   ]
  },
  {
   "cell_type": "markdown",
   "id": "2d0c026f-dfbb-404b-8eb8-2f09205819b9",
   "metadata": {},
   "source": [
    "Output:"
   ]
  },
  {
   "cell_type": "raw",
   "id": "5eaefafa-ddd0-4c64-b39a-748bf756e3b9",
   "metadata": {},
   "source": [
    "manojbnp@tellur:~/my_gittest$ git status\n",
    "\n",
    "Auf Branch master\n",
    "Änderungen, die nicht zum Commit vorgemerkt sind:\n",
    "  (benutzen Sie \"git add <Datei>...\", um die Änderungen zum Commit vorzumerken)\n",
    "  (benutzen Sie \"git restore <Datei>...\", um die Änderungen im Arbeitsverzeichnis zu verwerfen)\n",
    "\tgeändert:       Information.txt\n",
    "\n",
    "Unversionierte Dateien:\n",
    "  (benutzen Sie \"git add <Datei>...\", um die Änderungen zum Commit vorzumerken)\n",
    "\tsecondfile.txt\n",
    "\n",
    "keine Änderungen zum Commit vorgemerkt (benutzen Sie \"git add\" und/oder \"git commit -a\")"
   ]
  },
  {
   "cell_type": "raw",
   "id": "ca37863d-6fad-4ed6-8bd7-94dd0923cdf6",
   "metadata": {},
   "source": [
    "On branch master\n",
    "Changes not staged for commit:\n",
    "    modified : Information.txt\n",
    "\n",
    "Untracked files :\n",
    "    secondfile.txt\n",
    "\n",
    "no changes added to commit (use \"git add\" and/or \" git commit -a\")"
   ]
  },
  {
   "cell_type": "markdown",
   "id": "4661ea1d-af9d-4aee-ae87-3cbe721a5488",
   "metadata": {},
   "source": [
    "So after comitt  only the unstaged changes and untracked files remain\n",
    "\n",
    "Changes not staged for commit: modified : Information.txt (because just: echo \"Engineering\" >> Information.txt not added \n",
    "Untracked files : secondfile.txt (because: because we just created the file but didn't added or commited)"
   ]
  },
  {
   "cell_type": "markdown",
   "id": "9a6ece58-75b1-413f-9484-bb59f09efbc0",
   "metadata": {},
   "source": [
    "To sum it up what we did:\n",
    "\n",
    "* \"My first project \" -> written, added, commited\n",
    "* 'University' -> written, added, commited (just before only)\n",
    "* 'Engineering' -> written, commited (just before only)\n",
    "\n",
    "* 'University' -> written into another text file i.e secondfile.txt"
   ]
  },
  {
   "cell_type": "markdown",
   "id": "16c23952-2b46-4c54-a230-978e8d5141ba",
   "metadata": {},
   "source": [
    "#### <span style=\"color:#FF5733; font-weight:bold;\">GIT commit without staging area</span>"
   ]
  },
  {
   "cell_type": "markdown",
   "id": "83316578-da30-4676-ba9f-7965496e96dd",
   "metadata": {},
   "source": [
    "In the above added meand staging (these are all fo our understanding)"
   ]
  },
  {
   "cell_type": "code",
   "execution_count": null,
   "id": "01fef5ba-7517-47c3-9ebf-eb58c31e789d",
   "metadata": {},
   "outputs": [],
   "source": [
    "git commit -a -m \"Commit without staging\""
   ]
  },
  {
   "cell_type": "markdown",
   "id": "85205a5b-9b88-406a-829d-4c92a5693bae",
   "metadata": {},
   "source": [
    "output:"
   ]
  },
  {
   "cell_type": "raw",
   "id": "e4f4cdf1-02c3-47f5-ae41-6062826cc402",
   "metadata": {},
   "source": [
    "manojbnp@tellur:~/my_gittest$ git commit -a -m \"Commit without staging\"\n",
    "\n",
    "[master 69cea8f] Commit without staging\n",
    " 1 file changed, 1 insertion(+)"
   ]
  },
  {
   "cell_type": "markdown",
   "id": "87eea7fe-756a-4dd7-9e9a-be53f6e160be",
   "metadata": {},
   "source": [
    "<span style=\"color:green\">Status</span>"
   ]
  },
  {
   "cell_type": "code",
   "execution_count": null,
   "id": "5ebc674e-77ec-4d6a-b41d-1a8f61c98132",
   "metadata": {},
   "outputs": [],
   "source": [
    "git status"
   ]
  },
  {
   "cell_type": "markdown",
   "id": "20ee8123-c750-4d80-99b8-05ff40a4ff81",
   "metadata": {},
   "source": [
    "output"
   ]
  },
  {
   "cell_type": "raw",
   "id": "3557129a-0177-4070-87f0-34b81b72b68e",
   "metadata": {},
   "source": [
    "manojbnp@tellur:~/my_gittest$ git status\n",
    "\n",
    "Auf Branch master\n",
    "Unversionierte Dateien:\n",
    "  (benutzen Sie \"git add <Datei>...\", um die Änderungen zum Commit vorzumerken)\n",
    "\tsecondfile.txt\n",
    "\n",
    "nichts zum Commit vorgemerkt, aber es gibt unversionierte Dateien\n",
    "(benutzen Sie \"git add\" zum Versionieren)"
   ]
  },
  {
   "cell_type": "raw",
   "id": "dc38f65b-ec26-4e1d-8392-b53122c44018",
   "metadata": {},
   "source": [
    "On branch master\n",
    "Untracked files :\n",
    "secondfile . txt\n",
    "\n",
    "nothing added to commit but untracked files present"
   ]
  },
  {
   "cell_type": "markdown",
   "id": "35397092-cafa-4d04-8ef1-376b1bbc82de",
   "metadata": {},
   "source": [
    "Just compare the status of above and now and see the difference u can easily understand (we have also commited the 'Engineering' also without staging (add)"
   ]
  },
  {
   "cell_type": "markdown",
   "id": "9b3ba9aa-4761-4c68-886b-031bb8b67577",
   "metadata": {},
   "source": [
    "#### <span style=\"color:#FF5733; font-weight:bold;\">Removing a file</span>"
   ]
  },
  {
   "cell_type": "markdown",
   "id": "9cd4dbc2-9c31-4bd6-956f-ffabaad647c2",
   "metadata": {},
   "source": [
    "**Option 1:** First remove and then stage the change"
   ]
  },
  {
   "cell_type": "code",
   "execution_count": null,
   "id": "9aca0d1c-2eff-4a70-99c8-4738958ea1bf",
   "metadata": {},
   "outputs": [],
   "source": [
    "rm Information.txt"
   ]
  },
  {
   "cell_type": "markdown",
   "id": "5df95083-0f4b-4717-abe3-66299c3a9e2f",
   "metadata": {},
   "source": [
    "output:"
   ]
  },
  {
   "cell_type": "code",
   "execution_count": null,
   "id": "0a7b5e3a-6ac8-4f4f-a25a-42addc122ca8",
   "metadata": {},
   "outputs": [],
   "source": [
    "manojbnp@tellur:~/my_gittest$ rm Information.txt\n",
    "\n",
    "rm: reguläre Datei 'Information.txt' entfernen? y"
   ]
  },
  {
   "cell_type": "markdown",
   "id": "fe9667cd-39e7-45fa-9d01-2aa5574c9d92",
   "metadata": {},
   "source": [
    "<span style=\"color:green\">Status</span>"
   ]
  },
  {
   "cell_type": "code",
   "execution_count": null,
   "id": "70012b64-eaf3-4c5d-8f45-d4b63ae3ffc1",
   "metadata": {},
   "outputs": [],
   "source": [
    "git status"
   ]
  },
  {
   "cell_type": "markdown",
   "id": "49992f38-3332-42e0-a0e0-b3f8203c5ad9",
   "metadata": {},
   "source": [
    "output:"
   ]
  },
  {
   "cell_type": "raw",
   "id": "dfe01a20-b934-4938-810c-acc54a6b415b",
   "metadata": {},
   "source": [
    "manojbnp@tellur:~/my_gittest$ git status\n",
    "\n",
    "Auf Branch master\n",
    "Änderungen, die nicht zum Commit vorgemerkt sind:\n",
    "  (benutzen Sie \"git add/rm <Datei>...\", um die Änderungen zum Commit vorzumerken)\n",
    "  (benutzen Sie \"git restore <Datei>...\", um die Änderungen im Arbeitsverzeichnis zu verwerfen)\n",
    "\tgelöscht:       Information.txt\n",
    "\n",
    "Unversionierte Dateien:\n",
    "  (benutzen Sie \"git add <Datei>...\", um die Änderungen zum Commit vorzumerken)\n",
    "\tsecondfile.txt\n",
    "\n",
    "keine Änderungen zum Commit vorgemerkt (benutzen Sie \"git add\" und/oder \"git commit -a\")"
   ]
  },
  {
   "cell_type": "raw",
   "id": "b8c24269-cd22-4c1a-8b0b-9fc1eed0b937",
   "metadata": {},
   "source": [
    "On branch master\n",
    "Changes not staged for commit:\n",
    "    deleted :     Information.txt\n",
    "\n",
    "Untracked files :\n",
    "    secondfile.txt\n",
    "\n",
    "no changes added to commit"
   ]
  },
  {
   "cell_type": "markdown",
   "id": "3189f876-4e00-4187-b6cc-b20e0dfe9024",
   "metadata": {},
   "source": [
    "Removing a file from the harddisk\n",
    "\n",
    "* does not delete the file in the git\n",
    "* is visible as a change that is not staged"
   ]
  },
  {
   "cell_type": "markdown",
   "id": "7ebeb2fe-0ad3-4679-acc0-22510857da8f",
   "metadata": {},
   "source": [
    "**Option 2:** Remove file and stage with one command"
   ]
  },
  {
   "cell_type": "code",
   "execution_count": null,
   "id": "4191447f-0e81-486c-b1eb-98b72a4c034e",
   "metadata": {},
   "outputs": [],
   "source": [
    "git rm Information . txt"
   ]
  },
  {
   "cell_type": "markdown",
   "id": "b387d901-0556-444c-8ad5-34788b788ef7",
   "metadata": {},
   "source": [
    "Output:"
   ]
  },
  {
   "cell_type": "raw",
   "id": "7f001d79-631a-4a8f-bfaa-938cd6b199bc",
   "metadata": {},
   "source": [
    "manojbnp@tellur:~/my_gittest$ git rm Information.txt\n",
    "\n",
    "rm 'Information.txt'"
   ]
  },
  {
   "cell_type": "markdown",
   "id": "d2e3512c-a61a-4a64-a6af-02019300e8fc",
   "metadata": {},
   "source": [
    "<span style=\"color:green\">Status</span>"
   ]
  },
  {
   "cell_type": "code",
   "execution_count": null,
   "id": "1c8b5a23-8d24-4014-ba80-955e7749403a",
   "metadata": {},
   "outputs": [],
   "source": [
    "git status"
   ]
  },
  {
   "cell_type": "markdown",
   "id": "7b7f5639-1b83-4ffc-96fb-5f7864ea5d0f",
   "metadata": {},
   "source": [
    "Output:"
   ]
  },
  {
   "cell_type": "raw",
   "id": "4b865b0c-c294-438c-828a-17f82685533b",
   "metadata": {},
   "source": [
    "manojbnp@tellur:~/my_gittest$ git status\n",
    "\n",
    "Auf Branch master\n",
    "Zum Commit vorgemerkte Änderungen:\n",
    "  (benutzen Sie \"git restore --staged <Datei>...\" zum Entfernen aus der Staging-Area)\n",
    "\tgelöscht:       Information.txt\n",
    "\n",
    "Unversionierte Dateien:\n",
    "  (benutzen Sie \"git add <Datei>...\", um die Änderungen zum Commit vorzumerken)\n",
    "\tsecondfile.txt"
   ]
  },
  {
   "cell_type": "code",
   "execution_count": null,
   "id": "06176b3a-5475-4b39-829a-fc7e0a03067f",
   "metadata": {},
   "outputs": [],
   "source": [
    "On branch master\n",
    "Changes to be committed:\n",
    "    deleted : Information . txt\n",
    "\n",
    "Untracked files :\n",
    "    secondfile . txt"
   ]
  },
  {
   "cell_type": "markdown",
   "id": "3aacc30c-43fb-4d41-86d2-57f2f66aa9a3",
   "metadata": {},
   "source": [
    "Removes file from harddisk and stages the change"
   ]
  },
  {
   "cell_type": "markdown",
   "id": "c0a183d1-f0d6-415f-beed-bbd42674a748",
   "metadata": {},
   "source": [
    "**Option 3:** Keeps file on harddisk and removes it from git (staged change)"
   ]
  },
  {
   "cell_type": "code",
   "execution_count": null,
   "id": "64df7814-a525-4509-96a6-433c623f5f2c",
   "metadata": {},
   "outputs": [],
   "source": [
    "git rm --cached Information.txt"
   ]
  },
  {
   "cell_type": "markdown",
   "id": "f5e2ed9f-400e-4883-b27c-efd629f201b7",
   "metadata": {},
   "source": [
    "Output:"
   ]
  },
  {
   "cell_type": "raw",
   "id": "3d623d1b-fa78-4507-b201-aaa113b83d7a",
   "metadata": {},
   "source": [
    "manojbnp@tellur:~/my_gittest$ git rm --cached dummyfile.txt\n",
    "\n",
    "rm 'dummyfile.txt'"
   ]
  },
  {
   "cell_type": "markdown",
   "id": "3af19786-0c81-4b3a-89d3-21edc8411d4c",
   "metadata": {},
   "source": [
    "#### <span style=\"color:#FF5733; font-weight:bold;\">Moving a file</span>\n",
    "\n",
    "Note: Make sure to add and commmit the files before moving i.e"
   ]
  },
  {
   "cell_type": "code",
   "execution_count": null,
   "id": "400dc847-3271-4eae-a344-2b38b3fb8fdb",
   "metadata": {},
   "outputs": [],
   "source": [
    "git add secondfile.txt\n",
    "git commit -a -m \"Added the second file\""
   ]
  },
  {
   "cell_type": "markdown",
   "id": "a26cd825-6b17-4381-8aa1-1ddf9cd4a031",
   "metadata": {},
   "source": [
    "Note: There is small difference between the before we used commit code line and now commit code line, the difference is \n",
    "\n",
    "* git commit -a is a convenience for committing all modified/deleted tracked files without an explicit git add\n",
    "* git commit (without -a) only commits changes that have been explicitly staged using git add. This is the more common and generally recommended workflow as it encourages careful staging of changes."
   ]
  },
  {
   "cell_type": "markdown",
   "id": "ebf828f7-cb94-4878-a1a9-19f0f5899543",
   "metadata": {},
   "source": [
    "##### Option 1: Directly move and stage the change"
   ]
  },
  {
   "cell_type": "code",
   "execution_count": null,
   "id": "3b2968f5-3aab-4c44-9d29-2ae4738cb645",
   "metadata": {},
   "outputs": [],
   "source": [
    "git mv secondfile.txt thirdfile.txt"
   ]
  },
  {
   "cell_type": "markdown",
   "id": "03e43f56-e86a-46c4-b7c7-b441be6b430d",
   "metadata": {},
   "source": [
    "<span style=\"color:green\">Status</span>"
   ]
  },
  {
   "cell_type": "code",
   "execution_count": null,
   "id": "5d263df2-af77-46a1-8b03-ac0cdbd5fa1d",
   "metadata": {},
   "outputs": [],
   "source": [
    "git status"
   ]
  },
  {
   "cell_type": "markdown",
   "id": "22ddf9de-3e55-4470-baf2-39b9ce9fa9c4",
   "metadata": {},
   "source": [
    "output:"
   ]
  },
  {
   "cell_type": "raw",
   "id": "bc35039d-ff3f-47bc-9c8a-fe6e43aef731",
   "metadata": {},
   "source": [
    "anojbnp@tellur:~/gittest$ git status\n",
    "\n",
    "Auf Branch master\n",
    "Zum Commit vorgemerkte Änderungen:\n",
    "  (benutzen Sie \"git restore --staged <Datei>...\" zum Entfernen aus der Staging-Area)\n",
    "\tumbenannt:      secondfile.txt -> thirdfile.txt"
   ]
  },
  {
   "cell_type": "raw",
   "id": "2cdd6475-6e81-4ba3-91b6-7e6d22e51ad1",
   "metadata": {},
   "source": [
    "On branch master\n",
    "Changes to be committed:\n",
    "    renamed: secondfile.txt -> thirdfile.txt"
   ]
  },
  {
   "cell_type": "markdown",
   "id": "fdb7f91d-f253-439c-8255-0aa1971e6781",
   "metadata": {},
   "source": [
    "##### Option 2: Move file and stage the changes by hand"
   ]
  },
  {
   "cell_type": "code",
   "execution_count": null,
   "id": "aa41de30-a439-48a2-98ac-eb3d3a426e7d",
   "metadata": {},
   "outputs": [],
   "source": [
    "mv secondfile.txt thirdfile.txt"
   ]
  },
  {
   "cell_type": "code",
   "execution_count": null,
   "id": "6be00bd9-9847-44a4-9f9c-3bb72585af65",
   "metadata": {},
   "outputs": [],
   "source": [
    "git rm secondfile.txt\n",
    "git add thirdfile.txt"
   ]
  },
  {
   "cell_type": "markdown",
   "id": "759aa994-db4f-43b6-9c1c-aaa744fcb523",
   "metadata": {},
   "source": [
    "<span style=\"color:green\">Status</span>"
   ]
  },
  {
   "cell_type": "code",
   "execution_count": null,
   "id": "c3653992-8ffd-4d10-a3af-a05e3706b3fc",
   "metadata": {},
   "outputs": [],
   "source": [
    "git status"
   ]
  },
  {
   "cell_type": "markdown",
   "id": "9caa4676-2299-4000-b97d-f56bad1bd1ba",
   "metadata": {},
   "source": [
    "output:"
   ]
  },
  {
   "cell_type": "raw",
   "id": "59dce28d-4cfc-4a11-9aa7-35fc8af46920",
   "metadata": {},
   "source": [
    "manojbnp@tellur:~/gittest$ git status\n",
    "\n",
    "Auf Branch master\n",
    "Zum Commit vorgemerkte Änderungen:\n",
    "  (benutzen Sie \"git restore --staged <Datei>...\" zum Entfernen aus der Staging-Area)\n",
    "\tumbenannt:      secondfile.txt -> thirdfile.txt"
   ]
  },
  {
   "cell_type": "markdown",
   "id": "b8c531e7-605f-4e35-855d-c190d370d942",
   "metadata": {},
   "source": [
    "#### <span style=\"color:#FF5733; font-weight:bold;\">GIT history from log</span>"
   ]
  },
  {
   "cell_type": "code",
   "execution_count": null,
   "id": "6740a3d1-abe4-4d2a-90ee-9c91ccccd338",
   "metadata": {},
   "outputs": [],
   "source": [
    "git log"
   ]
  },
  {
   "cell_type": "raw",
   "id": "d6b5751f-b27b-4a40-8006-d20257382622",
   "metadata": {},
   "source": [
    "manojbnp@tellur:~/gittest$ git log\n",
    "\n",
    "commit 3e0252443382f4408588a48942f5d8b8af2aeaf3 (HEAD -> master)\n",
    "Author: Manoj <manoj@mail.upb.de>\n",
    "Date:   Tue Jul 1 19:27:54 2025 +0200\n",
    "\n",
    "    Added the second file\n",
    "\n",
    "commit e3928b6f4d13bf0e4f2cdb6be977f5289c4a5144\n",
    "Author: Manoj <manoj@mail.upb.de>\n",
    "Date:   Tue Jul 1 19:25:41 2025 +0200\n",
    "\n",
    "    Intial project version"
   ]
  },
  {
   "cell_type": "markdown",
   "id": "56933b13-2611-4bc2-995f-e2a5a680dbd3",
   "metadata": {},
   "source": [
    "#### <span style=\"color:#FF5733; font-weight:bold;\">Unstaging staged file</span>"
   ]
  },
  {
   "cell_type": "code",
   "execution_count": null,
   "id": "c26abec0-36c7-4742-8940-8da918d3d315",
   "metadata": {},
   "outputs": [],
   "source": [
    "echo \"Fourth file contet\" > fourthfile.txt\n",
    "git add fourthfile.txt\n",
    "git commit -a -m \"Added file number four\""
   ]
  },
  {
   "cell_type": "code",
   "execution_count": null,
   "id": "491d1032-3e5f-4935-8d55-9d80c6b2ee3b",
   "metadata": {},
   "outputs": [],
   "source": [
    "echo \"hgjhbjkh\" > fourthfile.txt"
   ]
  },
  {
   "cell_type": "markdown",
   "id": "b6cc5efc-9756-40c9-b025-a84cb82ee623",
   "metadata": {},
   "source": [
    "<span style=\"color:green\">Status</span>"
   ]
  },
  {
   "cell_type": "code",
   "execution_count": null,
   "id": "9c275d2c-053e-4655-ae1b-7a8fca456dc4",
   "metadata": {},
   "outputs": [],
   "source": [
    "git status"
   ]
  },
  {
   "cell_type": "markdown",
   "id": "461e0d23-6457-43b1-8601-4ef3f80f51a0",
   "metadata": {},
   "source": [
    "output:"
   ]
  },
  {
   "cell_type": "raw",
   "id": "4ee8db2d-0e2e-4f5a-9e30-5c727d21e994",
   "metadata": {},
   "source": [
    "anojbnp@tellur:~/gittest$ git status\n",
    "\n",
    "Auf Branch master\n",
    "Änderungen, die nicht zum Commit vorgemerkt sind:\n",
    "  (benutzen Sie \"git add <Datei>...\", um die Änderungen zum Commit vorzumerken)\n",
    "  (benutzen Sie \"git restore <Datei>...\", um die Änderungen im Arbeitsverzeichnis zu verwerfen)\n",
    "\tgeändert:       fourthfile.txt\n",
    "\n",
    "keine Änderungen zum Commit vorgemerkt (benutzen Sie \"git add\" und/oder \"git commit -a\")"
   ]
  },
  {
   "cell_type": "raw",
   "id": "e9abfb1c-4652-40f4-8537-305caed5aa8b",
   "metadata": {},
   "source": [
    "On branch master\n",
    "Changes not staged for commit:\n",
    "    modified :      fourthfile . txt\n",
    "\n",
    "no changes added to commit (use \"git add\" and/or \" git commit -a\")"
   ]
  },
  {
   "cell_type": "code",
   "execution_count": null,
   "id": "e77be957-da76-4017-82e5-aab9e98b7d94",
   "metadata": {},
   "outputs": [],
   "source": [
    "git reset HEAD fourthfile.txt"
   ]
  },
  {
   "cell_type": "raw",
   "id": "7bbfe1fb-9930-458b-a566-c0b3d55e786a",
   "metadata": {},
   "source": [
    "manojbnp@tellur:~/gittest$ git reset HEAD fourthfile.txt\n",
    "\n",
    "Nicht zum Commit vorgemerkte Änderungen nach Zurücksetzung:\n",
    "M\tfourthfile.txt"
   ]
  },
  {
   "cell_type": "raw",
   "id": "e18674c3-1428-447a-9bb4-a407ec2ffd4e",
   "metadata": {},
   "source": [
    "Unstaged changes after reset :\n",
    "M   fourthfile . txt"
   ]
  },
  {
   "cell_type": "markdown",
   "id": "35e9fda3-bafe-4bff-97c6-ae07f9778709",
   "metadata": {},
   "source": [
    "<span style=\"color:green\">Status</span>"
   ]
  },
  {
   "cell_type": "code",
   "execution_count": null,
   "id": "a8f222bf-55b8-4591-bf1a-a83959f4a57f",
   "metadata": {},
   "outputs": [],
   "source": [
    "git status"
   ]
  },
  {
   "cell_type": "markdown",
   "id": "d631abb9-a1f1-4f3a-8b44-77ec5d8bf072",
   "metadata": {},
   "source": [
    "output:"
   ]
  },
  {
   "cell_type": "raw",
   "id": "cab481e5-ddc3-47e9-bd75-d021606bf563",
   "metadata": {},
   "source": [
    "manojbnp@tellur:~/gittest$ git status\n",
    "\n",
    "Auf Branch master\n",
    "Änderungen, die nicht zum Commit vorgemerkt sind:\n",
    "  (benutzen Sie \"git add <Datei>...\", um die Änderungen zum Commit vorzumerken)\n",
    "  (benutzen Sie \"git restore <Datei>...\", um die Änderungen im Arbeitsverzeichnis zu verwerfen)\n",
    "\tgeändert:       fourthfile.txt\n",
    "\n",
    "keine Änderungen zum Commit vorgemerkt (benutzen Sie \"git add\" und/oder \"git commit -a\")"
   ]
  },
  {
   "cell_type": "raw",
   "id": "381ab23e-6e2d-449e-8f2b-883243ef29a8",
   "metadata": {},
   "source": [
    "On branch master\n",
    "Changes not staged for commit:\n",
    "    modified :      fourthfile.txt\n",
    "\n",
    "no changes added to commit (use \"git add\" and/or \" git commit -a\")"
   ]
  },
  {
   "cell_type": "markdown",
   "id": "b1323486-eae5-47ec-b2e4-fb2c4e228ffc",
   "metadata": {},
   "source": [
    "#### <span style=\"color:#FF5733; font-weight:bold;\">Unmodifying a Modified File</span>"
   ]
  },
  {
   "cell_type": "code",
   "execution_count": null,
   "id": "233b7b73-8a4b-47fe-8d82-9d400755feb9",
   "metadata": {},
   "outputs": [],
   "source": [
    "git checkout - - fourthfile.txt"
   ]
  },
  {
   "cell_type": "markdown",
   "id": "a5a6ed2f-8824-4780-b524-868fc323d202",
   "metadata": {},
   "source": [
    "<span style=\"color:green\">Status</span>"
   ]
  },
  {
   "cell_type": "code",
   "execution_count": null,
   "id": "d4e4ae69-7c07-4562-89a5-dcf13bbde421",
   "metadata": {},
   "outputs": [],
   "source": [
    "git status"
   ]
  },
  {
   "cell_type": "markdown",
   "id": "815be731-e3eb-4b3f-b5a2-eff30a534af5",
   "metadata": {},
   "source": [
    "output:"
   ]
  },
  {
   "cell_type": "raw",
   "id": "a7f1055b-c8af-4c70-a4d7-003d5e71ce09",
   "metadata": {},
   "source": [
    "manojbnp@tellur:~/gittest$ git status\n",
    "\n",
    "Auf Branch master\n",
    "nichts zu committen, Arbeitsverzeichnis unverändert"
   ]
  },
  {
   "cell_type": "raw",
   "id": "23adf772-80e6-4039-8382-9636075d0c21",
   "metadata": {},
   "source": [
    "On branch master\n",
    "nothing to commit, working tree clean"
   ]
  },
  {
   "cell_type": "markdown",
   "id": "72070207-4110-41e2-a7ef-5d4bc6128530",
   "metadata": {
    "jp-MarkdownHeadingCollapsed": true
   },
   "source": [
    "## **Phase 2** -> Git Stash"
   ]
  },
  {
   "cell_type": "code",
   "execution_count": null,
   "id": "cf98b78e-2064-401c-8626-b77c9d2ec7fb",
   "metadata": {},
   "outputs": [],
   "source": [
    "#### <span style=\"color:#FF5733; font-weight:bold;\">Moo</span>"
   ]
  },
  {
   "cell_type": "code",
   "execution_count": null,
   "id": "341389b5-958b-41f8-8781-25a43fbe181e",
   "metadata": {},
   "outputs": [],
   "source": [
    "echo \"Adding some new content\" >> myfile.txt"
   ]
  },
  {
   "cell_type": "markdown",
   "id": "04dd39d6-68e3-4f34-afb5-0799b29ff986",
   "metadata": {},
   "source": [
    "<span style=\"color:green\">Status</span>"
   ]
  },
  {
   "cell_type": "raw",
   "id": "2509cf0f-7d6a-4330-be3d-f7b2287492b2",
   "metadata": {},
   "source": [
    "manojbnp@tellur:~/gittest$ git status\n",
    "\n",
    "Auf Branch master\n",
    "Unversionierte Dateien:\n",
    "  (benutzen Sie \"git add <Datei>...\", um die Änderungen zum Commit vorzumerken)\n",
    "\tmyfile.txt\n",
    "\n",
    "nichts zum Commit vorgemerkt, aber es gibt unversionierte Dateien\n",
    "(benutzen Sie \"git add\" zum Versionieren)"
   ]
  },
  {
   "cell_type": "markdown",
   "id": "b4eb1943-8f19-4d3f-a0cc-1a1d3316cef7",
   "metadata": {},
   "source": [
    "We didn't added and we didn't comiited also"
   ]
  },
  {
   "cell_type": "code",
   "execution_count": null,
   "id": "fcca1a6c-0ef3-4bc7-9ad5-e8fc69c19bf7",
   "metadata": {},
   "outputs": [],
   "source": [
    "git stash"
   ]
  },
  {
   "cell_type": "markdown",
   "id": "fe0e94d3-1567-470e-998b-a4e68e77b32d",
   "metadata": {},
   "source": [
    "output:"
   ]
  },
  {
   "cell_type": "raw",
   "id": "5c7c5c71-76ce-4002-a780-569f09f1f400",
   "metadata": {},
   "source": [
    "Keine lokalen Änderungen zum Speichern"
   ]
  },
  {
   "cell_type": "raw",
   "id": "c8e19b50-ade5-45f3-b10b-2b8ffac15aaf",
   "metadata": {},
   "source": [
    "No local changes to save"
   ]
  },
  {
   "cell_type": "markdown",
   "id": "4b10f370-e047-4eed-b76a-e655dbcf0e21",
   "metadata": {},
   "source": [
    "<span style=\"color:green\">Status</span>"
   ]
  },
  {
   "cell_type": "raw",
   "id": "27acb1c6-b163-423a-8fbb-5442fd212113",
   "metadata": {},
   "source": [
    "manojbnp@tellur:~/gittest$ git status\n",
    "\n",
    "Auf Branch master\n",
    "Unversionierte Dateien:\n",
    "  (benutzen Sie \"git add <Datei>...\", um die Änderungen zum Commit vorzumerken)\n",
    "\tmyfile.txt\n",
    "\n",
    "nichts zum Commit vorgemerkt, aber es gibt unversionierte Dateien\n",
    "(benutzen Sie \"git add\" zum Versionieren)"
   ]
  },
  {
   "cell_type": "code",
   "execution_count": null,
   "id": "c6bcf826-9f4d-40e1-a239-159c14434259",
   "metadata": {},
   "outputs": [],
   "source": [
    "git stash list"
   ]
  },
  {
   "cell_type": "markdown",
   "id": "1eddd247-ef40-4219-9900-c922aa5a5a50",
   "metadata": {},
   "source": [
    "Nothing comes because currently have no stashes saved in your Git repository"
   ]
  },
  {
   "cell_type": "code",
   "execution_count": null,
   "id": "bdc06ab3-7adc-43dd-b68a-fc41e27aaa25",
   "metadata": {},
   "outputs": [],
   "source": [
    "git stash apply"
   ]
  },
  {
   "cell_type": "raw",
   "id": "bcf0f7c5-5563-42fc-be6a-aa13837a3a38",
   "metadata": {},
   "source": [
    "Keine Stash-Einträge gefunden."
   ]
  },
  {
   "cell_type": "raw",
   "id": "7b90ceaf-d073-4325-8ede-98f2c3425600",
   "metadata": {},
   "source": [
    "No stash entries found."
   ]
  },
  {
   "cell_type": "markdown",
   "id": "28efb94a-26e6-482d-8419-60f7685b1cf4",
   "metadata": {},
   "source": [
    "<span style=\"color:green\">Status</span>"
   ]
  },
  {
   "cell_type": "raw",
   "id": "f3b5957d-f3a5-421c-af0c-2c411690c9ec",
   "metadata": {},
   "source": [
    "manojbnp@tellur:~/gittest$ git status\n",
    "\n",
    "Auf Branch master\n",
    "Unversionierte Dateien:\n",
    "  (benutzen Sie \"git add <Datei>...\", um die Änderungen zum Commit vorzumerken)\n",
    "\tmyfile.txt\n",
    "\n",
    "nichts zum Commit vorgemerkt, aber es gibt unversionierte Dateien\n",
    "(benutzen Sie \"git add\" zum Versionieren)"
   ]
  },
  {
   "cell_type": "code",
   "execution_count": null,
   "id": "72ce3db2-44ec-4d03-83d0-23d67fcb0fa2",
   "metadata": {},
   "outputs": [],
   "source": [
    "git stash pop"
   ]
  },
  {
   "cell_type": "raw",
   "id": "27a72e4d-3f43-4e95-adc2-5bc6514888e6",
   "metadata": {},
   "source": [
    "Auf Branch master\n",
    "nichts zu committen, Arbeitsverzeichnis unverändert"
   ]
  },
  {
   "cell_type": "raw",
   "id": "70edb7ba-2cc2-4750-b572-baa1e0fab332",
   "metadata": {},
   "source": [
    "Nothing to commit on the master branch, working directory unchanged"
   ]
  },
  {
   "cell_type": "markdown",
   "id": "f7e496d1-cddc-494c-b532-74e65406c2f2",
   "metadata": {},
   "source": [
    "<span style=\"color:green\">Status</span>"
   ]
  },
  {
   "cell_type": "raw",
   "id": "19cb495a-3880-4a2e-ba9d-003369298c3b",
   "metadata": {},
   "source": [
    "manojbnp@tellur:~/gittest$ git status\n",
    "\n",
    "Auf Branch master\n",
    "Unversionierte Dateien:\n",
    "  (benutzen Sie \"git add <Datei>...\", um die Änderungen zum Commit vorzumerken)\n",
    "\tmyfile.txt\n",
    "\n",
    "nichts zum Commit vorgemerkt, aber es gibt unversionierte Dateien\n",
    "(benutzen Sie \"git add\" zum Versionieren)"
   ]
  },
  {
   "cell_type": "markdown",
   "id": "118a9e86-5956-4a5d-ba16-7197def37064",
   "metadata": {},
   "source": [
    "<span style=\"color:green\">Status</span>"
   ]
  },
  {
   "cell_type": "markdown",
   "id": "6a3c1127-a163-49b0-88d5-970630b81745",
   "metadata": {},
   "source": [
    "### **Overall stash commands are**"
   ]
  },
  {
   "cell_type": "code",
   "execution_count": null,
   "id": "f62f8b41-3c12-45ef-8cc3-66053c6ebdb4",
   "metadata": {},
   "outputs": [],
   "source": [
    "echo \"Adding some new content\" >> myfile.txt # Make some changes to a file\n",
    "\n",
    "git status # Check the status\n",
    "git stash # Stash the changes\n",
    "git status # Check the status again (working directory is clean)\n",
    "git stash list # See the stash list\n",
    "git stash apply # Apply the stash\n",
    "git status # Check the status (changes are back)\n",
    "git stash pop # Alternatively , apply and remove the stash\n",
    "git stash list # Check the stash list (stash is gone)\n",
    "\n",
    "git stash push myfile.txt # You can stash specific files or changes using git stash push\n",
    "git stash push -m \"My specific changes to myfile . txt\" # You can also stash with a message for clarity:\n",
    "\n",
    "git stash show stash@{0} # To view the contents of a stash without applying it:\n",
    "git stash show -p stash@{0} # To view the diff of the stash:\n",
    "\n",
    "git stash drop stash@{n} # to remove a specific stash\n",
    "git stash clear # to remove all stashes.\n"
   ]
  },
  {
   "cell_type": "markdown",
   "id": "3c87beab-860a-4d64-8c1a-07837d2060c4",
   "metadata": {
    "jp-MarkdownHeadingCollapsed": true
   },
   "source": [
    "# **Phase 2** -> Working with remotes (important)"
   ]
  },
  {
   "cell_type": "code",
   "execution_count": null,
   "id": "0f4b5759-b460-4328-b0ff-9c6c9df56c4f",
   "metadata": {},
   "outputs": [],
   "source": [
    "# normal commands that we used\n",
    "mkdir gitremotetest # creating a directory\n",
    "cd gitremotetest # changing to that directory\n",
    "git init # initializing git"
   ]
  },
  {
   "cell_type": "code",
   "execution_count": null,
   "id": "7a719923-752a-498c-a526-3bcc7c4ce2ac",
   "metadata": {},
   "outputs": [],
   "source": [
    "git remote add origin https://github.com/fgnt/nachrichtentechnik.git"
   ]
  },
  {
   "cell_type": "markdown",
   "id": "a34cc434-157a-4f50-9027-37653dd5d805",
   "metadata": {},
   "source": [
    "In the above I can give any public avilable git link"
   ]
  },
  {
   "cell_type": "code",
   "execution_count": null,
   "id": "8e6ce860-10af-442a-9a5c-e7d23043f049",
   "metadata": {},
   "outputs": [],
   "source": [
    "git remote -v"
   ]
  },
  {
   "cell_type": "raw",
   "id": "74f4553d-f734-4ba9-b947-1d5c8aa24012",
   "metadata": {},
   "source": [
    "origin\thttps://github.com/fgnt/nachrichtentechnik.git (fetch)\n",
    "origin\thttps://github.com/fgnt/nachrichtentechnik.git (push)"
   ]
  },
  {
   "cell_type": "code",
   "execution_count": null,
   "id": "2bdb4696-052f-4749-a7a7-45f663df9140",
   "metadata": {},
   "outputs": [],
   "source": [
    "git pull origin master"
   ]
  },
  {
   "cell_type": "raw",
   "id": "c0d77471-60fa-4484-a125-f163094c461d",
   "metadata": {},
   "source": [
    "manojbnp@tellur:~/gitremotetest$ git pull origin master\n",
    "\n",
    "remote: Enumerating objects: 532, done.\n",
    "remote: Counting objects: 100% (54/54), done.\n",
    "remote: Compressing objects: 100% (31/31), done.\n",
    "remote: Total 532 (delta 22), reused 32 (delta 13), pack-reused 478 (from 1)\n",
    "Empfange Objekte: 100% (532/532), 22.38 MiB | 1.86 MiB/s, fertig.\n",
    "Löse Unterschiede auf: 100% (185/185), fertig.\n",
    "Von https://github.com/fgnt/nachrichtentechnik\n",
    " * branch            master     -> FETCH_HEAD\n",
    " * [neuer Branch]    master     -> origin/master\n",
    "Aktualisiere Dateien: 100% (74/74), fertig."
   ]
  },
  {
   "cell_type": "code",
   "execution_count": null,
   "id": "403504d1-659d-4804-a777-560fe5ae709d",
   "metadata": {},
   "outputs": [],
   "source": [
    "# shortcut\n",
    "\n",
    "git clone https://github.com/fgnt/nachrichtentechnik.git fgnt\n",
    "git remote -v"
   ]
  },
  {
   "cell_type": "code",
   "execution_count": null,
   "id": "a4d15e74-7a89-40ac-9e6d-9bbe96d358bf",
   "metadata": {},
   "outputs": [],
   "source": [
    "# other important commands\n",
    "\n",
    "git pull # Automatically fetch and then merge that remote branch into your current branch\n",
    "git pull --rebase # If you pull remote changes with the flag --rebase, then your local changes are reapplied on top of the remote changes.\n",
    "git pull --merge # If you pull remote changes with the flag --merge, then your local changes are merged with the remote changes. This results in a merge commit that points to the latest local commit and the latest remote commit.\n",
    "git push <remote> <branch> # push your master branch to your origin server"
   ]
  },
  {
   "cell_type": "markdown",
   "id": "9d7a36b3-2bf1-40dd-b886-a11a14d1a876",
   "metadata": {
    "jp-MarkdownHeadingCollapsed": true
   },
   "source": [
    "### Git Tagging"
   ]
  },
  {
   "cell_type": "code",
   "execution_count": null,
   "id": "a3ed05a0-0c27-45db-aba4-5a2c61091d9a",
   "metadata": {},
   "outputs": [],
   "source": [
    "git tag -a v2.0 -m \"Final Version\""
   ]
  },
  {
   "cell_type": "code",
   "execution_count": null,
   "id": "5796426c-4c8d-4c44-8032-fd6e3ed3061f",
   "metadata": {},
   "outputs": [],
   "source": [
    "git tag"
   ]
  },
  {
   "cell_type": "markdown",
   "id": "c7e4c6b2-a895-4444-bd95-f577deb5363c",
   "metadata": {},
   "source": [
    "output:"
   ]
  },
  {
   "cell_type": "raw",
   "id": "3d5f36b7-8800-494e-a3ed-4366cc838389",
   "metadata": {},
   "source": [
    "v2.0"
   ]
  },
  {
   "cell_type": "code",
   "execution_count": null,
   "id": "0cfc5bbf-d671-42be-830b-099a199bf090",
   "metadata": {},
   "outputs": [],
   "source": [
    "git log"
   ]
  },
  {
   "cell_type": "raw",
   "id": "2ab16a1f-be0f-47b8-80db-fec868bf3bb5",
   "metadata": {},
   "source": [
    "manojbnp@tellur:~/gitremotetest$ git log\n",
    "\n",
    "commit cc55cc361990db4085fb4c872a386f7494be90ac (HEAD -> master, tag: v2.0, origin/master)\n",
    "Merge: 52abbab 2de8d90\n",
    "Author: Michael Kuhlmann <kuhlmann@nt.uni-paderborn.de>\n",
    "Date:   Fri Dec 13 09:22:28 2024 +0100\n",
    "\n",
    "    Merge pull request #7 from michael-kuhlmann/master\n",
    "    \n",
    "    A14: Correct exercise title\n",
    "\n",
    "commit 2de8d904ed7ef3a61a7646174a87f854bca4f455\n",
    "Author: Michael Kuhlmann <kuhlmann@nt.uni-paderborn.de>\n",
    "Date:   Fri Dec 13 09:10:41 2024 +0100\n",
    "\n",
    "    A14: Correct exercise title\n",
    "\n",
    "commit 52abbab69742943d15b2dfeebf027fa2bfbabd93\n",
    "Merge: ee33d7f 63569e5\n",
    "Author: Michael Kuhlmann <kuhlmann@nt.uni-paderborn.de>\n",
    "Date:   Thu Jul 13 16:28:53 2023 +0200\n",
    "\n",
    "    Merge pull request #6 from michael-kuhlmann/master\n",
    "    \n",
    "    A23: Fix sign\n",
    ".......\n",
    ".......\n",
    ".....\n",
    "...\n",
    "."
   ]
  },
  {
   "cell_type": "code",
   "execution_count": null,
   "id": "6a5ecbc8-0f62-405d-a630-34b4b46d7468",
   "metadata": {},
   "outputs": [],
   "source": [
    "# other usefull commands (to tag past points in git history: Utilize the hash keys)\n",
    "\n",
    "git log - - pretty =oneline\n",
    "git tag -a v1.0alpha -m \"unstable first version \" bf463\n",
    "git log - - pretty =oneline\n",
    "git show v1.0alpha"
   ]
  },
  {
   "cell_type": "code",
   "execution_count": null,
   "id": "4085c216-5677-4819-80b3-6a73894fdcbc",
   "metadata": {},
   "outputs": [],
   "source": [
    "# Sharing and removing tags\n",
    "\n",
    "git push origin <tagname> # to share a single tag\n",
    "git push origin --tags #  to share all tags\n",
    "git tag -d <tagname> # to remove local tag\n",
    "git push origin --delete <tagname> # to remove remote tag"
   ]
  },
  {
   "cell_type": "markdown",
   "id": "7ef96bc4-14f8-4ad4-8720-40817f8d648c",
   "metadata": {},
   "source": [
    "<span style=\"color:green\">Status</span>"
   ]
  },
  {
   "cell_type": "markdown",
   "id": "d656f1f8-719e-4803-9ebe-444614671547",
   "metadata": {
    "jp-MarkdownHeadingCollapsed": true
   },
   "source": [
    "# **Phase 3** -> Working with branches (important)"
   ]
  },
  {
   "cell_type": "code",
   "execution_count": null,
   "id": "0efa2196-30e3-4bcf-be25-2f0bc0d1c3fa",
   "metadata": {},
   "outputs": [],
   "source": [
    "# to create a new branch name and switch to it\n",
    "\n",
    "git checkout -b <newbranchname>\n",
    "git switch -c <newbranchname>"
   ]
  },
  {
   "cell_type": "code",
   "execution_count": null,
   "id": "f8df3a07-a5f3-438a-9523-02df900b881f",
   "metadata": {},
   "outputs": [],
   "source": [
    "# Switch to an exisiting branch and checkout (checkout means moving the header) (see the git notes)\n",
    "\n",
    "git checkout <branchname>\n",
    "git switch <branchname>"
   ]
  },
  {
   "cell_type": "markdown",
   "id": "3a197f44-5dc6-42f4-b556-467765e9bd25",
   "metadata": {
    "jp-MarkdownHeadingCollapsed": true
   },
   "source": [
    "### <span style=\"color:#FF5733; font-weight:bold;\">Example 1</span>"
   ]
  },
  {
   "cell_type": "markdown",
   "id": "b74f3c38-b7ab-4325-8402-161d26eeebd4",
   "metadata": {},
   "source": [
    "Situation is:\n",
    "\n",
    "* created the second file, created the third file \n",
    "* created a new brach name called testing and moved the header to testing\n",
    "* created the fourth file, created the fifth file \n",
    "\n",
    "moved the head to master branch\n",
    "\n",
    "merged the testing branch with master"
   ]
  },
  {
   "cell_type": "code",
   "execution_count": null,
   "id": "0416c42a-9fc3-4f0f-8c63-0a06e4940f18",
   "metadata": {},
   "outputs": [],
   "source": [
    "echo \"Adding the second file\" >> file2.txt\n",
    "git add file2.txt\n",
    "git commit -m \"Added second file\""
   ]
  },
  {
   "cell_type": "markdown",
   "id": "2bf827b6-4f1d-4ba0-8e21-af537e7b9a0a",
   "metadata": {},
   "source": [
    "output:"
   ]
  },
  {
   "cell_type": "raw",
   "id": "18164848-3355-4b62-82e4-f76c24781b94",
   "metadata": {},
   "source": [
    "[master 858217d] Added second file\n",
    " 1 file changed, 1 insertion(+)\n",
    " create mode 100644 file2.txt"
   ]
  },
  {
   "cell_type": "code",
   "execution_count": null,
   "id": "86908bbf-ce06-4b35-9d89-b653fee24ca2",
   "metadata": {},
   "outputs": [],
   "source": [
    "echo \"Adding the third file\" >> file3.txt\n",
    "git add file2.txt\n",
    "git commit -m \"Added second file\""
   ]
  },
  {
   "cell_type": "markdown",
   "id": "2b8b8ae4-0d41-49a6-90ec-c35b50fd08cc",
   "metadata": {},
   "source": [
    "output:"
   ]
  },
  {
   "cell_type": "raw",
   "id": "0e2a099c-d992-47fa-b21b-b91bb84d3093",
   "metadata": {},
   "source": [
    "[master c1b5e45] Added third file\n",
    " 1 file changed, 1 insertion(+)\n",
    " create mode 100644 file3.txt"
   ]
  },
  {
   "cell_type": "code",
   "execution_count": null,
   "id": "d871461e-f1c8-4238-921d-d15c2e13b05a",
   "metadata": {},
   "outputs": [],
   "source": [
    "git branch testing # creating the branch name : testing\n",
    "git checkout testing # moving the header from master to testing branch"
   ]
  },
  {
   "cell_type": "markdown",
   "id": "4389d4a7-7459-4a19-9275-60eb125dbf96",
   "metadata": {},
   "source": [
    "output:"
   ]
  },
  {
   "cell_type": "raw",
   "id": "6ad0dacd-92b0-4edf-8bfa-b02119a9e066",
   "metadata": {},
   "source": [
    "Zu Branch 'testing' gewechselt"
   ]
  },
  {
   "cell_type": "raw",
   "id": "a3e4df1d-46ae-4bad-bba6-10106d53159c",
   "metadata": {},
   "source": [
    "Switched to branch 'testing'"
   ]
  },
  {
   "cell_type": "code",
   "execution_count": null,
   "id": "c9f74e4d-4b37-483c-9220-a4623eb08f33",
   "metadata": {},
   "outputs": [],
   "source": [
    "echo \"Adding the fourth file\" >> file4.txt\n",
    "git add file4.txt\n",
    "git commit -m \"Added fourth file\""
   ]
  },
  {
   "cell_type": "markdown",
   "id": "66d88134-3750-474e-b945-0c89b96fbbcc",
   "metadata": {},
   "source": [
    "output:"
   ]
  },
  {
   "cell_type": "raw",
   "id": "9b2fbeca-736d-46db-a255-54ed5e422235",
   "metadata": {},
   "source": [
    "[testing ccd5f4d] Added fourth file\n",
    " 1 file changed, 1 insertion(+)\n",
    " create mode 100644 file4.txt"
   ]
  },
  {
   "cell_type": "code",
   "execution_count": null,
   "id": "6bbad7b0-5ff0-498f-a6f2-867635c7b0f7",
   "metadata": {},
   "outputs": [],
   "source": [
    "echo \"Adding the fifth file\" >> file5.txt\n",
    "git add file5.txt\n",
    "git commit -m \"Added fifth file\""
   ]
  },
  {
   "cell_type": "markdown",
   "id": "206ebe8a-2528-4613-b99f-9e125d481aab",
   "metadata": {},
   "source": [
    "output:"
   ]
  },
  {
   "cell_type": "raw",
   "id": "f29a48cd-fc8e-41bd-999b-92f96ef4ca05",
   "metadata": {},
   "source": [
    "[testing ace6fd8] Added fifth file\n",
    " 1 file changed, 1 insertion(+)\n",
    " create mode 100644 file5.txt"
   ]
  },
  {
   "cell_type": "code",
   "execution_count": null,
   "id": "e69ede79-95dd-4c59-8bc9-d6fa02713c40",
   "metadata": {},
   "outputs": [],
   "source": [
    "git checkout master # moving the header from testing brach to master"
   ]
  },
  {
   "cell_type": "code",
   "execution_count": null,
   "id": "a49a0b2e-dc12-4753-be94-f50b380feb5c",
   "metadata": {},
   "outputs": [],
   "source": [
    "git merge testing -m \"Integrate testing\" # heart of the code to merge"
   ]
  },
  {
   "cell_type": "raw",
   "id": "b51e9033-045c-4071-a369-27f4119e7e3d",
   "metadata": {},
   "source": [
    "Aktualisiere c1b5e45..ace6fd8\n",
    "Fast-forward (no commit created; -m option ignored)\n",
    " file4.txt | 1 +\n",
    " file5.txt | 1 +\n",
    " 2 files changed, 2 insertions(+)\n",
    " create mode 100644 file4.txt\n",
    " create mode 100644 file5.txt"
   ]
  },
  {
   "cell_type": "code",
   "execution_count": null,
   "id": "81b053e2-89ed-428f-ac5b-82389de1fd68",
   "metadata": {},
   "outputs": [],
   "source": [
    "git log --oneline --decorate --graph --all"
   ]
  },
  {
   "cell_type": "markdown",
   "id": "d30e4af1-9ebd-41c0-bb8c-85d6180fad41",
   "metadata": {},
   "source": [
    "output:"
   ]
  },
  {
   "cell_type": "raw",
   "id": "82a3eeaf-5e24-4e85-907d-8bf7e0d429dc",
   "metadata": {},
   "source": [
    "∗ 0e5d728 (HEAD -> master) Integrate testing\n",
    "|\\\n",
    "| ∗ d52fd6f ( testing ) Added fourth file\n",
    "∗ | 1bd33b4 Added fifth file\n",
    "|/\n",
    "∗ fde34ab Added third file\n",
    "∗ 75beb55 Added second file\n",
    ".....\n",
    "...\n",
    "..\n",
    "."
   ]
  },
  {
   "cell_type": "markdown",
   "id": "19a79c5d-3182-40ce-8b38-391547bede9f",
   "metadata": {
    "jp-MarkdownHeadingCollapsed": true
   },
   "source": [
    "### <span style=\"color:#FF5733; font-weight:bold;\">Example 2</span>"
   ]
  },
  {
   "cell_type": "markdown",
   "id": "d0698380-b9ed-42f6-b8fa-ab62e4198311",
   "metadata": {},
   "source": [
    "Situation is:\n",
    "\n",
    "created a branch name called hotfix (remeber we didn't moved the header)\n",
    "\n",
    "* created the sixth file\n",
    "\n",
    "Now moved the head to hotfix branch\n",
    "\n",
    "* created the seventh file, created the first file\n",
    "\n",
    "moved the head to master branch\n",
    "\n",
    "changed the second file\n",
    "\n",
    "merged the hotfix branch with master"
   ]
  },
  {
   "cell_type": "code",
   "execution_count": null,
   "id": "4cdd873e-0c01-42f5-affb-9de721af8413",
   "metadata": {},
   "outputs": [],
   "source": [
    "git branch hotfix # creating a new branch called hotfx"
   ]
  },
  {
   "cell_type": "code",
   "execution_count": null,
   "id": "b4a8fd60-79ad-47b5-8122-9636a76cbf13",
   "metadata": {},
   "outputs": [],
   "source": [
    "echo \"File 6\" > file6.txt\n",
    "git add file6.txt\n",
    "git commit -m \"Added sixth file\""
   ]
  },
  {
   "cell_type": "markdown",
   "id": "bf7a232d-e595-4ad1-b0cb-5f4be3c010b6",
   "metadata": {},
   "source": [
    "But we created a new file but we just created the branch but didn't moved the head remember"
   ]
  },
  {
   "cell_type": "code",
   "execution_count": null,
   "id": "afc9127a-a9fd-4478-b74a-4e56b9ec78a6",
   "metadata": {},
   "outputs": [],
   "source": [
    "git checkout hotfix  # now moving the head to the hotflix branch"
   ]
  },
  {
   "cell_type": "code",
   "execution_count": null,
   "id": "ad93b737-e1c7-47af-85fb-60bd49279e6e",
   "metadata": {},
   "outputs": [],
   "source": [
    "echo \"File 7\" > file7.txt\n",
    "git add file7.txt\n",
    "git commit -m \"Added seventh file\""
   ]
  },
  {
   "cell_type": "code",
   "execution_count": null,
   "id": "0a22302f-879a-4efa-abb4-56f0813b4df5",
   "metadata": {},
   "outputs": [],
   "source": [
    "echo \"bugfix\" >> file1.txt\n",
    "git add file1.txt\n",
    "git commit -m \"Added bugfix to file1\""
   ]
  },
  {
   "cell_type": "code",
   "execution_count": null,
   "id": "cca0db05-a887-4390-af6f-91ab6dc87721",
   "metadata": {},
   "outputs": [],
   "source": [
    "git checkout master # now moving the head to the master"
   ]
  },
  {
   "cell_type": "code",
   "execution_count": null,
   "id": "ac86ae87-00ac-41c7-93c7-5e9b5b08b3e2",
   "metadata": {},
   "outputs": [],
   "source": [
    "echo \"Change\" >> file2.txt\n",
    "git add file2.txt\n",
    "git commit -m \"Changed file 2\""
   ]
  },
  {
   "cell_type": "code",
   "execution_count": null,
   "id": "53c2b911-fbc6-45b9-862b-994e976d3dc3",
   "metadata": {},
   "outputs": [],
   "source": [
    "git merge hotfix -m \"Hotfix to request\" # heart of the code to merge"
   ]
  },
  {
   "cell_type": "code",
   "execution_count": null,
   "id": "0922ea1c-36df-4431-8552-349375dcc9de",
   "metadata": {},
   "outputs": [],
   "source": [
    "git log - - oneline - - decorate - -graph - - all"
   ]
  },
  {
   "cell_type": "raw",
   "id": "71adb7dc-7e9e-49ad-8de4-8250a8cb8456",
   "metadata": {},
   "source": [
    "manojbnp@tellur:~/gitremotetest$ git log --oneline --decorate --graph --all\n",
    "\n",
    "*   6d81e64 (HEAD -> master) Hotfix to request\n",
    "|\\  \n",
    "| * a41aa79 (hotfix) Added bugfix to file1\n",
    "| * dfcbc88 Added seventh file\n",
    "* | 22d898e Changed file2\n",
    "* | 17f4605 Added sixth file\n",
    "|/  \n",
    "......\n",
    "....\n",
    ".."
   ]
  },
  {
   "cell_type": "markdown",
   "id": "82ce092d-f0ee-49a6-993f-286923f97381",
   "metadata": {},
   "source": [
    "Note: Don't confuse by seeing the graph actually the 22d898e Changed file2 and 17f4605 Added sixth file are indeed on the master branch's direct history leading up to the merge. "
   ]
  },
  {
   "cell_type": "markdown",
   "id": "f9a7f84b-a1fe-48ae-a410-c40493001066",
   "metadata": {
    "jp-MarkdownHeadingCollapsed": true
   },
   "source": [
    "### <span style=\"color:#FF5733; font-weight:bold;\">Example 3</span>"
   ]
  },
  {
   "cell_type": "markdown",
   "id": "000577d5-2141-4e02-9732-e762e4020bac",
   "metadata": {},
   "source": [
    "Situation is:\n",
    "\n",
    "Two People changed the same file in different branches: How can we merge this?"
   ]
  },
  {
   "cell_type": "code",
   "execution_count": null,
   "id": "ff192251-7c5e-49f2-9575-75037a620909",
   "metadata": {},
   "outputs": [],
   "source": [
    "git branch featureA\n",
    "git checkout featureA"
   ]
  },
  {
   "cell_type": "code",
   "execution_count": null,
   "id": "9f16f134-fadc-416e-9f46-7d36284b011c",
   "metadata": {},
   "outputs": [],
   "source": [
    "echo \"File 9\" > file9.txt\n",
    "git add file9.txt\n",
    "git commit -m \"Added ninth file\""
   ]
  },
  {
   "cell_type": "code",
   "execution_count": null,
   "id": "d82250ec-03db-4c25-957e-4c3974647cb1",
   "metadata": {},
   "outputs": [],
   "source": [
    "echo \"FeatureX\" >> file2. txt\n",
    "echo \"FeatureY\" >> file3. txt\n",
    "git add file2 . txt\n",
    "git add file3 . txt\n",
    "git commit -m \"Added new features X and Y\""
   ]
  },
  {
   "cell_type": "markdown",
   "id": "51ea0bd5-c91f-47d4-b4a9-692a9fe4b74c",
   "metadata": {},
   "source": [
    "Note the difference between the echo \"Hallo\" > file2.txt and echo \"FeatureX\" >> file2.txt is \n",
    "\n",
    "supoose if the file2.txt has this lines\n",
    "\n",
    "line 1  \n",
    "line 2\n",
    "\n",
    "then using echo \"Hallo\" > file2.txt will gives the output:\n",
    "\n",
    "Hallo\n",
    "\n",
    "using echo \"FeatureX\" >> file2.txt will gives the output:\n",
    "\n",
    "line 1  \n",
    "line 2  \n",
    "FeatureX  "
   ]
  },
  {
   "cell_type": "code",
   "execution_count": null,
   "id": "b3b02511-fdaf-4826-b665-0268b0f974b8",
   "metadata": {},
   "outputs": [],
   "source": [
    "git checkout master"
   ]
  },
  {
   "cell_type": "code",
   "execution_count": null,
   "id": "84d06ddf-d3e0-4dcf-950b-f6f3521eae30",
   "metadata": {},
   "outputs": [],
   "source": [
    "echo \"TEAM Change\" >> file2.txt\n",
    "git add file2.txt\n",
    "git commit -m \"TEAM change\""
   ]
  },
  {
   "cell_type": "code",
   "execution_count": null,
   "id": "e4a2c1cd-d970-42ef-916a-464e10ac5e76",
   "metadata": {},
   "outputs": [],
   "source": [
    "git log --oneline --decorate --graph --all"
   ]
  },
  {
   "cell_type": "raw",
   "id": "bff12a3b-b218-4ec2-bbb5-6e25d87463f7",
   "metadata": {},
   "source": [
    "manojbnp@tellur:~/gitremotetest$ git log --oneline --decorate --graph --all\n",
    "\n",
    "* 6911fbf (HEAD -> master) Team change\n",
    "| * 6e97073 (featureA) added new features X and Y\n",
    "| * 851116b Added ninth file\n",
    "|/  \n",
    "*   6d81e64 Hotfix to request\n",
    "......\n",
    "....\n",
    "...\n",
    "."
   ]
  },
  {
   "cell_type": "code",
   "execution_count": null,
   "id": "4321fd8f-4c3d-431d-95e8-0154d163018b",
   "metadata": {},
   "outputs": [],
   "source": [
    "git merge featureA -m \"Add featureA to master branch\" # heart of the code"
   ]
  },
  {
   "cell_type": "markdown",
   "id": "a2b64e66-e2a2-4bf2-ab37-a5be1af0c726",
   "metadata": {},
   "source": [
    "<span style=\"color:red\">Problem problem problem</span>\n",
    "\n",
    "The problem is one guy created the branch and modified the things in file2.txt and another guy directly modifies some changes in file2.txt in master"
   ]
  },
  {
   "cell_type": "raw",
   "id": "426c4d26-4916-414f-9d06-40619d1eb84a",
   "metadata": {},
   "source": [
    "manojbnp@tellur:~/gitremotetest$ git merge featureA -m \"Add featureA to master branch\"\n",
    "\n",
    "automatischer Merge von file2.txt\n",
    "KONFLIKT (Inhalt): Merge-Konflikt in file2.txt\n",
    "Automatischer Merge fehlgeschlagen; beheben Sie die Konflikte und committen Sie dann das Ergebnis."
   ]
  },
  {
   "cell_type": "markdown",
   "id": "5a9a2e28-3f6b-41ad-a419-0cf573116e6e",
   "metadata": {},
   "source": [
    "<span style=\"color:red\">Auto-merging file2.txt  \n",
    "CONFLICT (content): Merge conflict in file2.txt  \n",
    "Automatic merge failed ; fix conflicts and then commit the result.</span>"
   ]
  },
  {
   "cell_type": "markdown",
   "id": "5dfd2a50-210c-4956-ac9b-584bcb069d30",
   "metadata": {},
   "source": [
    "<span style=\"color:green\">Status</span>"
   ]
  },
  {
   "cell_type": "raw",
   "id": "1ee22c1e-0178-45c3-850f-d6a4ff325fce",
   "metadata": {},
   "source": [
    "manojbnp@tellur:~/gitremotetest$ git status\n",
    "\n",
    "Auf Branch master\n",
    "Sie haben nicht zusammengeführte Pfade.\n",
    "  (beheben Sie die Konflikte und führen Sie \"git commit\" aus)\n",
    "  (benutzen Sie \"git merge --abort\", um den Merge abzubrechen)\n",
    "\n",
    "Zum Commit vorgemerkte Änderungen:\n",
    "\tgeändert:       file3.txt\n",
    "\tneue Datei:     file9.txt\n",
    "\n",
    "Nicht zusammengeführte Pfade:\n",
    "  (benutzen Sie \"git add/rm <Datei>...\", um die Auflösung zu markieren)\n",
    "\tvon beiden geändert:    file2.txt\n",
    "\n",
    "Unversionierte Dateien:\n",
    "  (benutzen Sie \"git add <Datei>...\", um die Änderungen zum Commit vorzumerken)\n",
    "\tfgnt/"
   ]
  },
  {
   "cell_type": "raw",
   "id": "f35d7bd0-7c68-4a41-8ef9-3d305f2e3598",
   "metadata": {},
   "source": [
    "On branch master\n",
    "You have unmerged paths.\n",
    "    \n",
    "Changes to be committed:\n",
    "    modified:       file3 . txt\n",
    "    new file:       file9 . txt\n",
    "\n",
    "Unmerged paths:\n",
    "    both modified:          file2 . txt"
   ]
  },
  {
   "cell_type": "code",
   "execution_count": null,
   "id": "2a98f582-bc79-4dec-aed1-f0ae25d08751",
   "metadata": {},
   "outputs": [],
   "source": [
    "git add file2.txt"
   ]
  },
  {
   "cell_type": "code",
   "execution_count": null,
   "id": "351a0ac3-c455-4dec-8705-bf77a9d2eb0e",
   "metadata": {},
   "outputs": [],
   "source": [
    "cat file2.txt"
   ]
  },
  {
   "cell_type": "raw",
   "id": "31659a7b-5a5e-46da-8eec-cd6e39cb79bb",
   "metadata": {},
   "source": [
    "manojbnp@tellur:~/gitremotetest$ cat file2.txt\n",
    "\n",
    "Change\n",
    "<<<<<<< HEAD\n",
    "Team change\n",
    "=======\n",
    "FeatureX\n",
    ">>>>>>> featureA"
   ]
  },
  {
   "cell_type": "markdown",
   "id": "b3c6118b-190d-4689-8c91-9461c9ae7b5b",
   "metadata": {},
   "source": [
    "<span style=\"color:green\">SSo now problem is solved it is telling like one change i.e 'Team Change' at Head branch and another change i.e 'featureA' at FeatureX branch</span>"
   ]
  },
  {
   "cell_type": "markdown",
   "id": "831e9158-334c-4c33-bfba-03364a5f6fbf",
   "metadata": {},
   "source": [
    "After solving the merge conflicts  \n",
    "\n",
    "* Stage the result\n",
    "* Commit all changes to complete merge\n",
    "\n",
    "**Note**: <span style=\"color:blue\">NEVER stage & commit an unsolved merge conflict! </span>"
   ]
  },
  {
   "cell_type": "markdown",
   "id": "029172f6-d9ab-4ec9-805a-c5222332dbf4",
   "metadata": {},
   "source": [
    "<span style=\"color:green\">Status</span>"
   ]
  },
  {
   "cell_type": "raw",
   "id": "3fea830c-ee0d-4972-a342-23107c277e91",
   "metadata": {},
   "source": [
    "manojbnp@tellur:~/gitremotetest$ git status\n",
    "\n",
    "Auf Branch master\n",
    "Alle Konflikte sind behoben, aber Sie sind immer noch beim Merge.\n",
    "  (benutzen Sie \"git commit\", um den Merge abzuschließen)\n",
    "\n",
    "Zum Commit vorgemerkte Änderungen:\n",
    "\tgeändert:       file2.txt\n",
    "\tgeändert:       file3.txt\n",
    "\tneue Datei:     file9.txt\n",
    "\n",
    "Unversionierte Dateien:\n",
    "  (benutzen Sie \"git add <Datei>...\", um die Änderungen zum Commit vorzumerken)\n",
    "\tfgnt/"
   ]
  },
  {
   "cell_type": "raw",
   "id": "6725c971-c481-438d-bb4b-0b5c6f33baf0",
   "metadata": {},
   "source": [
    "On branch master\n",
    "All conflicts fixed but you are still merging.\n",
    "\n",
    "Changes to be committed:\n",
    "    modified : file2 . txt\n",
    "    modified : file3 . txt\n",
    "    new file : file9 . txt"
   ]
  },
  {
   "cell_type": "code",
   "execution_count": null,
   "id": "7019d545-4cb1-426f-a5d4-7d1c54873ecb",
   "metadata": {},
   "outputs": [],
   "source": [
    "git commit -m \"Solved merge conflict\""
   ]
  },
  {
   "cell_type": "raw",
   "id": "8c36f664-4cd3-46c7-8e0e-93a411c12bcf",
   "metadata": {},
   "source": [
    "[master 8456e07] Solved merge conflict"
   ]
  },
  {
   "cell_type": "markdown",
   "id": "4127ca2d-d660-4a40-8b05-dd533c2b00df",
   "metadata": {},
   "source": [
    "<span style=\"color:green\">Status</span>"
   ]
  },
  {
   "cell_type": "raw",
   "id": "2d83beda-d23f-4a51-ac4c-eeabf691de3f",
   "metadata": {},
   "source": [
    "manojbnp@tellur:~/gitremotetest$ git status\n",
    "\n",
    "Auf Branch master\n",
    "Unversionierte Dateien:\n",
    "  (benutzen Sie \"git add <Datei>...\", um die Änderungen zum Commit vorzumerken)\n",
    "\tfgnt/\n",
    "\n",
    "nichts zum Commit vorgemerkt, aber es gibt unversionierte Dateien\n",
    "(benutzen Sie \"git add\" zum Versionieren)"
   ]
  },
  {
   "cell_type": "raw",
   "id": "2e04248e-95eb-4ae7-9647-0ba92ad16157",
   "metadata": {},
   "source": [
    "manojbnp@tellur:~/gitremotetest$ git status\n",
    "\n",
    "On branch master\n",
    "Unversioned files:\n",
    "  (use \"git add <file>...\" to mark the changes for commit)\n",
    "    fgnt/\n",
    "\n",
    "Nothing marked for commit, but there are unversioned files\n",
    "(use \"git add\" to version)"
   ]
  },
  {
   "cell_type": "code",
   "execution_count": null,
   "id": "64bceaba-72dc-42b4-a56d-ccf1d254cd7a",
   "metadata": {},
   "outputs": [],
   "source": [
    "git log --oneline --decorate --graph --all"
   ]
  },
  {
   "cell_type": "raw",
   "id": "ac831c03-fd90-424e-ba98-0745b936f0ce",
   "metadata": {},
   "source": [
    "manojbnp@tellur:~/gitremotetest$ git log --oneline --decorate --graph --all\n",
    "\n",
    "*   8456e07 (HEAD -> master) Solved merge conflict\n",
    "|\\  \n",
    "| * 6e97073 (featureA) added new features X and Y\n",
    "| * 851116b Added ninth file\n",
    "* | 6911fbf Team change\n",
    "|/  \n",
    "*   6d81e64 Hotfix to request\n",
    ".........\n",
    ".....\n",
    "...\n",
    "..\n",
    "."
   ]
  },
  {
   "cell_type": "markdown",
   "id": "24b205b8-0a97-488e-98bd-6f3bba40e9fb",
   "metadata": {
    "jp-MarkdownHeadingCollapsed": true
   },
   "source": [
    "### <span style=\"color:#FF5733; font-weight:bold;\">Other usefull commands</span>"
   ]
  },
  {
   "cell_type": "code",
   "execution_count": null,
   "id": "0a656308-4988-4397-a2ce-79371828b9b1",
   "metadata": {},
   "outputs": [],
   "source": [
    "git merge --abort # if u cannot solve the problem? Abort a merge and Go back!\n",
    "git branch # to see all the branches\n",
    "git branch -d <branch-name> # to delete the local branches\n",
    "git mergetool # to Start the graphical merge tool\n",
    "\n",
    "# rename the branch\n",
    "git branch --move <bad-branch-name> <corrected-branch-name>\n",
    "git push --set -upstream origin <corrected-branch-name>\n",
    "git push origin --delete bad-branch-name"
   ]
  },
  {
   "cell_type": "markdown",
   "id": "c09cde6b-d39e-419a-a8eb-61d6d6341343",
   "metadata": {},
   "source": [
    "# **Phase 3** -> Working on Git remote repositories (important)"
   ]
  },
  {
   "cell_type": "markdown",
   "id": "a9d2a7fd-ddb8-40e3-99c3-e154b35189bb",
   "metadata": {},
   "source": [
    "### <span style=\"color:#FF5733; font-weight:bold;\">Add our SSH keys</span>"
   ]
  },
  {
   "cell_type": "markdown",
   "id": "bc8bb4f3-19bf-45ed-aced-96b5f4371d04",
   "metadata": {},
   "source": [
    "Our git lab supported SSH key types:\n",
    "\n",
    "ED25519  \n",
    "ED25519_SK  \n",
    "ECDSA_SK  \n",
    "RSA  \n",
    "\n",
    "To get more info visit: https://git.cs.uni-paderborn.de/help/user/ssh.md"
   ]
  },
  {
   "cell_type": "code",
   "execution_count": null,
   "id": "836d0c0d-6e8f-4b76-af52-36581b567519",
   "metadata": {},
   "outputs": [],
   "source": [
    "cd ~/.ssh/"
   ]
  },
  {
   "cell_type": "code",
   "execution_count": null,
   "id": "e409ec41-2180-41d4-a001-0d3eef8068e6",
   "metadata": {},
   "outputs": [],
   "source": [
    "ssh-keygen -t ed25519 -C \"Gitlab key 1\""
   ]
  },
  {
   "cell_type": "markdown",
   "id": "cb201e14-72d2-4cac-baf2-fa5ab475b53a",
   "metadata": {},
   "source": [
    "output:"
   ]
  },
  {
   "cell_type": "raw",
   "id": "9aa7a6a8-8b5d-4bef-9736-2be2ca64a71a",
   "metadata": {},
   "source": [
    "Generating public/private ed25519 key pair.\n",
    "Enter file in which to save the key (/upb/users/m/manojbnp/profiles/unix/imt/.ssh/id_ed25519):"
   ]
  },
  {
   "cell_type": "markdown",
   "id": "4b99cf87-e8d2-4872-81c7-c1cf75fecdf6",
   "metadata": {},
   "source": [
    "Enter the file name u want to save the ssh key and then press enter and enter"
   ]
  },
  {
   "cell_type": "raw",
   "id": "5efb26bc-52f5-40ab-9237-f1d46f54faf8",
   "metadata": {},
   "source": [
    "Generating public/private ed25519 key pair.\n",
    "Enter file in which to save the key (/upb/users/m/manojbnp/profiles/unix/imt/.ssh/id_ed25519): id_lecture1\n",
    "Enter passphrase (empty for no passphrase): \n",
    "Enter same passphrase again: \n",
    "Your identification has been saved in id_lecture1\n",
    "Your public key has been saved in id_lecture1.pub\n",
    "The key fingerprint is:\n",
    "SHA256:HA99LX3c8ORJkWxZEX4int3zSFrD2jseWVyWSdnpXx0 Gitlab key 1\n",
    "The key's randomart image is:\n",
    "+--[ED25519 256]--+\n",
    "|              o*&|\n",
    "|         .   o+E*|\n",
    "|        o . + *=%|\n",
    "|       . + o * B=|\n",
    "|        S . o *.*|\n",
    "|             * =+|\n",
    "|            o = .|\n",
    "|              .o |\n",
    "|             .o. |\n",
    "+----[SHA256]-----+\n"
   ]
  },
  {
   "cell_type": "markdown",
   "id": "ca5be5cf-7764-477b-bbdf-9d768211cc81",
   "metadata": {},
   "source": [
    "Note: to cross check the file and .pub file created or not type ls"
   ]
  },
  {
   "cell_type": "code",
   "execution_count": null,
   "id": "5ff8deaa-6333-4563-9853-9e5ece314667",
   "metadata": {},
   "outputs": [],
   "source": [
    "ssh -T git.cs.uni-paderborn.de # Test if ther server likes you"
   ]
  },
  {
   "cell_type": "markdown",
   "id": "19256d7f-24c7-4fc5-b771-5fb7c50bbfbd",
   "metadata": {},
   "source": [
    "Note: but u get permisiion denied but don't worry"
   ]
  },
  {
   "cell_type": "code",
   "execution_count": null,
   "id": "335c2e53-04a0-4dd6-9ae2-8283d29d23cf",
   "metadata": {},
   "outputs": [],
   "source": [
    "kate config # opens the config file\n",
    "kate id_lecture1.pub # opens the id_lecture1.pub file"
   ]
  },
  {
   "cell_type": "markdown",
   "id": "050e0f3f-d1d3-4324-9a07-01e762dea570",
   "metadata": {},
   "source": [
    "id_lecture1.pub contains the ssh key details, id_lecture1 file contains the private ssh key file details \n",
    "\n",
    "for now we use the id_lecture1.pub ssh details"
   ]
  },
  {
   "cell_type": "markdown",
   "id": "e16a4b8f-47d3-4c02-82fc-45474fa65d91",
   "metadata": {},
   "source": [
    "Copy that ssh key, it looks like ex: AAAAC3NzaC1lZDI1NTE5AAAAIHJbNcCNP3uflzIe2ZMjUMob4D0nCVHmfPgUKsfkxEJv"
   ]
  },
  {
   "cell_type": "raw",
   "id": "e2fdd8bc-dc90-49d0-ac26-8e2214333f29",
   "metadata": {},
   "source": [
    "Open the git lab and click on your profile picture and click on edit profile, and click on SSH keys (on the left side) and then add the ssh key"
   ]
  },
  {
   "cell_type": "markdown",
   "id": "bcd50e26-1c96-4d6d-8899-0d7167d0f1e2",
   "metadata": {},
   "source": [
    "### <span style=\"color:#FF5733; font-weight:bold;\">Creating a project</span>"
   ]
  },
  {
   "cell_type": "markdown",
   "id": "fd767880-bd98-4a8a-953e-faff0176aa73",
   "metadata": {},
   "source": [
    "open the link: https://git.cs.uni-paderborn.de/\n",
    "\n",
    "and create a new project"
   ]
  },
  {
   "cell_type": "markdown",
   "id": "2fb9b004-eb4a-407f-adb7-b4763e2e8a25",
   "metadata": {},
   "source": [
    "### <span style=\"color:#FF5733; font-weight:bold;\">Cloning our project</span>"
   ]
  },
  {
   "cell_type": "code",
   "execution_count": null,
   "id": "16a46d79-f22c-43a8-a9e4-ae3acb2a6ed4",
   "metadata": {},
   "outputs": [],
   "source": [
    "git clone ssh://git.cs.upb.de/<user>/<repo>.git"
   ]
  },
  {
   "cell_type": "code",
   "execution_count": null,
   "id": "9426f5c2-6c33-4131-b932-c09f9f6bfb89",
   "metadata": {},
   "outputs": [],
   "source": [
    "Ex: git clone ssh://irb-git@git.cs.uni-paderborn.de:2222/manojbnp/practice1.git"
   ]
  },
  {
   "cell_type": "raw",
   "id": "b4e8aacc-6d78-46d0-8548-a5f488a5c1df",
   "metadata": {},
   "source": [
    "manojbnp@tellur:~$ git clone ssh://irb-git@git.cs.uni-paderborn.de:2222/manojbnp/awesome-1.git\n",
    "\n",
    "Klone nach 'awesome-1'...\n",
    "X11 forwarding request failed on channel 0\n",
    "remote: Enumerating objects: 3, done.\n",
    "remote: Counting objects: 100% (3/3), done.\n",
    "remote: Compressing objects: 100% (2/2), done.\n",
    "remote: Total 3 (delta 0), reused 0 (delta 0), pack-reused 0 (from 0)\n",
    "Empfange Objekte: 100% (3/3), fertig."
   ]
  },
  {
   "cell_type": "markdown",
   "id": "fdf15fdc-0e46-40bf-857e-1b9e92b7ca0b",
   "metadata": {},
   "source": [
    "#### <span style=\"color:#FF5733; font-weight:bold;\">Adding the files into git</span>"
   ]
  },
  {
   "cell_type": "code",
   "execution_count": null,
   "id": "283a9e29-1737-418d-87bc-a4a114c0626a",
   "metadata": {},
   "outputs": [],
   "source": [
    "cd practice1"
   ]
  },
  {
   "cell_type": "code",
   "execution_count": null,
   "id": "7428cf8d-39e3-444d-99b2-f3feefe78be8",
   "metadata": {},
   "outputs": [],
   "source": [
    "echo \"Test\" > MyFirstFile.txt\n",
    "git add MyFirstFile.txt\n",
    "git commit -m \"adding the first file\""
   ]
  },
  {
   "cell_type": "code",
   "execution_count": null,
   "id": "4781382d-3081-40f7-bf23-0456c89bd586",
   "metadata": {},
   "outputs": [],
   "source": [
    "git push"
   ]
  },
  {
   "cell_type": "raw",
   "id": "2c6c9b7d-df00-4cf4-8176-ae1674b72fb1",
   "metadata": {},
   "source": [
    "manojbnp@tellur:~/practice1$ git push\n",
    "\n",
    "X11 forwarding request failed on channel 0\n",
    "Objekte aufzählen: 4, fertig.\n",
    "Zähle Objekte: 100% (4/4), fertig.\n",
    "Delta-Kompression verwendet bis zu 12 Threads.\n",
    "Komprimiere Objekte: 100% (2/2), fertig.\n",
    "Schreibe Objekte: 100% (3/3), 289 Bytes | 22.00 KiB/s, fertig.\n",
    "Gesamt 3 (Delta 0), Wiederverwendet 0 (Delta 0), Pack wiederverwendet 0\n",
    "To ssh://git.cs.uni-paderborn.de:2222/manojbnp/practice1.git\n",
    "   cb54c47..19271a8  main -> main"
   ]
  },
  {
   "cell_type": "markdown",
   "id": "9f82dc42-c68a-4f3a-9c02-8aa1179bf28e",
   "metadata": {},
   "source": [
    "Open the git and see, u can file the MyFirstFile.txt file in git"
   ]
  },
  {
   "cell_type": "markdown",
   "id": "4b573b9b-5726-4fd7-a1b1-829746b5f3af",
   "metadata": {},
   "source": [
    "Note: U can o this in the UI also (u know this and u did several times)"
   ]
  },
  {
   "cell_type": "code",
   "execution_count": null,
   "id": "080dd264-f1b0-4537-8d83-d5f39556136a",
   "metadata": {},
   "outputs": [],
   "source": [
    "git log"
   ]
  },
  {
   "cell_type": "raw",
   "id": "5e40a8bc-24bb-465a-bdc4-7f21b814a37c",
   "metadata": {},
   "source": [
    "manojbnp@tellur:~/practice1$ git log\n",
    "\n",
    "commit 19271a8ef4ca62da44b13b66209cc0ea42e8d6a0 (HEAD -> main, origin/main, origin/HEAD)\n",
    "Author: Manoj <manoj@mail.upb.de>\n",
    "Date:   Thu Jul 3 16:40:12 2025 +0200\n",
    "\n",
    "    adding the first file\n",
    "\n",
    "commit cb54c47a6f83f9aef2227f3ecab954ad1ad76f31\n",
    "Author: Manoj Billur Nagendra Prasad <manojbnp@mail.uni-paderborn.de>\n",
    "Date:   Thu Jul 3 16:27:14 2025 +0200\n",
    "\n",
    "    Initial commit"
   ]
  },
  {
   "cell_type": "markdown",
   "id": "1a2e96a2-f15b-4ff9-a13d-4b2a712508f3",
   "metadata": {},
   "source": [
    "#### <span style=\"color:#FF5733; font-weight:bold;\">Adding a folder into the git and then creating a file there</span>"
   ]
  },
  {
   "cell_type": "code",
   "execution_count": null,
   "id": "bc641c83-157c-47ec-9e52-4767eb91f893",
   "metadata": {},
   "outputs": [],
   "source": [
    "mkdir documents # creating a folder\n",
    "\n",
    "echo \"Content for third file.\" > documents/thirdfile.txt # creating a new text file\n",
    "git add documents/thirdfile.txt # staging\n",
    "git commit -m \"Added thirdfile.txt in documents folder\" # coomiting the changes\n",
    "\n",
    "git push origin main # Assuming you are on 'main' branch and pushing to 'origin'"
   ]
  },
  {
   "cell_type": "markdown",
   "id": "cdff42b8-bd6a-431b-9a84-4373fddb75ea",
   "metadata": {},
   "source": [
    "Important: U will get erro because, I have created a another file (secondfile.txt) using the UI, but now still in the local we didn't fetched that so......"
   ]
  },
  {
   "cell_type": "code",
   "execution_count": null,
   "id": "4334f2d5-97ac-414c-944c-e84dccd56c07",
   "metadata": {},
   "outputs": [],
   "source": [
    "git pull origin main --no-rebase"
   ]
  },
  {
   "cell_type": "code",
   "execution_count": null,
   "id": "47de09f2-a8b2-4e8e-b2d8-308936135ae2",
   "metadata": {},
   "outputs": [],
   "source": [
    "git push origin main"
   ]
  },
  {
   "cell_type": "code",
   "execution_count": null,
   "id": "e4514e91-3796-402b-931f-5167a892e0a0",
   "metadata": {},
   "outputs": [],
   "source": [
    "git log --all"
   ]
  },
  {
   "cell_type": "code",
   "execution_count": null,
   "id": "84bb2176-2110-4f91-ac09-e3261973c689",
   "metadata": {},
   "outputs": [],
   "source": [
    "manojbnp@tellur:~/practice1$ git log --all\n",
    "\n",
    "commit 4b059022f10d8d2e6690efbbcf1785454c4a6dfa (HEAD -> main, origin/main, origin/HEAD)\n",
    "Merge: 94b01c0 228bb0f\n",
    "Author: Manoj <manoj@mail.upb.de>\n",
    "Date:   Thu Jul 3 17:15:31 2025 +0200\n",
    "\n",
    "    Merge branch 'main' of ssh://git.cs.uni-paderborn.de:2222/manojbnp/practice1\n",
    "\n",
    "commit 94b01c0f88eb0e66afc7f42c31dcd9ed1aac32d9\n",
    "Author: Manoj <manoj@mail.upb.de>\n",
    "Date:   Thu Jul 3 17:08:29 2025 +0200\n",
    "\n",
    "    Added thirdfile.txt in documents folder\n",
    "\n",
    "commit 228bb0f3c574d1c4c3eab5989c8c4213a420e02c\n",
    "Author: Manoj Billur Nagendra Prasad <manojbnp@mail.uni-paderborn.de>\n",
    "Date:   Thu Jul 3 16:48:43 2025 +0200\n",
    "\n",
    "    Added second text file\n",
    "\n",
    "commit 19271a8ef4ca62da44b13b66209cc0ea42e8d6a0\n",
    "Author: Manoj <manoj@mail.upb.de>\n",
    "Date:   Thu Jul 3 16:40:12 2025 +0200\n",
    "\n",
    "    adding the first file\n",
    "\n",
    "commit cb54c47a6f83f9aef2227f3ecab954ad1ad76f31\n",
    "Author: Manoj Billur Nagendra Prasad <manojbnp@mail.uni-paderborn.de>\n",
    "Date:   Thu Jul 3 16:27:14 2025 +0200\n",
    "\n",
    "    Initial commit"
   ]
  },
  {
   "cell_type": "markdown",
   "id": "d94e2233-546c-4932-9f12-1eba030e9d72",
   "metadata": {},
   "source": [
    "#### <span style=\"color:#FF5733; font-weight:bold;\">Moving a file in main only but to other folder</span>"
   ]
  },
  {
   "cell_type": "code",
   "execution_count": null,
   "id": "d46d65d1-c667-4190-8c93-32592ab5f1fd",
   "metadata": {},
   "outputs": [],
   "source": [
    "mv secondfile.txt documents/\n",
    "git add . \n",
    "git commit -m \"Moved secondfile.txt into documents/ folder\"\n",
    "\n",
    "git push origin main # Assuming you are on the 'main' branch and 'origin' is your remote"
   ]
  },
  {
   "cell_type": "markdown",
   "id": "46fe0709-62d8-4889-b299-a09e91c803c4",
   "metadata": {},
   "source": [
    "#### <span style=\"color:#FF5733; font-weight:bold;\">Moving a file into branch</span>\n",
    "\n",
    "Since we didn't created a branch so first step will be creating a branch and then creating a file there"
   ]
  },
  {
   "cell_type": "code",
   "execution_count": null,
   "id": "eab5f375-b09d-4b9f-bf2d-219cd8563079",
   "metadata": {},
   "outputs": [],
   "source": [
    "git branch feature/add-pizza-recipe # to create a branch\n",
    "git checkout feature/add-pizza-recipe # to point the head to branch"
   ]
  },
  {
   "cell_type": "code",
   "execution_count": null,
   "id": "efc96fd0-bfaf-464a-a114-66047ab6bdb1",
   "metadata": {},
   "outputs": [],
   "source": [
    "mkdir recipes # creating a folder or u can ignore this"
   ]
  },
  {
   "cell_type": "code",
   "execution_count": null,
   "id": "dadf7b58-8630-4061-b9b3-00b2347b9ce0",
   "metadata": {},
   "outputs": [],
   "source": [
    "echo \"## Classic Margherita Pizza\" > recipes/pizza.txt"
   ]
  },
  {
   "cell_type": "markdown",
   "id": "c88df9fd-27a6-4c63-833e-cc42c8eded5b",
   "metadata": {},
   "source": [
    "<span style=\"color:green\">Status</span>"
   ]
  },
  {
   "cell_type": "raw",
   "id": "f3e45a64-74c0-48d2-b983-6ed0a357f1c4",
   "metadata": {},
   "source": [
    "manojbnp@tellur:~/practice1$ git status\n",
    "\n",
    "Auf Branch feature/add-pizza-recipe\n",
    "Unversionierte Dateien:\n",
    "  (benutzen Sie \"git add <Datei>...\", um die Änderungen zum Commit vorzumerken)\n",
    "\trecipes/\n",
    "\n",
    "nichts zum Commit vorgemerkt, aber es gibt unversionierte Dateien\n",
    "(benutzen Sie \"git add\" zum Versionieren)"
   ]
  },
  {
   "cell_type": "code",
   "execution_count": null,
   "id": "5fd3b26f-1c02-4c0a-8c13-5dcba1225560",
   "metadata": {},
   "outputs": [],
   "source": [
    "git add recipes/pizza.md\n",
    "git commit -m \"Added classic Margherita pizza recipe\""
   ]
  },
  {
   "cell_type": "code",
   "execution_count": null,
   "id": "cad0f780-086e-485e-b46e-7d61501bd398",
   "metadata": {},
   "outputs": [],
   "source": [
    "git push -u origin feature/add-pizza-recipe"
   ]
  },
  {
   "cell_type": "markdown",
   "id": "599aff15-0d1f-44be-a07e-a0e7e4b8278b",
   "metadata": {},
   "source": [
    "#### <span style=\"color:#FF5733; font-weight:bold;\">Moving/Copying a file in main branch to other branch</span>"
   ]
  },
  {
   "cell_type": "code",
   "execution_count": null,
   "id": "b29c9e03-f746-416f-a8c7-282f6ee92255",
   "metadata": {},
   "outputs": [],
   "source": [
    "git checkout feature/add-pizza-recipe # better to be in that branch where we want to move"
   ]
  },
  {
   "cell_type": "code",
   "execution_count": null,
   "id": "49022597-dcef-4acb-b722-6c4be9847943",
   "metadata": {},
   "outputs": [],
   "source": [
    "git merge main"
   ]
  },
  {
   "cell_type": "code",
   "execution_count": null,
   "id": "bef20930-a3e4-4214-bc09-0f8a4937a62f",
   "metadata": {},
   "outputs": [],
   "source": [
    "ls documents # checking the file is there in that main branch folder or not, branches is the folder namee"
   ]
  },
  {
   "cell_type": "code",
   "execution_count": null,
   "id": "393d9357-7013-4aab-a830-771f1ee69f07",
   "metadata": {},
   "outputs": [],
   "source": [
    "# Scenario 1: thirdfile.txt exists on feature/add-pizza-recipe AND remains on main (I mean copy)\n",
    "\n",
    "git checkout main\n",
    "git merge feature/add-pizza-recipe # merging our branch to main\n",
    "git push origin main\n",
    "git branch -d feature/add-pizza-recipe"
   ]
  },
  {
   "cell_type": "code",
   "execution_count": null,
   "id": "68122e97-987c-4463-8819-fb668ebf6168",
   "metadata": {},
   "outputs": [],
   "source": [
    "# Scenario 2: thirdfile.txt exists on feature/add-pizza-recipe BUT is removed from main's history (I mean moving)\n",
    "\n",
    "# method 1\n",
    "git checkout main\n",
    "git revert 94b01c0f88eb0e66afc7f42c31dcd9ed1aac32d9\n",
    "git push origin main\n",
    "\n",
    "# methos 2\n",
    "git checkout main\n",
    "git rebase -i 228bb0f3c574d1c4c3eab5989c8c4213a420e02c\n",
    "git push origin main --force # or -f"
   ]
  },
  {
   "cell_type": "markdown",
   "id": "09940fd1-1767-4968-b8a1-32761692600a",
   "metadata": {},
   "source": [
    "### <span style=\"color:#FF5733; font-weight:bold;\">Tagging and publishing tags</span>"
   ]
  },
  {
   "cell_type": "code",
   "execution_count": null,
   "id": "063f8498-b470-440f-9e97-9ee37bffe5f9",
   "metadata": {},
   "outputs": [],
   "source": [
    "git tag -a v1.0 -m \"GMM data generation end estimation\""
   ]
  },
  {
   "cell_type": "code",
   "execution_count": null,
   "id": "29a81d24-ce61-4d94-a933-fa8ddcad9e20",
   "metadata": {},
   "outputs": [],
   "source": [
    "git push origin - - tags"
   ]
  },
  {
   "cell_type": "code",
   "execution_count": null,
   "id": "f01c54c9-7450-4160-b811-5e8308aef709",
   "metadata": {},
   "outputs": [],
   "source": [
    "git log --oneline --decorate --graph --all"
   ]
  },
  {
   "cell_type": "markdown",
   "id": "00936fe3-c84f-4edb-a290-977775aa46bc",
   "metadata": {
    "jp-MarkdownHeadingCollapsed": true
   },
   "source": [
    "# **Phase 4** -> Project on Git (important)"
   ]
  },
  {
   "cell_type": "markdown",
   "id": "9562f355-0392-482b-8846-27b68103c1db",
   "metadata": {},
   "source": [
    "1. Add a file main.py that says \"Hello World\" on console\n",
    "2. Branch into \"datagenerator\"\n",
    "3. Create a class for generating random data with numpy that stores N=100000 random values drawn from a GMM defined by vectors\n",
    "4. Add an EM-Alg algorithm\n",
    "5. Create a testbench in the main using the classes\n",
    "6. Merge the branch datagenerator into main\n",
    "7. Tag the working version as V1.0\n",
    "8. Plot the results as a histogram"
   ]
  },
  {
   "cell_type": "code",
   "execution_count": null,
   "id": "6799423b-7f0b-49e2-a4a6-a4559e3eae7e",
   "metadata": {},
   "outputs": [],
   "source": [
    "mkdir practice2\n",
    "cd practice2\n",
    "git clone ssh://irb-git@git.cs.uni-paderborn.de:2222/manojbnp/todomasterplan.git"
   ]
  },
  {
   "cell_type": "markdown",
   "id": "2430f6fb-8969-4df9-83d1-b1dde79a337c",
   "metadata": {},
   "source": [
    "## 1"
   ]
  },
  {
   "cell_type": "code",
   "execution_count": null,
   "id": "523f7bc4-7ebf-439e-bce2-f2a6a5e935a7",
   "metadata": {},
   "outputs": [],
   "source": [
    "echo 'print(\"Hello World\")' > main.py\n",
    "git add main.py\n",
    "git commit -m \"Add initial 'Hello World' Python script\""
   ]
  },
  {
   "cell_type": "code",
   "execution_count": null,
   "id": "df0e5da1-91f3-4b54-bc29-cc24ff672bd6",
   "metadata": {},
   "outputs": [],
   "source": [
    "git push origin main"
   ]
  },
  {
   "cell_type": "code",
   "execution_count": null,
   "id": "36e87773-739f-4fc0-b08d-fe7e98d4e46c",
   "metadata": {},
   "outputs": [],
   "source": [
    "python3 main.py"
   ]
  },
  {
   "cell_type": "raw",
   "id": "b419e42f-0ac1-4130-9c75-e0e22bd159fe",
   "metadata": {},
   "source": [
    "manojbnp@tellur:~/practice2/todomasterplan$ python3 main.py\n",
    "\n",
    "Hello World"
   ]
  },
  {
   "cell_type": "markdown",
   "id": "bb7444e4-ea5c-4d21-9452-2378932cbe6f",
   "metadata": {},
   "source": [
    "## 2"
   ]
  },
  {
   "cell_type": "code",
   "execution_count": null,
   "id": "8d7ec895-3bf7-4702-8d78-8ee34c86245d",
   "metadata": {},
   "outputs": [],
   "source": [
    "git branch datagenerator\n",
    "git checout datagenerator\n",
    "\n",
    "(or)\n",
    "\n",
    "git checkout -b datagenerator"
   ]
  },
  {
   "cell_type": "markdown",
   "id": "9d81a4b0-e402-4e68-aff4-3459296f7293",
   "metadata": {},
   "source": [
    "## 3"
   ]
  },
  {
   "cell_type": "code",
   "execution_count": 12,
   "id": "63e6ff1b-de8c-4d0e-848f-5c6c56998f95",
   "metadata": {
    "jupyter": {
     "source_hidden": true
    }
   },
   "outputs": [
    {
     "name": "stdout",
     "output_type": "stream",
     "text": [
      "Generated data shape: (100000, 2)\n",
      "First 5 samples:\n",
      "[[ 3.22557659  5.40744298]\n",
      " [-1.49246949  5.76027541]\n",
      " [ 0.05079705  5.28266662]\n",
      " [ 4.37290783  5.47429242]\n",
      " [ 2.06880651  0.89233268]]\n"
     ]
    }
   ],
   "source": [
    "import numpy as np\n",
    "from scipy.stats import multivariate_normal\n",
    "\n",
    "class RandomDataGenerator:\n",
    "    \"\"\"\n",
    "    A class to generate random data from a Gaussian Mixture Model (GMM).\n",
    "    \"\"\"\n",
    "\n",
    "    def __init__(self, n_samples=100000, n_components=3, random_seed=42):\n",
    "        \"\"\"\n",
    "        Initializes the data generator with GMM parameters.\n",
    "\n",
    "        Args:\n",
    "            n_samples (int): The number of random data points to generate.\n",
    "            n_components (int): The number of Gaussian components in the GMM.\n",
    "            random_seed (int): Seed for reproducibility of random data.\n",
    "        \"\"\"\n",
    "        if n_samples <= 0:\n",
    "            raise ValueError(\"n_samples must be a positive integer.\")\n",
    "        if n_components <= 0:\n",
    "            raise ValueError(\"n_components must be a positive integer.\")\n",
    "\n",
    "        self.n_samples = n_samples\n",
    "        self.n_components = n_components\n",
    "        np.random.seed(random_seed) # Set seed for reproducibility\n",
    "\n",
    "        # Define parameters for a simple 2D GMM (for demonstration)\n",
    "        # You can customize these for more complex GMMs\n",
    "        if self.n_components == 3:\n",
    "            self.means = np.array([\n",
    "                [0, 0],    # Mean for component 1\n",
    "                [5, 5],    # Mean for component 2\n",
    "                [0, 5]     # Mean for component 3\n",
    "            ])\n",
    "            self.covariances = np.array([\n",
    "                [[1, 0.5], [0.5, 1]],  # Covariance for component 1\n",
    "                [[1, -0.5], [-0.5, 1]], # Covariance for component 2\n",
    "                [[0.5, 0], [0, 0.5]]   # Covariance for component 3\n",
    "            ])\n",
    "            self.weights = np.array([0.3, 0.4, 0.3]) # Weights for each component\n",
    "        else:\n",
    "            # Fallback for other n_components, or you can define more specific cases\n",
    "            print(f\"Warning: GMM parameters are hardcoded for {self.n_components} components. \"\n",
    "                  \"Consider defining specific means/covariances/weights for other component counts.\")\n",
    "            self.means = np.random.rand(self.n_components, 2) * 10 # Random 2D means\n",
    "            self.covariances = np.array([np.eye(2) for _ in range(self.n_components)]) # Identity covariances\n",
    "            self.weights = np.ones(self.n_components) / self.n_components # Equal weights\n",
    "\n",
    "        # Normalize weights to ensure they sum to 1\n",
    "        self.weights /= self.weights.sum()\n",
    "\n",
    "    def generate_data(self):\n",
    "        \"\"\"\n",
    "        Generates random data points from the defined GMM.\n",
    "\n",
    "        Returns:\n",
    "            numpy.ndarray: An array of shape (n_samples, n_dimensions) containing the generated data.\n",
    "        \"\"\"\n",
    "        # Choose components for each sample based on weights\n",
    "        component_choices = np.random.choice(\n",
    "            self.n_components,\n",
    "            size=self.n_samples,\n",
    "            p=self.weights\n",
    "        )\n",
    "\n",
    "        data = np.zeros((self.n_samples, self.means.shape[1])) # Initialize data array\n",
    "\n",
    "        for i in range(self.n_components):\n",
    "            # Get indices of samples assigned to the current component\n",
    "            indices = np.where(component_choices == i)[0]\n",
    "            if len(indices) > 0:\n",
    "                # Generate samples for this component\n",
    "                data[indices] = multivariate_normal.rvs(\n",
    "                    mean=self.means[i],\n",
    "                    cov=self.covariances[i],\n",
    "                    size=len(indices),\n",
    "                    random_state=np.random.randint(0, 1000000) # Use a new seed for each component's rvs call\n",
    "                )\n",
    "        return data\n",
    "\n",
    "# Example usage (you can run this part in a separate script or interactively)\n",
    "if __name__ == \"__main__\":\n",
    "    # Create an instance of the generator\n",
    "    generator = RandomDataGenerator(n_samples=100000, n_components=3)\n",
    "\n",
    "    # Generate the data\n",
    "    generated_data = generator.generate_data()\n",
    "\n",
    "    print(f\"Generated data shape: {generated_data.shape}\")\n",
    "    print(f\"First 5 samples:\\n{generated_data[:5]}\")\n",
    "\n",
    "    # You could save this data, e.g., to a CSV file\n",
    "    # np.savetxt(\"generated_gmm_data.csv\", generated_data, delimiter=\",\")\n",
    "    # print(\"Data saved to generated_gmm_data.csv\")"
   ]
  },
  {
   "cell_type": "code",
   "execution_count": 15,
   "id": "28e9fee4-9db7-4aae-84fa-44509ded4bfc",
   "metadata": {
    "jupyter": {
     "source_hidden": true
    }
   },
   "outputs": [
    {
     "name": "stdout",
     "output_type": "stream",
     "text": [
      "Generated data shape: (100000, 2)\n",
      "First 5 samples:\n",
      "[[-0.45659995  1.58092636]\n",
      " [ 8.90331407 10.9082155 ]\n",
      " [ 8.88648252 10.32403994]\n",
      " [-1.42002441 -1.05488336]\n",
      " [-1.01610253 -1.30149417]]\n",
      "Last 5 samples:\n",
      "[[11.00986377 10.06544191]\n",
      " [10.40614172 11.50873264]\n",
      " [ 9.36540983  9.88055679]\n",
      " [ 0.36454941  0.95312141]\n",
      " [-1.83625325  0.35703744]]\n"
     ]
    }
   ],
   "source": [
    "import numpy as np\n",
    "from scipy.stats import multivariate_normal # Needed for sampling from Gaussian distributions\n",
    "\n",
    "class RandomDataGenerator:\n",
    "    \"\"\"\n",
    "    A simple class to generate 100,000 random 2D data points\n",
    "    from a basic Gaussian Mixture Model (GMM).\n",
    "    \"\"\"\n",
    "\n",
    "    def __init__(self):\n",
    "        \"\"\"\n",
    "        Initializes GMM parameters for two components.\n",
    "        N is fixed at 100,000 samples.\n",
    "        \"\"\"\n",
    "        self.N = 100000 # Number of samples to generate\n",
    "        self.n_components = 2 # Number of Gaussian components\n",
    "\n",
    "        # Define parameters for a simple 2D GMM\n",
    "        # Component 1: Mean at (0,0), spherical covariance\n",
    "        self.mean1 = np.array([0, 0])\n",
    "        self.cov1 = np.array([[1, 0], [0, 1]]) # Identity matrix for spherical distribution\n",
    "\n",
    "        # Component 2: Mean at (10,10), spherical covariance\n",
    "        self.mean2 = np.array([10, 10])\n",
    "        self.cov2 = np.array([[1, 0], [0, 1]]) # Identity matrix\n",
    "\n",
    "        # Weights for each component (equal probability)\n",
    "        self.weights = np.array([0.5, 0.5])\n",
    "\n",
    "        # Store means and covariances in lists for easy iteration\n",
    "        self._means = [self.mean1, self.mean2]\n",
    "        self._covs = [self.cov1, self.cov2]\n",
    "\n",
    "    def generate_data(self):\n",
    "        \"\"\"\n",
    "        Generates N random data points from the defined GMM.\n",
    "\n",
    "        Returns:\n",
    "            numpy.ndarray: An array of shape (N, 2) containing the generated 2D data.\n",
    "        \"\"\"\n",
    "        data = np.zeros((self.N, 2)) # Initialize array for N samples, 2 dimensions\n",
    "\n",
    "        # Randomly choose a component for each of the N samples based on weights\n",
    "        # This gives us N indices (0 or 1) indicating which component each sample comes from\n",
    "        component_choices = np.random.choice(\n",
    "            self.n_components,\n",
    "            size=self.N,\n",
    "            p=self.weights\n",
    "        )\n",
    "\n",
    "        # Generate data for each component\n",
    "        for i in range(self.n_components):\n",
    "            # Find out how many samples belong to this component\n",
    "            indices_for_component = np.where(component_choices == i)[0]\n",
    "            num_samples_for_component = len(indices_for_component)\n",
    "\n",
    "            if num_samples_for_component > 0:\n",
    "                # Generate samples from the specific Gaussian for this component\n",
    "                data[indices_for_component] = multivariate_normal.rvs(\n",
    "                    mean=self._means[i],\n",
    "                    cov=self._covs[i],\n",
    "                    size=num_samples_for_component\n",
    "                )\n",
    "        return data\n",
    "\n",
    "# Example usage (this part will not be committed to Git, but shows how to use the class)\n",
    "# You can run this in a separate Python script or interactively in a Python interpreter.\n",
    "if __name__ == \"__main__\":\n",
    "    generator = RandomDataGenerator()\n",
    "    generated_data = generator.generate_data()\n",
    "\n",
    "    print(f\"Generated data shape: {generated_data.shape}\")\n",
    "    print(f\"First 5 samples:\\n{generated_data[:5]}\")\n",
    "    print(f\"Last 5 samples:\\n{generated_data[-5:]}\")\n",
    "\n",
    "    # You could save this data, for example, to a CSV file:\n",
    "    # np.savetxt(\"simple_gmm_data.csv\", generated_data, delimiter=\",\")\n",
    "    # print(\"Data saved to simple_gmm_data.csv\")\n"
   ]
  },
  {
   "cell_type": "markdown",
   "id": "68bc6f87-9107-4c49-90ee-da4521ab2682",
   "metadata": {},
   "source": [
    "We can use any of the code"
   ]
  },
  {
   "cell_type": "code",
   "execution_count": null,
   "id": "5074313a-94e9-49fe-a827-470a903e34ff",
   "metadata": {},
   "outputs": [],
   "source": [
    "touch data_generator.py # creates creates an empty file if it doesn't exist, callled data_generator.py"
   ]
  },
  {
   "cell_type": "code",
   "execution_count": null,
   "id": "bb2b833b-2bd6-4ec9-abb5-db76a1db0678",
   "metadata": {},
   "outputs": [],
   "source": [
    "nano data_generator.py\n",
    "\n",
    "(or)\n",
    "\n",
    "vim data_generator.py"
   ]
  },
  {
   "cell_type": "markdown",
   "id": "1d7c5aeb-3a64-46b4-83c4-2987d8e4a3fd",
   "metadata": {},
   "source": [
    "If u open in the nano Paste the code and Ctrl + O -> Enter -> Ctrl + X "
   ]
  },
  {
   "cell_type": "code",
   "execution_count": null,
   "id": "e0fe5e33-7c2c-459e-836b-07cecca26dac",
   "metadata": {},
   "outputs": [],
   "source": [
    "git add data_generator.py\n",
    "git commit -m \"Add RandomDataGenerator class for GMM data\"\n",
    "git push -u origin datagenerator"
   ]
  },
  {
   "cell_type": "markdown",
   "id": "c5ba117b-f07f-4e2d-9779-f29a95f8c282",
   "metadata": {},
   "source": [
    "## 4"
   ]
  },
  {
   "cell_type": "code",
   "execution_count": 19,
   "id": "e76005a1-36a5-4241-8836-1ad5222ea55b",
   "metadata": {
    "jupyter": {
     "source_hidden": true
    }
   },
   "outputs": [],
   "source": [
    "import numpy as np\n",
    "from scipy.stats import multivariate_normal # For calculating probability density functions\n",
    "\n",
    "class GMM_EM:\n",
    "    \"\"\"\n",
    "    Implements the Expectation-Maximization (EM) algorithm for Gaussian Mixture Models.\n",
    "    \"\"\"\n",
    "\n",
    "    def __init__(self, n_components, max_iter=100, tol=1e-4, random_state=42):\n",
    "        \"\"\"\n",
    "        Initializes the GMM_EM model.\n",
    "\n",
    "        Args:\n",
    "            n_components (int): The number of Gaussian components to fit.\n",
    "            max_iter (int): Maximum number of EM iterations.\n",
    "            tol (float): Tolerance for convergence (change in log-likelihood).\n",
    "            random_state (int): Seed for initial parameter randomization.\n",
    "        \"\"\"\n",
    "        if n_components <= 0:\n",
    "            raise ValueError(\"n_components must be a positive integer.\")\n",
    "        if max_iter <= 0:\n",
    "            raise ValueError(\"max_iter must be a positive integer.\")\n",
    "        if tol <= 0:\n",
    "            raise ValueError(\"tol must be a positive float.\")\n",
    "\n",
    "        self.n_components = n_components\n",
    "        self.max_iter = max_iter\n",
    "        self.tol = tol\n",
    "        self.random_state = random_state\n",
    "\n",
    "        # Model parameters (will be initialized in _initialize_parameters)\n",
    "        self.weights = None\n",
    "        self.means = None\n",
    "        self.covariances = None\n",
    "        self.log_likelihood_history = []\n",
    "\n",
    "    def _initialize_parameters(self, X):\n",
    "        \"\"\"\n",
    "        Initializes GMM parameters (weights, means, covariances) randomly.\n",
    "        A more robust initialization would be K-Means, but for simplicity, we use random.\n",
    "\n",
    "        Args:\n",
    "            X (numpy.ndarray): The input data, shape (n_samples, n_features).\n",
    "        \"\"\"\n",
    "        n_samples, n_features = X.shape\n",
    "        np.random.seed(self.random_state)\n",
    "\n",
    "        # Randomly assign each sample to a component for initial estimation\n",
    "        random_assignments = np.random.randint(0, self.n_components, n_samples)\n",
    "\n",
    "        self.weights = np.zeros(self.n_components)\n",
    "        self.means = np.zeros((self.n_components, n_features))\n",
    "        self.covariances = np.zeros((self.n_components, n_features, n_features))\n",
    "\n",
    "        for k in range(self.n_components):\n",
    "            # Get samples assigned to component k\n",
    "            cluster_data = X[random_assignments == k]\n",
    "            if len(cluster_data) > 0:\n",
    "                self.weights[k] = len(cluster_data) / n_samples\n",
    "                self.means[k] = np.mean(cluster_data, axis=0)\n",
    "                # Ensure covariance is not singular by adding a small diagonal\n",
    "                self.covariances[k] = np.cov(cluster_data, rowvar=False) + np.eye(n_features) * 1e-6\n",
    "            else:\n",
    "                # If a cluster is empty, give it random mean/cov and small weight\n",
    "                self.weights[k] = 1.0 / self.n_components\n",
    "                self.means[k] = np.random.rand(n_features) * (np.max(X, axis=0) - np.min(X, axis=0)) + np.min(X, axis=0)\n",
    "                self.covariances[k] = np.eye(n_features) * 0.1 # Small identity covariance\n",
    "\n",
    "        # Normalize weights\n",
    "        self.weights /= self.weights.sum()\n",
    "\n",
    "\n",
    "    def _e_step(self, X):\n",
    "        \"\"\"\n",
    "        Expectation Step: Calculates the responsibilities (gamma_nk).\n",
    "\n",
    "        Args:\n",
    "            X (numpy.ndarray): The input data.\n",
    "\n",
    "        Returns:\n",
    "            numpy.ndarray: Responsibilities, shape (n_samples, n_components).\n",
    "        \"\"\"\n",
    "        n_samples = X.shape[0]\n",
    "        responsibilities = np.zeros((n_samples, self.n_components))\n",
    "\n",
    "        for k in range(self.n_components):\n",
    "            # Calculate the probability density for each sample under each Gaussian component\n",
    "            # multivariate_normal.pdf returns a 1D array of probabilities for each sample\n",
    "            try:\n",
    "                responsibilities[:, k] = multivariate_normal.pdf(X, mean=self.means[k], cov=self.covariances[k], allow_singular=True)\n",
    "            except np.linalg.LinAlgError:\n",
    "                # Fallback if covariance becomes singular during PDF calculation\n",
    "                print(f\"Warning: Singular covariance for component {k} in E-step. Using identity.\")\n",
    "                responsibilities[:, k] = multivariate_normal.pdf(X, mean=self.means[k], cov=np.eye(X.shape[1]), allow_singular=True)\n",
    "\n",
    "\n",
    "            # Multiply by the component's weight (prior probability)\n",
    "            responsibilities[:, k] *= self.weights[k]\n",
    "\n",
    "        # Normalize responsibilities so they sum to 1 across components for each sample\n",
    "        # Avoid division by zero for samples with zero total probability\n",
    "        sum_responsibilities = responsibilities.sum(axis=1, keepdims=True)\n",
    "        responsibilities /= (sum_responsibilities + 1e-10) # Add small epsilon to prevent division by zero\n",
    "\n",
    "        return responsibilities\n",
    "\n",
    "    def _m_step(self, X, responsibilities):\n",
    "        \"\"\"\n",
    "        Maximization Step: Updates GMM parameters (weights, means, covariances).\n",
    "\n",
    "        Args:\n",
    "            X (numpy.ndarray): The input data.\n",
    "            responsibilities (numpy.ndarray): Responsibilities from the E-step.\n",
    "        \"\"\"\n",
    "        n_samples, n_features = X.shape\n",
    "\n",
    "        # N_k: effective number of points assigned to component k\n",
    "        N_k = responsibilities.sum(axis=0) # Sum responsibilities for each component\n",
    "\n",
    "        for k in range(self.n_components):\n",
    "            if N_k[k] > 1e-10: # Avoid division by zero for empty components\n",
    "                # Update weights (pi_k)\n",
    "                self.weights[k] = N_k[k] / n_samples\n",
    "\n",
    "                # Update means (mu_k)\n",
    "                # Weighted sum of data points for component k, divided by N_k\n",
    "                self.means[k] = (responsibilities[:, k, np.newaxis] * X).sum(axis=0) / N_k[k]\n",
    "\n",
    "                # Update covariances (Sigma_k)\n",
    "                # Difference between data points and new mean\n",
    "                diff = X - self.means[k]\n",
    "                # Weighted sum of outer products of differences\n",
    "                self.covariances[k] = np.dot((responsibilities[:, k, np.newaxis] * diff).T, diff) / N_k[k]\n",
    "\n",
    "                # Add a small value to the diagonal to prevent singular covariance matrices\n",
    "                self.covariances[k] += np.eye(n_features) * 1e-6\n",
    "            else:\n",
    "                # If a component has effectively zero points, re-initialize it randomly\n",
    "                # or keep previous values with a small weight to prevent collapse\n",
    "                self.weights[k] = 1.0 / self.n_components # Re-distribute weight\n",
    "                self.means[k] = np.random.rand(n_features) * (np.max(X, axis=0) - np.min(X, axis=0)) + np.min(X, axis=0)\n",
    "                self.covariances[k] = np.eye(n_features) * 0.1 # Small identity covariance\n",
    "\n",
    "\n",
    "    def _calculate_log_likelihood(self, X, responsibilities):\n",
    "        \"\"\"\n",
    "        Calculates the log-likelihood of the data under the current GMM parameters.\n",
    "        This is used to check for convergence.\n",
    "\n",
    "        Args:\n",
    "            X (numpy.ndarray): The input data.\n",
    "            responsibilities (numpy.ndarray): Responsibilities from the E-step.\n",
    "\n",
    "        Returns:\n",
    "            float: The log-likelihood.\n",
    "        \"\"\"\n",
    "        log_likelihood = 0.0\n",
    "        for k in range(self.n_components):\n",
    "            try:\n",
    "                # log(weight_k * PDF(X | mean_k, cov_k))\n",
    "                log_likelihood += (responsibilities[:, k] * (\n",
    "                    np.log(self.weights[k] + 1e-10) + multivariate_normal.logpdf(X, mean=self.means[k], cov=self.covariances[k], allow_singular=True)\n",
    "                )).sum()\n",
    "            except np.linalg.LinAlgError:\n",
    "                # Fallback if covariance becomes singular during logpdf calculation\n",
    "                print(f\"Warning: Singular covariance for component {k} in log-likelihood. Using identity.\")\n",
    "                log_likelihood += (responsibilities[:, k] * (\n",
    "                    np.log(self.weights[k] + 1e-10) + multivariate_normal.logpdf(X, mean=self.means[k], cov=np.eye(X.shape[1]), allow_singular=True)\n",
    "                )).sum()\n",
    "\n",
    "        return log_likelihood\n",
    "\n",
    "    def fit(self, X):\n",
    "        \"\"\"\n",
    "        Fits the GMM to the data using the EM algorithm.\n",
    "\n",
    "        Args:\n",
    "            X (numpy.ndarray): The input data, shape (n_samples, n_features).\n",
    "        \"\"\"\n",
    "        n_samples, n_features = X.shape\n",
    "        self.log_likelihood_history = []\n",
    "\n",
    "        self._initialize_parameters(X)\n",
    "\n",
    "        prev_log_likelihood = -np.inf # Initialize with negative infinity\n",
    "\n",
    "        for iteration in range(self.max_iter):\n",
    "            # E-Step\n",
    "            responsibilities = self._e_step(X)\n",
    "\n",
    "            # M-Step\n",
    "            self._m_step(X, responsibilities)\n",
    "\n",
    "            # Calculate log-likelihood for convergence check\n",
    "            current_log_likelihood = self._calculate_log_likelihood(X, responsibilities)\n",
    "            self.log_likelihood_history.append(current_log_likelihood)\n",
    "\n",
    "            print(f\"Iteration {iteration + 1}: Log-Likelihood = {current_log_likelihood:.4f}\")\n",
    "\n",
    "            # Check for convergence\n",
    "            if np.abs(current_log_likelihood - prev_log_likelihood) < self.tol:\n",
    "                print(f\"EM converged at iteration {iteration + 1}.\")\n",
    "                break\n",
    "            prev_log_likelihood = current_log_likelihood\n",
    "        else:\n",
    "            print(f\"EM reached max_iter ({self.max_iter}) without converging.\")\n",
    "\n",
    "    def predict_proba(self, X):\n",
    "        \"\"\"\n",
    "        Predicts the posterior probabilities (responsibilities) of each sample\n",
    "        belonging to each component.\n",
    "\n",
    "        Args:\n",
    "            X (numpy.ndarray): The input data.\n",
    "\n",
    "        Returns:\n",
    "            numpy.ndarray: Posterior probabilities, shape (n_samples, n_components).\n",
    "        \"\"\"\n",
    "        if self.weights is None:\n",
    "            raise RuntimeError(\"Model has not been fitted yet. Call fit() first.\")\n",
    "        return self._e_step(X)\n",
    "\n",
    "    def predict(self, X):\n",
    "        \"\"\"\n",
    "        Predicts the most likely component for each sample.\n",
    "\n",
    "        Args:\n",
    "            X (numpy.ndarray): The input data.\n",
    "\n",
    "        Returns:\n",
    "            numpy.ndarray: Array of component assignments, shape (n_samples,).\n",
    "        \"\"\"\n",
    "        responsibilities = self.predict_proba(X)\n",
    "        return np.argmax(responsibilities, axis=1)"
   ]
  },
  {
   "cell_type": "code",
   "execution_count": 20,
   "id": "abc5d9cd-f83c-4831-ab5d-60f1dfb53422",
   "metadata": {
    "collapsed": true,
    "jupyter": {
     "outputs_hidden": true,
     "source_hidden": true
    }
   },
   "outputs": [
    {
     "name": "stdout",
     "output_type": "stream",
     "text": [
      "Generating synthetic data for EM test...\n",
      "Generated data shape: (100000, 2)\n",
      "Iteration 1: Log-Likelihood = -549568.0589\n",
      "Iteration 2: Log-Likelihood = -549568.0470\n",
      "Iteration 3: Log-Likelihood = -549568.0349\n",
      "Iteration 4: Log-Likelihood = -549568.0225\n",
      "Iteration 5: Log-Likelihood = -549568.0098\n",
      "Iteration 6: Log-Likelihood = -549567.9969\n",
      "Iteration 7: Log-Likelihood = -549567.9836\n",
      "Iteration 8: Log-Likelihood = -549567.9701\n",
      "Iteration 9: Log-Likelihood = -549567.9563\n",
      "Iteration 10: Log-Likelihood = -549567.9422\n",
      "Iteration 11: Log-Likelihood = -549567.9278\n",
      "Iteration 12: Log-Likelihood = -549567.9130\n",
      "Iteration 13: Log-Likelihood = -549567.8979\n",
      "Iteration 14: Log-Likelihood = -549567.8825\n",
      "Iteration 15: Log-Likelihood = -549567.8667\n",
      "Iteration 16: Log-Likelihood = -549567.8505\n",
      "Iteration 17: Log-Likelihood = -549567.8340\n",
      "Iteration 18: Log-Likelihood = -549567.8171\n",
      "Iteration 19: Log-Likelihood = -549567.7998\n",
      "Iteration 20: Log-Likelihood = -549567.7822\n",
      "Iteration 21: Log-Likelihood = -549567.7641\n",
      "Iteration 22: Log-Likelihood = -549567.7456\n",
      "Iteration 23: Log-Likelihood = -549567.7266\n",
      "Iteration 24: Log-Likelihood = -549567.7072\n",
      "Iteration 25: Log-Likelihood = -549567.6874\n",
      "Iteration 26: Log-Likelihood = -549567.6670\n",
      "Iteration 27: Log-Likelihood = -549567.6462\n",
      "Iteration 28: Log-Likelihood = -549567.6249\n",
      "Iteration 29: Log-Likelihood = -549567.6031\n",
      "Iteration 30: Log-Likelihood = -549567.5808\n",
      "Iteration 31: Log-Likelihood = -549567.5579\n",
      "Iteration 32: Log-Likelihood = -549567.5345\n",
      "Iteration 33: Log-Likelihood = -549567.5105\n",
      "Iteration 34: Log-Likelihood = -549567.4860\n",
      "Iteration 35: Log-Likelihood = -549567.4608\n",
      "Iteration 36: Log-Likelihood = -549567.4351\n",
      "Iteration 37: Log-Likelihood = -549567.4087\n",
      "Iteration 38: Log-Likelihood = -549567.3816\n",
      "Iteration 39: Log-Likelihood = -549567.3539\n",
      "Iteration 40: Log-Likelihood = -549567.3255\n",
      "Iteration 41: Log-Likelihood = -549567.2964\n",
      "Iteration 42: Log-Likelihood = -549567.2666\n",
      "Iteration 43: Log-Likelihood = -549567.2361\n",
      "Iteration 44: Log-Likelihood = -549567.2048\n",
      "Iteration 45: Log-Likelihood = -549567.1727\n",
      "Iteration 46: Log-Likelihood = -549567.1398\n",
      "Iteration 47: Log-Likelihood = -549567.1062\n",
      "Iteration 48: Log-Likelihood = -549567.0716\n",
      "Iteration 49: Log-Likelihood = -549567.0362\n",
      "Iteration 50: Log-Likelihood = -549566.9999\n",
      "Iteration 51: Log-Likelihood = -549566.9627\n",
      "Iteration 52: Log-Likelihood = -549566.9246\n",
      "Iteration 53: Log-Likelihood = -549566.8855\n",
      "Iteration 54: Log-Likelihood = -549566.8454\n",
      "Iteration 55: Log-Likelihood = -549566.8044\n",
      "Iteration 56: Log-Likelihood = -549566.7622\n",
      "Iteration 57: Log-Likelihood = -549566.7190\n",
      "Iteration 58: Log-Likelihood = -549566.6747\n",
      "Iteration 59: Log-Likelihood = -549566.6293\n",
      "Iteration 60: Log-Likelihood = -549566.5827\n",
      "Iteration 61: Log-Likelihood = -549566.5350\n",
      "Iteration 62: Log-Likelihood = -549566.4860\n",
      "Iteration 63: Log-Likelihood = -549566.4358\n",
      "Iteration 64: Log-Likelihood = -549566.3843\n",
      "Iteration 65: Log-Likelihood = -549566.3314\n",
      "Iteration 66: Log-Likelihood = -549566.2773\n",
      "Iteration 67: Log-Likelihood = -549566.2217\n",
      "Iteration 68: Log-Likelihood = -549566.1647\n",
      "Iteration 69: Log-Likelihood = -549566.1062\n",
      "Iteration 70: Log-Likelihood = -549566.0463\n",
      "Iteration 71: Log-Likelihood = -549565.9848\n",
      "Iteration 72: Log-Likelihood = -549565.9217\n",
      "Iteration 73: Log-Likelihood = -549565.8570\n",
      "Iteration 74: Log-Likelihood = -549565.7906\n",
      "Iteration 75: Log-Likelihood = -549565.7225\n",
      "Iteration 76: Log-Likelihood = -549565.6527\n",
      "Iteration 77: Log-Likelihood = -549565.5810\n",
      "Iteration 78: Log-Likelihood = -549565.5075\n",
      "Iteration 79: Log-Likelihood = -549565.4321\n",
      "Iteration 80: Log-Likelihood = -549565.3548\n",
      "Iteration 81: Log-Likelihood = -549565.2754\n",
      "Iteration 82: Log-Likelihood = -549565.1940\n",
      "Iteration 83: Log-Likelihood = -549565.1105\n",
      "Iteration 84: Log-Likelihood = -549565.0249\n",
      "Iteration 85: Log-Likelihood = -549564.9370\n",
      "Iteration 86: Log-Likelihood = -549564.8469\n",
      "Iteration 87: Log-Likelihood = -549564.7544\n",
      "Iteration 88: Log-Likelihood = -549564.6595\n",
      "Iteration 89: Log-Likelihood = -549564.5622\n",
      "Iteration 90: Log-Likelihood = -549564.4623\n",
      "Iteration 91: Log-Likelihood = -549564.3599\n",
      "Iteration 92: Log-Likelihood = -549564.2548\n",
      "Iteration 93: Log-Likelihood = -549564.1470\n",
      "Iteration 94: Log-Likelihood = -549564.0364\n",
      "Iteration 95: Log-Likelihood = -549563.9230\n",
      "Iteration 96: Log-Likelihood = -549563.8066\n",
      "Iteration 97: Log-Likelihood = -549563.6873\n",
      "Iteration 98: Log-Likelihood = -549563.5648\n",
      "Iteration 99: Log-Likelihood = -549563.4392\n",
      "Iteration 100: Log-Likelihood = -549563.3103\n",
      "EM reached max_iter (100) without converging.\n",
      "\n",
      "--- Learned GMM Parameters ---\n",
      "Weights: [0.4993706  0.50062937]\n",
      "Means:\n",
      " [[5.01306717 5.01941945]\n",
      " [5.03670628 5.02586525]]\n",
      "Covariances:\n",
      " [[[26.01986007 24.99976453]\n",
      "  [24.99976453 25.95237999]]\n",
      "\n",
      " [[25.94163813 24.98772679]\n",
      "  [24.98772679 26.05221847]]]\n",
      "\n",
      "First 10 predicted assignments: [0 1 0 1 1 0 0 1 0 0]\n",
      "\n",
      "First 5 sample probabilities:\n",
      "[[0.50142698 0.49857301]\n",
      " [0.49822505 0.50177494]\n",
      " [0.50320763 0.49679236]\n",
      " [0.48928991 0.51071003]\n",
      " [0.47093358 0.52884139]]\n"
     ]
    }
   ],
   "source": [
    "# Example Usage (this part will not be committed to Git, but shows how to use the class)\n",
    "if __name__ == \"__main__\":\n",
    "    # You'll need data to test this. Let's use the RandomDataGenerator.\n",
    "    from data_generator import RandomDataGenerator # Import the class you just made!\n",
    "\n",
    "    print(\"Generating synthetic data for EM test...\")\n",
    "    data_gen = RandomDataGenerator()\n",
    "    X_generated = data_gen.generate_data()\n",
    "    print(f\"Generated data shape: {X_generated.shape}\")\n",
    "\n",
    "    # Create and fit the GMM_EM model\n",
    "    n_components_to_fit = 2 # Try to fit 2 components\n",
    "    gmm_model = GMM_EM(n_components=n_components_to_fit, max_iter=100, tol=1e-5)\n",
    "    gmm_model.fit(X_generated)\n",
    "\n",
    "    # Print learned parameters\n",
    "    print(\"\\n--- Learned GMM Parameters ---\")\n",
    "    print(\"Weights:\", gmm_model.weights)\n",
    "    print(\"Means:\\n\", gmm_model.means)\n",
    "    print(\"Covariances:\\n\", gmm_model.covariances)\n",
    "\n",
    "    # Predict component assignments for the generated data\n",
    "    assignments = gmm_model.predict(X_generated)\n",
    "    print(f\"\\nFirst 10 predicted assignments: {assignments[:10]}\")\n",
    "\n",
    "    # You can also get probabilities\n",
    "    probabilities = gmm_model.predict_proba(X_generated)\n",
    "    print(f\"\\nFirst 5 sample probabilities:\\n{probabilities[:5]}\")"
   ]
  },
  {
   "cell_type": "code",
   "execution_count": null,
   "id": "b23e315c-2e48-462d-a017-b4aae6a9f567",
   "metadata": {},
   "outputs": [],
   "source": [
    "touch gmm_em.py"
   ]
  },
  {
   "cell_type": "code",
   "execution_count": null,
   "id": "0e0a654c-d3ae-425a-b606-a7d80651cdd9",
   "metadata": {},
   "outputs": [],
   "source": [
    "nano gmm_em.py\n",
    "\n",
    "(or)\n",
    "\n",
    "vim gmm_em.py"
   ]
  },
  {
   "cell_type": "markdown",
   "id": "d57ce5ab-def7-41f2-a136-a70496025668",
   "metadata": {},
   "source": [
    "If u open in the vim Paste the code and type :wq and hit enter"
   ]
  },
  {
   "cell_type": "code",
   "execution_count": null,
   "id": "61200d68-88af-41e6-bd86-ec15bf6cde7c",
   "metadata": {},
   "outputs": [],
   "source": [
    "git add gmm_em.py\n",
    "git commit -m \"feat: Add GMM Expectation-Maximization (EM) algorithm\"\n",
    "git push origin datagenerator"
   ]
  },
  {
   "cell_type": "markdown",
   "id": "21e4cbc5-d929-40ba-9bd0-05ce40eb10ac",
   "metadata": {},
   "source": [
    "## 5 \n",
    "\n",
    "(Remember we are in branch so we should move to main and should merge our branch)"
   ]
  },
  {
   "cell_type": "code",
   "execution_count": null,
   "id": "ceed0afb-a580-470d-a38a-26883fd301b1",
   "metadata": {},
   "outputs": [],
   "source": [
    "git checkout main\n",
    "git merge datagenerator\n",
    "git push origin main"
   ]
  },
  {
   "cell_type": "code",
   "execution_count": null,
   "id": "55a73e30-4088-4dea-b048-cf01fd2b5b75",
   "metadata": {},
   "outputs": [],
   "source": [
    "touch run_gmm_example.py"
   ]
  },
  {
   "cell_type": "code",
   "execution_count": 21,
   "id": "1a53927e-cffa-4bc2-af6d-4b8ba93d3567",
   "metadata": {
    "collapsed": true,
    "jupyter": {
     "outputs_hidden": true,
     "source_hidden": true
    }
   },
   "outputs": [
    {
     "name": "stdout",
     "output_type": "stream",
     "text": [
      "--- GMM Data Generation and EM Fitting Example ---\n",
      "\n",
      "1. Generating synthetic data...\n",
      "   Generated data shape: (100000, 2)\n",
      "   First 5 generated samples:\n",
      "[[10.34691965 10.39653059]\n",
      " [ 0.14046955 -0.70612528]\n",
      " [ 0.62929862  0.71114109]\n",
      " [ 9.62341194 12.36984134]\n",
      " [-2.98650016  3.44373606]]\n",
      "\n",
      "2. Fitting GMM using EM algorithm...\n",
      "Iteration 1: Log-Likelihood = -549568.0589\n",
      "Iteration 2: Log-Likelihood = -549568.0470\n",
      "Iteration 3: Log-Likelihood = -549568.0349\n",
      "Iteration 4: Log-Likelihood = -549568.0225\n",
      "Iteration 5: Log-Likelihood = -549568.0098\n",
      "Iteration 6: Log-Likelihood = -549567.9969\n",
      "Iteration 7: Log-Likelihood = -549567.9836\n",
      "Iteration 8: Log-Likelihood = -549567.9701\n",
      "Iteration 9: Log-Likelihood = -549567.9563\n",
      "Iteration 10: Log-Likelihood = -549567.9422\n",
      "Iteration 11: Log-Likelihood = -549567.9278\n",
      "Iteration 12: Log-Likelihood = -549567.9130\n",
      "Iteration 13: Log-Likelihood = -549567.8979\n",
      "Iteration 14: Log-Likelihood = -549567.8825\n",
      "Iteration 15: Log-Likelihood = -549567.8667\n",
      "Iteration 16: Log-Likelihood = -549567.8505\n",
      "Iteration 17: Log-Likelihood = -549567.8340\n",
      "Iteration 18: Log-Likelihood = -549567.8171\n",
      "Iteration 19: Log-Likelihood = -549567.7998\n",
      "Iteration 20: Log-Likelihood = -549567.7822\n",
      "Iteration 21: Log-Likelihood = -549567.7641\n",
      "Iteration 22: Log-Likelihood = -549567.7456\n",
      "Iteration 23: Log-Likelihood = -549567.7266\n",
      "Iteration 24: Log-Likelihood = -549567.7072\n",
      "Iteration 25: Log-Likelihood = -549567.6874\n",
      "Iteration 26: Log-Likelihood = -549567.6670\n",
      "Iteration 27: Log-Likelihood = -549567.6462\n",
      "Iteration 28: Log-Likelihood = -549567.6249\n",
      "Iteration 29: Log-Likelihood = -549567.6031\n",
      "Iteration 30: Log-Likelihood = -549567.5808\n",
      "Iteration 31: Log-Likelihood = -549567.5579\n",
      "Iteration 32: Log-Likelihood = -549567.5345\n",
      "Iteration 33: Log-Likelihood = -549567.5105\n",
      "Iteration 34: Log-Likelihood = -549567.4860\n",
      "Iteration 35: Log-Likelihood = -549567.4608\n",
      "Iteration 36: Log-Likelihood = -549567.4351\n",
      "Iteration 37: Log-Likelihood = -549567.4087\n",
      "Iteration 38: Log-Likelihood = -549567.3816\n",
      "Iteration 39: Log-Likelihood = -549567.3539\n",
      "Iteration 40: Log-Likelihood = -549567.3255\n",
      "Iteration 41: Log-Likelihood = -549567.2964\n",
      "Iteration 42: Log-Likelihood = -549567.2666\n",
      "Iteration 43: Log-Likelihood = -549567.2361\n",
      "Iteration 44: Log-Likelihood = -549567.2048\n",
      "Iteration 45: Log-Likelihood = -549567.1727\n",
      "Iteration 46: Log-Likelihood = -549567.1398\n",
      "Iteration 47: Log-Likelihood = -549567.1062\n",
      "Iteration 48: Log-Likelihood = -549567.0716\n",
      "Iteration 49: Log-Likelihood = -549567.0362\n",
      "Iteration 50: Log-Likelihood = -549566.9999\n",
      "Iteration 51: Log-Likelihood = -549566.9627\n",
      "Iteration 52: Log-Likelihood = -549566.9246\n",
      "Iteration 53: Log-Likelihood = -549566.8855\n",
      "Iteration 54: Log-Likelihood = -549566.8454\n",
      "Iteration 55: Log-Likelihood = -549566.8044\n",
      "Iteration 56: Log-Likelihood = -549566.7622\n",
      "Iteration 57: Log-Likelihood = -549566.7190\n",
      "Iteration 58: Log-Likelihood = -549566.6747\n",
      "Iteration 59: Log-Likelihood = -549566.6293\n",
      "Iteration 60: Log-Likelihood = -549566.5827\n",
      "Iteration 61: Log-Likelihood = -549566.5350\n",
      "Iteration 62: Log-Likelihood = -549566.4860\n",
      "Iteration 63: Log-Likelihood = -549566.4358\n",
      "Iteration 64: Log-Likelihood = -549566.3843\n",
      "Iteration 65: Log-Likelihood = -549566.3314\n",
      "Iteration 66: Log-Likelihood = -549566.2773\n",
      "Iteration 67: Log-Likelihood = -549566.2217\n",
      "Iteration 68: Log-Likelihood = -549566.1647\n",
      "Iteration 69: Log-Likelihood = -549566.1062\n",
      "Iteration 70: Log-Likelihood = -549566.0463\n",
      "Iteration 71: Log-Likelihood = -549565.9848\n",
      "Iteration 72: Log-Likelihood = -549565.9217\n",
      "Iteration 73: Log-Likelihood = -549565.8570\n",
      "Iteration 74: Log-Likelihood = -549565.7906\n",
      "Iteration 75: Log-Likelihood = -549565.7225\n",
      "Iteration 76: Log-Likelihood = -549565.6527\n",
      "Iteration 77: Log-Likelihood = -549565.5810\n",
      "Iteration 78: Log-Likelihood = -549565.5075\n",
      "Iteration 79: Log-Likelihood = -549565.4321\n",
      "Iteration 80: Log-Likelihood = -549565.3548\n",
      "Iteration 81: Log-Likelihood = -549565.2754\n",
      "Iteration 82: Log-Likelihood = -549565.1940\n",
      "Iteration 83: Log-Likelihood = -549565.1105\n",
      "Iteration 84: Log-Likelihood = -549565.0249\n",
      "Iteration 85: Log-Likelihood = -549564.9370\n",
      "Iteration 86: Log-Likelihood = -549564.8469\n",
      "Iteration 87: Log-Likelihood = -549564.7544\n",
      "Iteration 88: Log-Likelihood = -549564.6595\n",
      "Iteration 89: Log-Likelihood = -549564.5622\n",
      "Iteration 90: Log-Likelihood = -549564.4623\n",
      "Iteration 91: Log-Likelihood = -549564.3599\n",
      "Iteration 92: Log-Likelihood = -549564.2548\n",
      "Iteration 93: Log-Likelihood = -549564.1470\n",
      "Iteration 94: Log-Likelihood = -549564.0364\n",
      "Iteration 95: Log-Likelihood = -549563.9230\n",
      "Iteration 96: Log-Likelihood = -549563.8066\n",
      "Iteration 97: Log-Likelihood = -549563.6873\n",
      "Iteration 98: Log-Likelihood = -549563.5648\n",
      "Iteration 99: Log-Likelihood = -549563.4392\n",
      "Iteration 100: Log-Likelihood = -549563.3103\n",
      "Iteration 101: Log-Likelihood = -549563.1781\n",
      "Iteration 102: Log-Likelihood = -549563.0425\n",
      "Iteration 103: Log-Likelihood = -549562.9035\n",
      "Iteration 104: Log-Likelihood = -549562.7608\n",
      "Iteration 105: Log-Likelihood = -549562.6145\n",
      "Iteration 106: Log-Likelihood = -549562.4644\n",
      "Iteration 107: Log-Likelihood = -549562.3104\n",
      "Iteration 108: Log-Likelihood = -549562.1525\n",
      "Iteration 109: Log-Likelihood = -549561.9906\n",
      "Iteration 110: Log-Likelihood = -549561.8245\n",
      "Iteration 111: Log-Likelihood = -549561.6542\n",
      "Iteration 112: Log-Likelihood = -549561.4795\n",
      "Iteration 113: Log-Likelihood = -549561.3003\n",
      "Iteration 114: Log-Likelihood = -549561.1166\n",
      "Iteration 115: Log-Likelihood = -549560.9283\n",
      "Iteration 116: Log-Likelihood = -549560.7351\n",
      "Iteration 117: Log-Likelihood = -549560.5370\n",
      "Iteration 118: Log-Likelihood = -549560.3339\n",
      "Iteration 119: Log-Likelihood = -549560.1257\n",
      "Iteration 120: Log-Likelihood = -549559.9121\n",
      "Iteration 121: Log-Likelihood = -549559.6932\n",
      "Iteration 122: Log-Likelihood = -549559.4688\n",
      "Iteration 123: Log-Likelihood = -549559.2388\n",
      "Iteration 124: Log-Likelihood = -549559.0030\n",
      "Iteration 125: Log-Likelihood = -549558.7612\n",
      "Iteration 126: Log-Likelihood = -549558.5134\n",
      "Iteration 127: Log-Likelihood = -549558.2594\n",
      "Iteration 128: Log-Likelihood = -549557.9992\n",
      "Iteration 129: Log-Likelihood = -549557.7324\n",
      "Iteration 130: Log-Likelihood = -549557.4590\n",
      "Iteration 131: Log-Likelihood = -549557.1788\n",
      "Iteration 132: Log-Likelihood = -549556.8918\n",
      "Iteration 133: Log-Likelihood = -549556.5976\n",
      "Iteration 134: Log-Likelihood = -549556.2963\n",
      "Iteration 135: Log-Likelihood = -549555.9875\n",
      "Iteration 136: Log-Likelihood = -549555.6713\n",
      "Iteration 137: Log-Likelihood = -549555.3473\n",
      "Iteration 138: Log-Likelihood = -549555.0154\n",
      "Iteration 139: Log-Likelihood = -549554.6755\n",
      "Iteration 140: Log-Likelihood = -549554.3274\n",
      "Iteration 141: Log-Likelihood = -549553.9709\n",
      "Iteration 142: Log-Likelihood = -549553.6059\n",
      "Iteration 143: Log-Likelihood = -549553.2321\n",
      "Iteration 144: Log-Likelihood = -549552.8494\n",
      "Iteration 145: Log-Likelihood = -549552.4576\n",
      "Iteration 146: Log-Likelihood = -549552.0566\n",
      "Iteration 147: Log-Likelihood = -549551.6461\n",
      "Iteration 148: Log-Likelihood = -549551.2260\n",
      "Iteration 149: Log-Likelihood = -549550.7960\n",
      "Iteration 150: Log-Likelihood = -549550.3561\n",
      "Iteration 151: Log-Likelihood = -549549.9059\n",
      "Iteration 152: Log-Likelihood = -549549.4453\n",
      "Iteration 153: Log-Likelihood = -549548.9742\n",
      "Iteration 154: Log-Likelihood = -549548.4922\n",
      "Iteration 155: Log-Likelihood = -549547.9993\n",
      "Iteration 156: Log-Likelihood = -549547.4953\n",
      "Iteration 157: Log-Likelihood = -549546.9798\n",
      "Iteration 158: Log-Likelihood = -549546.4528\n",
      "Iteration 159: Log-Likelihood = -549545.9141\n",
      "Iteration 160: Log-Likelihood = -549545.3634\n",
      "Iteration 161: Log-Likelihood = -549544.8005\n",
      "Iteration 162: Log-Likelihood = -549544.2253\n",
      "Iteration 163: Log-Likelihood = -549543.6376\n",
      "Iteration 164: Log-Likelihood = -549543.0371\n",
      "Iteration 165: Log-Likelihood = -549542.4237\n",
      "Iteration 166: Log-Likelihood = -549541.7972\n",
      "Iteration 167: Log-Likelihood = -549541.1574\n",
      "Iteration 168: Log-Likelihood = -549540.5041\n",
      "Iteration 169: Log-Likelihood = -549539.8370\n",
      "Iteration 170: Log-Likelihood = -549539.1561\n",
      "Iteration 171: Log-Likelihood = -549538.4612\n",
      "Iteration 172: Log-Likelihood = -549537.7520\n",
      "Iteration 173: Log-Likelihood = -549537.0284\n",
      "Iteration 174: Log-Likelihood = -549536.2902\n",
      "Iteration 175: Log-Likelihood = -549535.5372\n",
      "Iteration 176: Log-Likelihood = -549534.7694\n",
      "Iteration 177: Log-Likelihood = -549533.9864\n",
      "Iteration 178: Log-Likelihood = -549533.1882\n",
      "Iteration 179: Log-Likelihood = -549532.3746\n",
      "Iteration 180: Log-Likelihood = -549531.5454\n",
      "Iteration 181: Log-Likelihood = -549530.7006\n",
      "Iteration 182: Log-Likelihood = -549529.8400\n",
      "Iteration 183: Log-Likelihood = -549528.9634\n",
      "Iteration 184: Log-Likelihood = -549528.0708\n",
      "Iteration 185: Log-Likelihood = -549527.1619\n",
      "Iteration 186: Log-Likelihood = -549526.2368\n",
      "Iteration 187: Log-Likelihood = -549525.2953\n",
      "Iteration 188: Log-Likelihood = -549524.3374\n",
      "Iteration 189: Log-Likelihood = -549523.3628\n",
      "Iteration 190: Log-Likelihood = -549522.3717\n",
      "Iteration 191: Log-Likelihood = -549521.3639\n",
      "Iteration 192: Log-Likelihood = -549520.3393\n",
      "Iteration 193: Log-Likelihood = -549519.2980\n",
      "Iteration 194: Log-Likelihood = -549518.2398\n",
      "Iteration 195: Log-Likelihood = -549517.1648\n",
      "Iteration 196: Log-Likelihood = -549516.0730\n",
      "Iteration 197: Log-Likelihood = -549514.9643\n",
      "Iteration 198: Log-Likelihood = -549513.8388\n",
      "Iteration 199: Log-Likelihood = -549512.6965\n",
      "Iteration 200: Log-Likelihood = -549511.5375\n",
      "EM reached max_iter (200) without converging.\n",
      "\n",
      "   --- Learned GMM Parameters ---\n",
      "   Weights: [0.49938217 0.5006178 ]\n",
      "   Means:\n",
      "[[5.0221207  5.02779266]\n",
      " [5.02767564 5.01751287]]\n",
      "   Covariances:\n",
      "[[[26.07871615 25.01435814]\n",
      "  [25.01435814 25.8622201 ]]\n",
      "\n",
      " [[25.88318917 24.97327352]\n",
      "  [24.97327352 26.14212611]]]\n",
      "\n",
      "3. Predicting component assignments...\n",
      "   First 10 predicted assignments: [0 1 0 1 1 0 0 0 0 0]\n",
      "\n",
      "4. Plotting generated data and GMM components (requires matplotlib)...\n"
     ]
    },
    {
     "data": {
      "image/png": "[encoded data removed]",
      "text/plain": [
       "<Figure size 1000x800 with 2 Axes>"
      ]
     },
     "metadata": {},
     "output_type": "display_data"
    }
   ],
   "source": [
    "import numpy as np\n",
    "import matplotlib.pyplot as plt # For plotting, if you have it installed (pip install matplotlib)\n",
    "\n",
    "# Import the classes from your project files\n",
    "from data_generator import RandomDataGenerator\n",
    "from gmm_em import GMM_EM\n",
    "\n",
    "def main():\n",
    "    print(\"--- GMM Data Generation and EM Fitting Example ---\")\n",
    "\n",
    "    # 1. Generate Data\n",
    "    print(\"\\n1. Generating synthetic data...\")\n",
    "    # Use the RandomDataGenerator to create 100,000 samples from a GMM\n",
    "    data_gen = RandomDataGenerator()\n",
    "    X_generated = data_gen.generate_data()\n",
    "    print(f\"   Generated data shape: {X_generated.shape}\")\n",
    "    print(f\"   First 5 generated samples:\\n{X_generated[:5]}\")\n",
    "\n",
    "    # 2. Fit GMM using EM Algorithm\n",
    "    print(\"\\n2. Fitting GMM using EM algorithm...\")\n",
    "    # Initialize and fit the GMM_EM model with 2 components (matching the generator)\n",
    "    n_components_to_fit = 2\n",
    "    gmm_model = GMM_EM(n_components=n_components_to_fit, max_iter=200, tol=1e-5)\n",
    "    gmm_model.fit(X_generated)\n",
    "\n",
    "    print(\"\\n   --- Learned GMM Parameters ---\")\n",
    "    print(f\"   Weights: {gmm_model.weights}\")\n",
    "    print(f\"   Means:\\n{gmm_model.means}\")\n",
    "    print(f\"   Covariances:\\n{gmm_model.covariances}\")\n",
    "\n",
    "    # 3. Predict assignments\n",
    "    print(\"\\n3. Predicting component assignments...\")\n",
    "    predicted_assignments = gmm_model.predict(X_generated)\n",
    "    print(f\"   First 10 predicted assignments: {predicted_assignments[:10]}\")\n",
    "\n",
    "    # 4. (Optional) Visualization - Requires matplotlib\n",
    "    try:\n",
    "        if plt: # Check if matplotlib was imported successfully\n",
    "            print(\"\\n4. Plotting generated data and GMM components (requires matplotlib)...\")\n",
    "            plt.figure(figsize=(10, 8))\n",
    "            # Plot data points, colored by predicted assignment\n",
    "            plt.scatter(X_generated[:, 0], X_generated[:, 1], c=predicted_assignments, s=5, cmap='viridis', alpha=0.6)\n",
    "\n",
    "            # Plot learned GMM means\n",
    "            plt.scatter(gmm_model.means[:, 0], gmm_model.means[:, 1],\n",
    "                        s=300, marker='X', color='red', label='Learned Means', edgecolor='black')\n",
    "\n",
    "            plt.title('Generated Data with GMM Component Assignments')\n",
    "            plt.xlabel('Feature 1')\n",
    "            plt.ylabel('Feature 2')\n",
    "            plt.legend()\n",
    "            plt.grid(True, linestyle='--', alpha=0.7)\n",
    "            plt.colorbar(label='Component Assignment')\n",
    "            plt.show()\n",
    "    except NameError:\n",
    "        print(\"   Matplotlib not found or failed to import. Skipping plot.\")\n",
    "    except Exception as e:\n",
    "        print(f\"   An error occurred during plotting: {e}\")\n",
    "\n",
    "\n",
    "if __name__ == \"__main__\":\n",
    "    main()"
   ]
  },
  {
   "cell_type": "code",
   "execution_count": null,
   "id": "df2d66cc-2d9e-417a-9df8-eb7fda96b87f",
   "metadata": {},
   "outputs": [],
   "source": [
    "nano run_gmm_example.py\n",
    "\n",
    "(or)\n",
    "\n",
    "vim run_gmm_example.py"
   ]
  },
  {
   "cell_type": "markdown",
   "id": "894d8d4c-cb34-4cbb-8135-aede30737b25",
   "metadata": {},
   "source": [
    "Paster the code"
   ]
  },
  {
   "cell_type": "code",
   "execution_count": null,
   "id": "9d9e95af-9e23-4db2-ba6c-867ee82ebd8d",
   "metadata": {},
   "outputs": [],
   "source": [
    "git add run_gmm_example.py\n",
    "git commit -m \"feat: Add GMM data generation and EM fitting example script\"\n",
    "git push origin main"
   ]
  },
  {
   "cell_type": "markdown",
   "id": "76cdf3ac-d660-4396-92a7-c222a2542e63",
   "metadata": {},
   "source": [
    "## 6\n",
    "\n",
    "we already did this in 5 but again we can do it's not a problem"
   ]
  },
  {
   "cell_type": "code",
   "execution_count": null,
   "id": "cb8ff287-51c0-464e-94c5-7a970c7a09a1",
   "metadata": {},
   "outputs": [],
   "source": [
    "git checkout main\n",
    "git merge datagenerator\n",
    "git push origin main"
   ]
  },
  {
   "cell_type": "markdown",
   "id": "e4437285-6f25-467d-9fb1-6a57a5e99520",
   "metadata": {},
   "source": [
    "## 7"
   ]
  },
  {
   "cell_type": "code",
   "execution_count": null,
   "id": "0b9523f3-8ea9-4d77-a001-9e189437de74",
   "metadata": {},
   "outputs": [],
   "source": [
    "git tag -a V1.0 -m \"Release version 1.0 - Initial GMM data generator and EM algorithm\""
   ]
  },
  {
   "cell_type": "code",
   "execution_count": null,
   "id": "dbd24b8c-ef3e-4ecc-b279-551f242ceb7a",
   "metadata": {},
   "outputs": [],
   "source": [
    "git push origin V1.0\n",
    "\n",
    "(or)\n",
    "\n",
    "git push origin --tags"
   ]
  },
  {
   "cell_type": "code",
   "execution_count": null,
   "id": "56acd955-dd44-4ec2-96c1-13c51bf2096e",
   "metadata": {},
   "outputs": [],
   "source": [
    "git log --oneline --decorate --graph --all"
   ]
  },
  {
   "cell_type": "raw",
   "id": "fa511caa-6143-445c-bd85-926d2610d0b7",
   "metadata": {},
   "source": [
    "manojbnp@tellur:~/practice2/todomasterplan$ git log --oneline --decorate --graph --all\n",
    "\n",
    "* e7f8124 (HEAD -> main, tag: V1.0, origin/main, origin/HEAD) feat: Add GMM data generation and EM fitting example script\n",
    "* 770e75b (origin/datagenerator, datagenerator) feat: Add GMM Expectation-Maximization (EM) algorithm\n",
    "* 717fb6a Add RandomDataGenerator class for GMM data\n",
    "* 70823fe Add initial 'Hello World' Python script\n",
    "* 679e543 Initial commit"
   ]
  },
  {
   "cell_type": "markdown",
   "id": "05eeae02-db9e-4c63-afb7-61906a36ae9a",
   "metadata": {},
   "source": [
    "## 8"
   ]
  },
  {
   "cell_type": "code",
   "execution_count": null,
   "id": "0bff63c3-0753-4226-b2d0-3021224d4522",
   "metadata": {},
   "outputs": [],
   "source": [
    "python3 run_gmm_example.py"
   ]
  },
  {
   "cell_type": "markdown",
   "id": "6f3593ed-5651-4707-b7a0-a343f88ac336",
   "metadata": {
    "jp-MarkdownHeadingCollapsed": true
   },
   "source": [
    "# **Phase 5** - Extra Adding save the histogram in git"
   ]
  },
  {
   "cell_type": "code",
   "execution_count": null,
   "id": "2ec8bfc1-9e18-43ca-9779-a39edb09c53f",
   "metadata": {},
   "outputs": [],
   "source": [
    "git checkout -b feature/plot-saving # Creates a new branch and immediately switches our working directory  also"
   ]
  },
  {
   "cell_type": "code",
   "execution_count": null,
   "id": "9976ffd1-fbef-48a4-89d9-a18ec95876f1",
   "metadata": {},
   "outputs": [],
   "source": [
    "nano run_gmm_example.py"
   ]
  },
  {
   "cell_type": "code",
   "execution_count": 22,
   "id": "194e7b37-921f-4a2c-9113-22fd0e475273",
   "metadata": {
    "collapsed": true,
    "jupyter": {
     "outputs_hidden": true,
     "source_hidden": true
    }
   },
   "outputs": [
    {
     "name": "stdout",
     "output_type": "stream",
     "text": [
      "--- GMM Data Generation and EM Fitting Example ---\n",
      "\n",
      "1. Generating synthetic data...\n",
      "   Generated data shape: (100000, 2)\n",
      "   First 5 generated samples:\n",
      "[[10.34691965 10.39653059]\n",
      " [ 0.14046955 -0.70612528]\n",
      " [ 0.62929862  0.71114109]\n",
      " [ 9.62341194 12.36984134]\n",
      " [-2.98650016  3.44373606]]\n",
      "\n",
      "2. Fitting GMM using EM algorithm...\n",
      "Iteration 1: Log-Likelihood = -549568.0589\n",
      "Iteration 2: Log-Likelihood = -549568.0470\n",
      "Iteration 3: Log-Likelihood = -549568.0349\n",
      "Iteration 4: Log-Likelihood = -549568.0225\n",
      "Iteration 5: Log-Likelihood = -549568.0098\n",
      "Iteration 6: Log-Likelihood = -549567.9969\n",
      "Iteration 7: Log-Likelihood = -549567.9836\n",
      "Iteration 8: Log-Likelihood = -549567.9701\n",
      "Iteration 9: Log-Likelihood = -549567.9563\n",
      "Iteration 10: Log-Likelihood = -549567.9422\n",
      "Iteration 11: Log-Likelihood = -549567.9278\n",
      "Iteration 12: Log-Likelihood = -549567.9130\n",
      "Iteration 13: Log-Likelihood = -549567.8979\n",
      "Iteration 14: Log-Likelihood = -549567.8825\n",
      "Iteration 15: Log-Likelihood = -549567.8667\n",
      "Iteration 16: Log-Likelihood = -549567.8505\n",
      "Iteration 17: Log-Likelihood = -549567.8340\n",
      "Iteration 18: Log-Likelihood = -549567.8171\n",
      "Iteration 19: Log-Likelihood = -549567.7998\n",
      "Iteration 20: Log-Likelihood = -549567.7822\n",
      "Iteration 21: Log-Likelihood = -549567.7641\n",
      "Iteration 22: Log-Likelihood = -549567.7456\n",
      "Iteration 23: Log-Likelihood = -549567.7266\n",
      "Iteration 24: Log-Likelihood = -549567.7072\n",
      "Iteration 25: Log-Likelihood = -549567.6874\n",
      "Iteration 26: Log-Likelihood = -549567.6670\n",
      "Iteration 27: Log-Likelihood = -549567.6462\n",
      "Iteration 28: Log-Likelihood = -549567.6249\n",
      "Iteration 29: Log-Likelihood = -549567.6031\n",
      "Iteration 30: Log-Likelihood = -549567.5808\n",
      "Iteration 31: Log-Likelihood = -549567.5579\n",
      "Iteration 32: Log-Likelihood = -549567.5345\n",
      "Iteration 33: Log-Likelihood = -549567.5105\n",
      "Iteration 34: Log-Likelihood = -549567.4860\n",
      "Iteration 35: Log-Likelihood = -549567.4608\n",
      "Iteration 36: Log-Likelihood = -549567.4351\n",
      "Iteration 37: Log-Likelihood = -549567.4087\n",
      "Iteration 38: Log-Likelihood = -549567.3816\n",
      "Iteration 39: Log-Likelihood = -549567.3539\n",
      "Iteration 40: Log-Likelihood = -549567.3255\n",
      "Iteration 41: Log-Likelihood = -549567.2964\n",
      "Iteration 42: Log-Likelihood = -549567.2666\n",
      "Iteration 43: Log-Likelihood = -549567.2361\n",
      "Iteration 44: Log-Likelihood = -549567.2048\n",
      "Iteration 45: Log-Likelihood = -549567.1727\n",
      "Iteration 46: Log-Likelihood = -549567.1398\n",
      "Iteration 47: Log-Likelihood = -549567.1062\n",
      "Iteration 48: Log-Likelihood = -549567.0716\n",
      "Iteration 49: Log-Likelihood = -549567.0362\n",
      "Iteration 50: Log-Likelihood = -549566.9999\n",
      "Iteration 51: Log-Likelihood = -549566.9627\n",
      "Iteration 52: Log-Likelihood = -549566.9246\n",
      "Iteration 53: Log-Likelihood = -549566.8855\n",
      "Iteration 54: Log-Likelihood = -549566.8454\n",
      "Iteration 55: Log-Likelihood = -549566.8044\n",
      "Iteration 56: Log-Likelihood = -549566.7622\n",
      "Iteration 57: Log-Likelihood = -549566.7190\n",
      "Iteration 58: Log-Likelihood = -549566.6747\n",
      "Iteration 59: Log-Likelihood = -549566.6293\n",
      "Iteration 60: Log-Likelihood = -549566.5827\n",
      "Iteration 61: Log-Likelihood = -549566.5350\n",
      "Iteration 62: Log-Likelihood = -549566.4860\n",
      "Iteration 63: Log-Likelihood = -549566.4358\n",
      "Iteration 64: Log-Likelihood = -549566.3843\n",
      "Iteration 65: Log-Likelihood = -549566.3314\n",
      "Iteration 66: Log-Likelihood = -549566.2773\n",
      "Iteration 67: Log-Likelihood = -549566.2217\n",
      "Iteration 68: Log-Likelihood = -549566.1647\n",
      "Iteration 69: Log-Likelihood = -549566.1062\n",
      "Iteration 70: Log-Likelihood = -549566.0463\n",
      "Iteration 71: Log-Likelihood = -549565.9848\n",
      "Iteration 72: Log-Likelihood = -549565.9217\n",
      "Iteration 73: Log-Likelihood = -549565.8570\n",
      "Iteration 74: Log-Likelihood = -549565.7906\n",
      "Iteration 75: Log-Likelihood = -549565.7225\n",
      "Iteration 76: Log-Likelihood = -549565.6527\n",
      "Iteration 77: Log-Likelihood = -549565.5810\n",
      "Iteration 78: Log-Likelihood = -549565.5075\n",
      "Iteration 79: Log-Likelihood = -549565.4321\n",
      "Iteration 80: Log-Likelihood = -549565.3548\n",
      "Iteration 81: Log-Likelihood = -549565.2754\n",
      "Iteration 82: Log-Likelihood = -549565.1940\n",
      "Iteration 83: Log-Likelihood = -549565.1105\n",
      "Iteration 84: Log-Likelihood = -549565.0249\n",
      "Iteration 85: Log-Likelihood = -549564.9370\n",
      "Iteration 86: Log-Likelihood = -549564.8469\n",
      "Iteration 87: Log-Likelihood = -549564.7544\n",
      "Iteration 88: Log-Likelihood = -549564.6595\n",
      "Iteration 89: Log-Likelihood = -549564.5622\n",
      "Iteration 90: Log-Likelihood = -549564.4623\n",
      "Iteration 91: Log-Likelihood = -549564.3599\n",
      "Iteration 92: Log-Likelihood = -549564.2548\n",
      "Iteration 93: Log-Likelihood = -549564.1470\n",
      "Iteration 94: Log-Likelihood = -549564.0364\n",
      "Iteration 95: Log-Likelihood = -549563.9230\n",
      "Iteration 96: Log-Likelihood = -549563.8066\n",
      "Iteration 97: Log-Likelihood = -549563.6873\n",
      "Iteration 98: Log-Likelihood = -549563.5648\n",
      "Iteration 99: Log-Likelihood = -549563.4392\n",
      "Iteration 100: Log-Likelihood = -549563.3103\n",
      "Iteration 101: Log-Likelihood = -549563.1781\n",
      "Iteration 102: Log-Likelihood = -549563.0425\n",
      "Iteration 103: Log-Likelihood = -549562.9035\n",
      "Iteration 104: Log-Likelihood = -549562.7608\n",
      "Iteration 105: Log-Likelihood = -549562.6145\n",
      "Iteration 106: Log-Likelihood = -549562.4644\n",
      "Iteration 107: Log-Likelihood = -549562.3104\n",
      "Iteration 108: Log-Likelihood = -549562.1525\n",
      "Iteration 109: Log-Likelihood = -549561.9906\n",
      "Iteration 110: Log-Likelihood = -549561.8245\n",
      "Iteration 111: Log-Likelihood = -549561.6542\n",
      "Iteration 112: Log-Likelihood = -549561.4795\n",
      "Iteration 113: Log-Likelihood = -549561.3003\n",
      "Iteration 114: Log-Likelihood = -549561.1166\n",
      "Iteration 115: Log-Likelihood = -549560.9283\n",
      "Iteration 116: Log-Likelihood = -549560.7351\n",
      "Iteration 117: Log-Likelihood = -549560.5370\n",
      "Iteration 118: Log-Likelihood = -549560.3339\n",
      "Iteration 119: Log-Likelihood = -549560.1257\n",
      "Iteration 120: Log-Likelihood = -549559.9121\n",
      "Iteration 121: Log-Likelihood = -549559.6932\n",
      "Iteration 122: Log-Likelihood = -549559.4688\n",
      "Iteration 123: Log-Likelihood = -549559.2388\n",
      "Iteration 124: Log-Likelihood = -549559.0030\n",
      "Iteration 125: Log-Likelihood = -549558.7612\n",
      "Iteration 126: Log-Likelihood = -549558.5134\n",
      "Iteration 127: Log-Likelihood = -549558.2594\n",
      "Iteration 128: Log-Likelihood = -549557.9992\n",
      "Iteration 129: Log-Likelihood = -549557.7324\n",
      "Iteration 130: Log-Likelihood = -549557.4590\n",
      "Iteration 131: Log-Likelihood = -549557.1788\n",
      "Iteration 132: Log-Likelihood = -549556.8918\n",
      "Iteration 133: Log-Likelihood = -549556.5976\n",
      "Iteration 134: Log-Likelihood = -549556.2963\n",
      "Iteration 135: Log-Likelihood = -549555.9875\n",
      "Iteration 136: Log-Likelihood = -549555.6713\n",
      "Iteration 137: Log-Likelihood = -549555.3473\n",
      "Iteration 138: Log-Likelihood = -549555.0154\n",
      "Iteration 139: Log-Likelihood = -549554.6755\n",
      "Iteration 140: Log-Likelihood = -549554.3274\n",
      "Iteration 141: Log-Likelihood = -549553.9709\n",
      "Iteration 142: Log-Likelihood = -549553.6059\n",
      "Iteration 143: Log-Likelihood = -549553.2321\n",
      "Iteration 144: Log-Likelihood = -549552.8494\n",
      "Iteration 145: Log-Likelihood = -549552.4576\n",
      "Iteration 146: Log-Likelihood = -549552.0566\n",
      "Iteration 147: Log-Likelihood = -549551.6461\n",
      "Iteration 148: Log-Likelihood = -549551.2260\n",
      "Iteration 149: Log-Likelihood = -549550.7960\n",
      "Iteration 150: Log-Likelihood = -549550.3561\n",
      "Iteration 151: Log-Likelihood = -549549.9059\n",
      "Iteration 152: Log-Likelihood = -549549.4453\n",
      "Iteration 153: Log-Likelihood = -549548.9742\n",
      "Iteration 154: Log-Likelihood = -549548.4922\n",
      "Iteration 155: Log-Likelihood = -549547.9993\n",
      "Iteration 156: Log-Likelihood = -549547.4953\n",
      "Iteration 157: Log-Likelihood = -549546.9798\n",
      "Iteration 158: Log-Likelihood = -549546.4528\n",
      "Iteration 159: Log-Likelihood = -549545.9141\n",
      "Iteration 160: Log-Likelihood = -549545.3634\n",
      "Iteration 161: Log-Likelihood = -549544.8005\n",
      "Iteration 162: Log-Likelihood = -549544.2253\n",
      "Iteration 163: Log-Likelihood = -549543.6376\n",
      "Iteration 164: Log-Likelihood = -549543.0371\n",
      "Iteration 165: Log-Likelihood = -549542.4237\n",
      "Iteration 166: Log-Likelihood = -549541.7972\n",
      "Iteration 167: Log-Likelihood = -549541.1574\n",
      "Iteration 168: Log-Likelihood = -549540.5041\n",
      "Iteration 169: Log-Likelihood = -549539.8370\n",
      "Iteration 170: Log-Likelihood = -549539.1561\n",
      "Iteration 171: Log-Likelihood = -549538.4612\n",
      "Iteration 172: Log-Likelihood = -549537.7520\n",
      "Iteration 173: Log-Likelihood = -549537.0284\n",
      "Iteration 174: Log-Likelihood = -549536.2902\n",
      "Iteration 175: Log-Likelihood = -549535.5372\n",
      "Iteration 176: Log-Likelihood = -549534.7694\n",
      "Iteration 177: Log-Likelihood = -549533.9864\n",
      "Iteration 178: Log-Likelihood = -549533.1882\n",
      "Iteration 179: Log-Likelihood = -549532.3746\n",
      "Iteration 180: Log-Likelihood = -549531.5454\n",
      "Iteration 181: Log-Likelihood = -549530.7006\n",
      "Iteration 182: Log-Likelihood = -549529.8400\n",
      "Iteration 183: Log-Likelihood = -549528.9634\n",
      "Iteration 184: Log-Likelihood = -549528.0708\n",
      "Iteration 185: Log-Likelihood = -549527.1619\n",
      "Iteration 186: Log-Likelihood = -549526.2368\n",
      "Iteration 187: Log-Likelihood = -549525.2953\n",
      "Iteration 188: Log-Likelihood = -549524.3374\n",
      "Iteration 189: Log-Likelihood = -549523.3628\n",
      "Iteration 190: Log-Likelihood = -549522.3717\n",
      "Iteration 191: Log-Likelihood = -549521.3639\n",
      "Iteration 192: Log-Likelihood = -549520.3393\n",
      "Iteration 193: Log-Likelihood = -549519.2980\n",
      "Iteration 194: Log-Likelihood = -549518.2398\n",
      "Iteration 195: Log-Likelihood = -549517.1648\n",
      "Iteration 196: Log-Likelihood = -549516.0730\n",
      "Iteration 197: Log-Likelihood = -549514.9643\n",
      "Iteration 198: Log-Likelihood = -549513.8388\n",
      "Iteration 199: Log-Likelihood = -549512.6965\n",
      "Iteration 200: Log-Likelihood = -549511.5375\n",
      "EM reached max_iter (200) without converging.\n",
      "\n",
      "   --- Learned GMM Parameters ---\n",
      "   Weights: [0.49938217 0.5006178 ]\n",
      "   Means:\n",
      "[[5.0221207  5.02779266]\n",
      " [5.02767564 5.01751287]]\n",
      "   Covariances:\n",
      "[[[26.07871615 25.01435814]\n",
      "  [25.01435814 25.8622201 ]]\n",
      "\n",
      " [[25.88318917 24.97327352]\n",
      "  [24.97327352 26.14212611]]]\n",
      "\n",
      "3. Predicting component assignments...\n",
      "   First 10 predicted assignments: [0 1 0 1 1 0 0 0 0 0]\n",
      "\n",
      "4. Plotting generated data and GMM components (requires matplotlib)...\n",
      "   Plot saved as 'gmm_plot.png' in the current directory.\n"
     ]
    },
    {
     "data": {
      "image/png": "[encoded data removed]",
      "text/plain": [
       "<Figure size 1000x800 with 2 Axes>"
      ]
     },
     "metadata": {},
     "output_type": "display_data"
    }
   ],
   "source": [
    "import numpy as np\n",
    "import matplotlib.pyplot as plt # For plotting, if you have it installed (pip install matplotlib)\n",
    "\n",
    "# Import the classes from your project files\n",
    "from data_generator import RandomDataGenerator\n",
    "from gmm_em import GMM_EM\n",
    "\n",
    "def main():\n",
    "    print(\"--- GMM Data Generation and EM Fitting Example ---\")\n",
    "\n",
    "    # 1. Generate Data\n",
    "    print(\"\\n1. Generating synthetic data...\")\n",
    "    # Use the RandomDataGenerator to create 100,000 samples from a GMM\n",
    "    data_gen = RandomDataGenerator()\n",
    "    X_generated = data_gen.generate_data()\n",
    "    print(f\"   Generated data shape: {X_generated.shape}\")\n",
    "    print(f\"   First 5 generated samples:\\n{X_generated[:5]}\")\n",
    "\n",
    "    # 2. Fit GMM using EM Algorithm\n",
    "    print(\"\\n2. Fitting GMM using EM algorithm...\")\n",
    "    # Initialize and fit the GMM_EM model with 2 components (matching the generator)\n",
    "    n_components_to_fit = 2\n",
    "    gmm_model = GMM_EM(n_components=n_components_to_fit, max_iter=200, tol=1e-5)\n",
    "    gmm_model.fit(X_generated)\n",
    "\n",
    "    print(\"\\n   --- Learned GMM Parameters ---\")\n",
    "    print(f\"   Weights: {gmm_model.weights}\")\n",
    "    print(f\"   Means:\\n{gmm_model.means}\")\n",
    "    print(f\"   Covariances:\\n{gmm_model.covariances}\")\n",
    "\n",
    "    # 3. Predict assignments\n",
    "    print(\"\\n3. Predicting component assignments...\")\n",
    "    predicted_assignments = gmm_model.predict(X_generated)\n",
    "    print(f\"   First 10 predicted assignments: {predicted_assignments[:10]}\")\n",
    "\n",
    "    # 4. (Optional) Visualization - Requires matplotlib\n",
    "    try:\n",
    "        if plt: # Check if matplotlib was imported successfully\n",
    "            print(\"\\n4. Plotting generated data and GMM components (requires matplotlib)...\")\n",
    "            plt.figure(figsize=(10, 8))\n",
    "            # Plot data points, colored by predicted assignment\n",
    "            plt.scatter(X_generated[:, 0], X_generated[:, 1], c=predicted_assignments, s=5, cmap='viridis', alpha=0.6)\n",
    "\n",
    "            # Plot learned GMM means\n",
    "            plt.scatter(gmm_model.means[:, 0], gmm_model.means[:, 1],\n",
    "                        s=300, marker='X', color='red', label='Learned Means', edgecolor='black')\n",
    "\n",
    "            plt.title('Generated Data with GMM Component Assignments')\n",
    "            plt.xlabel('Feature 1')\n",
    "            plt.ylabel('Feature 2')\n",
    "            plt.legend()\n",
    "            plt.grid(True, linestyle='--', alpha=0.7)\n",
    "            plt.colorbar(label='Component Assignment')\n",
    "\n",
    "            # --- NEW LINE TO SAVE THE PLOT ---\n",
    "            plt.savefig('gmm_plot.png')\n",
    "            print(\"   Plot saved as 'gmm_plot.png' in the current directory.\")\n",
    "            # --- END NEW LINE ---\n",
    "\n",
    "            plt.show() # This will still display the plot window if you have a GUI environment\n",
    "    except NameError:\n",
    "        print(\"   Matplotlib not found or failed to import. Skipping plot and save.\")\n",
    "    except Exception as e:\n",
    "        print(f\"   An error occurred during plotting or saving: {e}\")\n",
    "\n",
    "\n",
    "if __name__ == \"__main__\":\n",
    "    main()"
   ]
  },
  {
   "cell_type": "code",
   "execution_count": null,
   "id": "3b663c96-d54f-4788-a5cf-e2ddb3d47c1c",
   "metadata": {},
   "outputs": [],
   "source": [
    "git add run_gmm_example.py \n",
    "git commit -m \"feat: Add plot saving functionality\"\n",
    "git push -u origin feature/plot-saving    # because we are in the feature/plot-saving branch"
   ]
  },
  {
   "cell_type": "code",
   "execution_count": null,
   "id": "0972add4-51bd-4e2d-8e76-4e5599139f10",
   "metadata": {},
   "outputs": [],
   "source": [
    "# exact thing that we did in 6\n",
    "git checkout main # moving had to main\n",
    "git merge feature/plot-saving # merging\n",
    "git push origin main"
   ]
  },
  {
   "cell_type": "code",
   "execution_count": null,
   "id": "cd194c7f-71c0-4e0a-afb8-342c4ce841c0",
   "metadata": {},
   "outputs": [],
   "source": [
    "git tag -a V2.0 -m \"Release version 2.0 - Added plot saving functionality\""
   ]
  },
  {
   "cell_type": "code",
   "execution_count": null,
   "id": "0b2bd4e5-cb1e-47c0-8460-5489cb1e03ad",
   "metadata": {},
   "outputs": [],
   "source": [
    "git push origin V2.0"
   ]
  },
  {
   "cell_type": "code",
   "execution_count": null,
   "id": "6a465d29-f78d-48c2-8055-d034d6b91a95",
   "metadata": {},
   "outputs": [],
   "source": [
    "git log --oneline --decorate --graph --all"
   ]
  },
  {
   "cell_type": "raw",
   "id": "66a82677-5084-41e1-9785-aca93755586d",
   "metadata": {},
   "source": [
    "manojbnp@tellur:~/practice2/todomasterplan$ git log --oneline --decorate --graph --all\n",
    "\n",
    "* 21213a2 (HEAD -> main, tag: V2.0, origin/main, origin/feature/plot-saving, origin/HEAD, feature/plot-saving) feat: Add plot saving functionality\n",
    "* e7f8124 (tag: V1.0) feat: Add GMM data generation and EM fitting example script\n",
    "* 770e75b (origin/datagenerator, datagenerator) feat: Add GMM Expectation-Maximization (EM) algorithm\n",
    "* 717fb6a Add RandomDataGenerator class for GMM data\n",
    "* 70823fe Add initial 'Hello World' Python script\n",
    "* 679e543 Initial commit"
   ]
  },
  {
   "cell_type": "code",
   "execution_count": null,
   "id": "e1f3c1d9-eefc-4392-9906-7c32547d22fd",
   "metadata": {},
   "outputs": [],
   "source": [
    "python3 run_gmm_example.py"
   ]
  },
  {
   "cell_type": "raw",
   "id": "cbb507d2-13fb-4472-93ab-7f8f0ebbfba2",
   "metadata": {},
   "source": [
    "manojbnp@tellur:~/practice2/todomasterplan$ python3 run_gmm_example.py\n",
    "--- GMM Data Generation and EM Fitting Example ---\n",
    "\n",
    "1. Generating synthetic data...\n",
    "   Generated data shape: (100000, 2)\n",
    "   First 5 generated samples:\n",
    "[[ 8.64405104 11.3185099 ]\n",
    " [-2.39382967 -0.57429547]\n",
    " [-0.86096514  0.47387755]\n",
    " [ 9.62154486 10.41279465]\n",
    " [10.74684449  9.49784573]]\n",
    "\n",
    "2. Fitting GMM using EM algorithm...\n",
    "Iteration 1: Log-Likelihood = -549749.7970\n",
    "Iteration 2: Log-Likelihood = -549749.7927\n",
    ".\n",
    ".\n",
    ".\n",
    ".\n",
    ".\n",
    ".\n",
    ".\n",
    ".\n",
    "Iteration 200: Log-Likelihood = -549748.0095\n",
    "EM reached max_iter (200) without converging.\n",
    "\n",
    "   --- Learned GMM Parameters ---\n",
    "   Weights: [0.49937013 0.50062985]\n",
    "   Means:\n",
    "[[5.04417568 5.04094648]\n",
    " [5.00151103 4.9957434 ]]\n",
    "   Covariances:\n",
    "[[[26.0906671  24.99606493]\n",
    "  [24.99606493 25.89560421]]\n",
    "\n",
    " [[26.01679889 24.99375987]\n",
    "  [24.99375987 25.98203049]]]\n",
    "\n",
    "3. Predicting component assignments...\n",
    "   First 10 predicted assignments: [1 0 0 0 0 1 1 0 1 1]\n",
    "\n",
    "4. Plotting generated data and GMM components (requires matplotlib)...\n",
    "   Plot saved as 'gmm_plot.png' in the current directory."
   ]
  },
  {
   "cell_type": "code",
   "execution_count": null,
   "id": "56f06856-1b3d-4601-bdce-d1abf4f6fbe5",
   "metadata": {},
   "outputs": [],
   "source": [
    "ls"
   ]
  },
  {
   "cell_type": "raw",
   "id": "c90f5278-d257-41b7-a96e-dcb6f1b727d4",
   "metadata": {},
   "source": [
    "manojbnp@tellur:~/practice2/todomasterplan$ ls\n",
    "\n",
    "insgesamt 664K\n",
    "-rw-r--r-- 1 manojbnp user 2,5K  3. Jul 20:11 data_generator.py\n",
    "drwxr-xr-x 8 manojbnp user  326  3. Jul 21:14 .git\n",
    "-rw-r--r-- 1 manojbnp user 9,7K  3. Jul 20:11 gmm_em.py\n",
    "-rw-r--r-- 1 manojbnp user 152K  3. Jul 21:25 gmm_plot.png\n",
    "-rw-r--r-- 1 manojbnp user   21  3. Jul 18:45 main.py\n",
    "drwxr-xr-x 2 manojbnp user   88  3. Jul 20:35 __pycache__\n",
    "-rw-r--r-- 1 manojbnp user 6,1K  3. Jul 18:15 README.md\n",
    "-rw-r--r-- 1 manojbnp user 2,8K  3. Jul 21:14 run_gmm_example.py"
   ]
  },
  {
   "cell_type": "markdown",
   "id": "284c950b-bf67-42fb-8e39-69681b9f1117",
   "metadata": {},
   "source": [
    "See u can se the plot the in the list of files"
   ]
  },
  {
   "cell_type": "code",
   "execution_count": null,
   "id": "1d7c985f-daec-4980-9004-434370c8ed40",
   "metadata": {},
   "outputs": [],
   "source": []
  }
 ],
 "metadata": {
  "kernelspec": {
   "display_name": "Python [conda env:base] *",
   "language": "python",
   "name": "conda-base-py"
  },
  "language_info": {
   "codemirror_mode": {
    "name": "ipython",
    "version": 3
   },
   "file_extension": ".py",
   "mimetype": "text/x-python",
   "name": "python",
   "nbconvert_exporter": "python",
   "pygments_lexer": "ipython3",
   "version": "3.12.7"
  }
 },
 "nbformat": 4,
 "nbformat_minor": 5
}
